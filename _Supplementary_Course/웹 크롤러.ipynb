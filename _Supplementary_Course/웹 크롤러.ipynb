{
 "cells": [
  {
   "cell_type": "markdown",
   "metadata": {},
   "source": [
    "## 웹 크롤러(Web Crawler)\n",
    "- ### 자동화된 방법으로 웹(Web)에서 다양한 정보를 수집하는 소프트웨어"
   ]
  },
  {
   "cell_type": "markdown",
   "metadata": {},
   "source": [
    "### 나동빈 홈페이지에서 공지사항 가져오기 코드"
   ]
  },
  {
   "cell_type": "code",
   "execution_count": 8,
   "metadata": {},
   "outputs": [
    {
     "name": "stdout",
     "output_type": "stream",
     "text": [
      "자바 기초 프로그래밍 강좌를 완강했습니다.\n",
      "컴잘알에 오신 것을 환영합니다.\n"
     ]
    }
   ],
   "source": [
    "import requests\n",
    "from bs4 import BeautifulSoup\n",
    "\n",
    "request = requests.get('http://www.dowellcomputer.com/main.jsp')\n",
    "    # 특정 URL에 접속하는 요청 객체(Request Object)를 생성\n",
    "    \n",
    "html = request.text\n",
    "    # 접속한 이후의 웹 사이트 소스코드를 추출\n",
    "    \n",
    "soup = BeautifulSoup(html, 'html.parser')\n",
    "    # HTML 소스 코드를 파이썬 객체로 변환\n",
    "    \n",
    "links = soup.select('td>a')\n",
    "    # <a> 태그를 포함하는 요소를 추출\n",
    "    \n",
    "for link in links:\n",
    "    # 모든 링크에 하나씩 접근\n",
    "    \n",
    "    if link.has_attr('href'):\n",
    "            # 링크가 href 속성을 가지고 있다면:\n",
    "            \n",
    "            if link.get('href').find('notice') != -1:\n",
    "                # href 속성의 값으로 notice 라는 문자열이 포함되어 있다면:\n",
    "                \n",
    "                print(link.text)\n"
   ]
  },
  {
   "cell_type": "code",
   "execution_count": null,
   "metadata": {},
   "outputs": [],
   "source": []
  }
 ],
 "metadata": {
  "kernelspec": {
   "display_name": "Python 3",
   "language": "python",
   "name": "python3"
  },
  "language_info": {
   "codemirror_mode": {
    "name": "ipython",
    "version": 3
   },
   "file_extension": ".py",
   "mimetype": "text/x-python",
   "name": "python",
   "nbconvert_exporter": "python",
   "pygments_lexer": "ipython3",
   "version": "3.7.6"
  }
 },
 "nbformat": 4,
 "nbformat_minor": 4
}
