{
 "cells": [
  {
   "cell_type": "code",
   "execution_count": null,
   "metadata": {},
   "outputs": [],
   "source": [
    "# len(), sum(), range() 등은 내장함수로 분류된다\n",
    "    # range()는 제너레이터(파이썬의 시퀀스(를 생성하는 객체)\n",
    "# list object의 method 중에 count()로 특정 argument의 갯수를 반환 받을 수 있다\n",
    "    # list_name.count(element)"
   ]
  },
  {
   "cell_type": "code",
   "execution_count": null,
   "metadata": {},
   "outputs": [],
   "source": [
    "# 제너레이터의 일종인 range()를 재정의\n",
    "def my_range(start=0, end = 10, step=1):\n",
    "    num = start\n",
    "    while num < end:\n",
    "        yield num\n",
    "        num += step"
   ]
  },
  {
   "cell_type": "code",
   "execution_count": null,
   "metadata": {},
   "outputs": [],
   "source": [
    "# 함수 속의 함수 구현(lambda 함수 이용)\n",
    "def edit_story(words, func):\n",
    "    for word in words:\n",
    "        print(func(word))\n",
    "        \n",
    "def enliven(word):\n",
    "    return word.capitalize() + '!'\n",
    "\n",
    "stairs = ['thud', 'meow', 'thud', 'hiss']\n",
    "edit_story(stairs, lambda x: enliven(x) + ' ' + enliven(x) + ' ' + enliven(x))"
   ]
  },
  {
   "cell_type": "markdown",
   "metadata": {},
   "source": [
    "## 데커레이터"
   ]
  },
  {
   "cell_type": "code",
   "execution_count": null,
   "metadata": {},
   "outputs": [],
   "source": [
    "# 데커레이터\n",
    "    # 하나의 함수를 취해서 또 다른 함수를 반환하는 함수\n",
    "    \n",
    "def document_it(func):\n",
    "    def new_function(*args, **kwargs):\n",
    "        \n",
    "        print('Running function:', func.__name__)\n",
    "        print('Positional arguments:', args)\n",
    "        print('Keyword arguments:', kwargs)\n",
    "        \n",
    "        return func(*args, **kwargs)\n",
    "    return new_function\n",
    "\n",
    "# 수동 데커레이터\n",
    "def add_ints_1(a, b):\n",
    "    return a + b\n",
    "\n",
    "upgrade_add_ints = document_it(add_ints_1)\n",
    "upgrade_add_ints(6, 3)\n",
    "\n",
    "\n",
    "# @데커레이터 사용\n",
    "@document_it\n",
    "def add_ints_2(a, b):\n",
    "    return a + b\n",
    "\n",
    "add_ints(3, 4)"
   ]
  },
  {
   "cell_type": "markdown",
   "metadata": {},
   "source": [
    "### 에러 처리하기: try, except\n",
    "- #### 에러가 예상되는 코드에 try 문을 사용하고, 그 에러를 처리하기 위해 except 문을 사용한다.\n",
    "- #### try 블록 안에 코드를 실행 -> 에러 발생 -> 예외 발생 -> except 블록 안에 코드 실행\n",
    "    - #### 에러가 없다면 except 블록을 건너뛰다."
   ]
  },
  {
   "cell_type": "code",
   "execution_count": null,
   "metadata": {},
   "outputs": [],
   "source": [
    "short_list = [1, 2, 3, 4]\n",
    "position = 4\n",
    "try:\n",
    "    short_list[position]\n",
    "except:\n",
    "    print('NO! ERROR OCCUR!')"
   ]
  },
  {
   "cell_type": "markdown",
   "metadata": {},
   "source": [
    "## 클래스 선언"
   ]
  },
  {
   "cell_type": "code",
   "execution_count": null,
   "metadata": {},
   "outputs": [],
   "source": [
    "# __init__()\n",
    "# 객체 초기화 메서드\n",
    "# 이 메서드는 클래스의 정의로부터 객체를 초기화한다.\n",
    "# 클래스 내 메서드 정의시 첫 번째 매개변수는 self여야 한다.\n",
    "# 여기서 self 인자는 객체 자신을 가리킨다.\n",
    "# self 인자를 사용함으로써, 클래스 내 정의한 멤버에 접근할 수 있다\n",
    "# 인스턴스 변수의 가용 범위는 클래스 내 전체이다\n",
    "\n",
    "class Person(object):\n",
    "    def __init__(self, name):\n",
    "        self.name = name\n",
    "    def run(self, velocity_1):\n",
    "        self.velocity_1 = velocity_1\n",
    "        print('run with {} speed'.format(velocity_1))\n",
    "            # self.name의 변수를 run() 이라는 인스턴스 메서드에서 접근 가능하다\n",
    "    def walk(self, velocity_2):\n",
    "        self.run(self.velocity_1)\n",
    "        print('and walk {} speed'.format(velocity_2))\n",
    "            # 또한 self.run()이라는 인스턴스 메서드를 다른 메서드에서 접근 가능하다"
   ]
  },
  {
   "cell_type": "code",
   "execution_count": null,
   "metadata": {},
   "outputs": [],
   "source": [
    "me = Person('Kim')\n",
    "me.run(100)\n",
    "    # self.run()이라는 인스턴스 메서드를 실행해주어야 self.velocity_1 이라는 인스턴스 변수가 생성된다.\n",
    "me.walk(34)\n",
    "    # 위의 self.run() 메서드를 실행해주어야 self.walk() 메서드를 호출할 수 있다."
   ]
  },
  {
   "cell_type": "code",
   "execution_count": null,
   "metadata": {},
   "outputs": [],
   "source": [
    "# \"클래스 인스턴스 만들기\"는 함수 표기법을 사용합니다. 클래스 객체가 클래스의 새 인스턴스를 돌려주는 매개변수 없는 함수인 체합니다.\n",
    "runner = Person('Kim')\n",
    "\n",
    "# process. 위와 같은 인스턴스 생성 과정(코드 동작 과정)\n",
    "\n",
    "# 1. Person 클래스의 정의를 찾는다.\n",
    "# 2. 새 객체를 메모리에 초기화(생성)한다. c.f. 여기서 \"새 객체\"는 runner을 의미하지 않는다.\n",
    "# 3. 객체의 __init__ 메서드를 호출한다. 새롭게 생성된 객체를 self에 전달하고, 인자('Kim')을 name에 전달한다.\n",
    "# 4. 객체에 name 값을 저장한다.\n",
    "# 5. 새로운 객체를 반환한다.\n",
    "# 6. runner에 이 객체를 연결(바인딩)한다."
   ]
  },
  {
   "cell_type": "code",
   "execution_count": null,
   "metadata": {},
   "outputs": [],
   "source": [
    "# 클래스 객체의 두 가지 기능: 어트리뷰트 참조, 인스턴스 객체 생성\n",
    "Person.race\n",
    "Person.start_func\n",
    "Person.__doc__\n",
    "    # 어트리뷰트 참조의 예\n",
    "Kim = Person('Micheal')\n",
    "    # 인스턴스 생성의 예"
   ]
  },
  {
   "cell_type": "markdown",
   "metadata": {},
   "source": [
    "## 함수의 사용(호출)\n",
    "- #### 함수가 호출되면 실행의 흐름이 호출자(caller)에서 함수(callee)로 변경됨\n",
    "- #### 함수를 호출한 코드(caller)로 함수가 해당 기능을 수행하고 완료된 값(output)을 전달하기 위해 return 키워드 사용\n",
    "- #### 즉 return 이후에 나오는 값을 caller에 전달"
   ]
  },
  {
   "cell_type": "markdown",
   "metadata": {},
   "source": [
    "### ___c.f.___ parameter 와 argument"
   ]
  },
  {
   "cell_type": "code",
   "execution_count": null,
   "metadata": {},
   "outputs": [],
   "source": [
    "# parameter (매개변수)\n",
    "# 함수의 정의 부분에 나열되어 있는 변수(variable), 여기서는 plus 함수 정의시에 사용되는 a, b를 parameter(매개변수) 라고 한다.\n",
    "def plus(a, b):\n",
    "    return a + b\n",
    "\n",
    "# argument (전달인자, 인자)\n",
    "# 함수를 호출할때 전달 되는 실제 값, 여기서는 plus 라는 함수에 넣어주는 값(value) 1, 2를 argument(전달인자)라고 한다.\n",
    "result = plus(1, 2)"
   ]
  },
  {
   "cell_type": "markdown",
   "metadata": {},
   "source": [
    "## ___super___"
   ]
  },
  {
   "cell_type": "code",
   "execution_count": null,
   "metadata": {},
   "outputs": [],
   "source": [
    "class Person():\n",
    "    def __init__(self, name):\n",
    "        self.name = name\n",
    "        \n",
    "class EmailPerson(Person):\n",
    "    def __init__(self, name, email):\n",
    "        super().__init__(name)\n",
    "            # 자식 클래스에서 부모 클래스의 메서드를 호출하고 싶을 때\n",
    "            # Person 클래스의 정의가 변경되면 EmailPerson 클래스의 속성과 메서드에 변경사항이 반영된다.\n",
    "        self.email = email"
   ]
  },
  {
   "cell_type": "markdown",
   "metadata": {},
   "source": [
    "## Default parameter (기본 인자)"
   ]
  },
  {
   "cell_type": "code",
   "execution_count": null,
   "metadata": {},
   "outputs": [],
   "source": [
    "# print 함수: sep, end, file 등 여러 기본 파라미터를 가집\n",
    "    # print(value, ..., sep=' ', end='\\n', file=sys.stdout, ...)\n",
    "\n",
    "# Default parameter 사용 시 주의점\n",
    "    # Default parameter 뒤에 일반 파라미터가 위치할 수 없음\n",
    "        # def test(a, b, c=1)    O\n",
    "        # def test(a, b=1, c=1)  O\n",
    "        # def test(a, b=1, c)    X"
   ]
  },
  {
   "cell_type": "markdown",
   "metadata": {},
   "source": [
    "## Keyword parameter (키워드 인자)"
   ]
  },
  {
   "cell_type": "code",
   "execution_count": null,
   "metadata": {},
   "outputs": [],
   "source": [
    "# 파이썬의 경우, 인자(argument)를 매개변수(parameter)에 전달할 때, parameter의 이름을 명시하여 전달 가능\n",
    "# 파라미터의 이름을 사용하지 않을 경우, 기본적으로 순서에 맞게 전달"
   ]
  },
  {
   "cell_type": "code",
   "execution_count": null,
   "metadata": {},
   "outputs": [],
   "source": [
    "def test(x, y, z):\n",
    "    return x + y + z\n",
    "test(x=10, z=3, y=15)\n",
    "    # keyword parameter을 쓰려면 쭉 쓰고, 쓰지않으려면 아예 안쓰는 것을 추천(일관성 유지를 위해)"
   ]
  },
  {
   "cell_type": "markdown",
   "metadata": {},
   "source": [
    "## Return (리턴)"
   ]
  },
  {
   "cell_type": "code",
   "execution_count": null,
   "metadata": {},
   "outputs": [],
   "source": [
    "# 기본적으로 함수의 종료를 명시\n",
    "    # return 옆에 값이나 수식이 있다면 해당 값을 호출자(Caller, 콜러)에게 반환(전달)\n",
    "    # return 만 존재하면 'None' 반환\n",
    "    # return이 없는 경우, 기본적으로 해당 함수 코드 블록이 종료되면 종료로 간주, 이때도 None 반환"
   ]
  },
  {
   "cell_type": "code",
   "execution_count": null,
   "metadata": {},
   "outputs": [],
   "source": [
    "def weird_multiply(x, y):\n",
    "    if x > 10:\n",
    "        return x * y\n",
    "    \n",
    "    return (x + 2) * y\n",
    "    print('실행되지 않는 코드')\n",
    "        # 함수는 return문이 실행되면 종료된다"
   ]
  },
  {
   "cell_type": "code",
   "execution_count": null,
   "metadata": {},
   "outputs": [],
   "source": [
    "# multiple return (복수 값 반환)\n",
    "    # tuple 반환을 하여 복수 개의 값 리턴 가능\n",
    "    \n",
    "def add_mul(x, y):\n",
    "    sum = x + y\n",
    "    multi = x * y\n",
    "    return sum, multi\n",
    "\n",
    "var = add_mul(4, 5)\n",
    "print(\"var: {}, type(var): {}\".format(var, type(var)))\n",
    "    # var: (9, 20), type(var): <class 'tuple'>\n",
    "    # 여러 값을 반환하는 것 처럼 보이지만 '튜플'을 반환하는 것"
   ]
  },
  {
   "cell_type": "markdown",
   "metadata": {},
   "source": [
    "## variable length argument (가변 길이 인자)"
   ]
  },
  {
   "cell_type": "markdown",
   "metadata": {},
   "source": [
    "#### 전달되는 파라미터의 개수가 고정적이지 않은 경우 사용\n",
    "#### e.g)\n",
    "- #### print 함수\n",
    "- #### format 함수"
   ]
  },
  {
   "cell_type": "code",
   "execution_count": null,
   "metadata": {},
   "outputs": [],
   "source": [
    "# *args, **kwargs\n",
    "\n",
    "# *args : 파라미터를 튜플의 형태로 전달\n",
    "# **kwargs : 파라미터를 딕셔너리 형태로 전달(네임드 파라미터)\n",
    "\n",
    "def pseudo_print(*x):\n",
    "    for item in x:\n",
    "            # *를 붙이면 튜플로 인식하여 순회 가능 type(x) == <class 'tuple'>\n",
    "        print(item, end=' ')"
   ]
  },
  {
   "cell_type": "markdown",
   "metadata": {},
   "source": [
    "## keyword parameter (키워드 파라미터)"
   ]
  },
  {
   "cell_type": "code",
   "execution_count": null,
   "metadata": {},
   "outputs": [],
   "source": [
    "# ** 이 붙은 경우에는 키워드 파라미터로 인식 (Dict로 인식)\n",
    "# 즉 함수 호출 시, 파라미터의 이름과 값을 함께 전달 가능\n",
    "\n",
    "def test(**kwargs):\n",
    "    for key, value in kwargs.items():\n",
    "            # **를 붙이면 딕셔너리로 인식하여 순회 가능 type(x) == <class 'Dict'>\n",
    "        print('key: {}, value: {}'.format(key, value))\n",
    "        \n",
    "test(a=1, b=2, c=3, d=4)\n",
    "\n",
    "def test_2(**kwargs):\n",
    "    print(kwargs)\n",
    "    \n",
    "test_2(a=1, b=2, c=3, d=4)"
   ]
  },
  {
   "cell_type": "markdown",
   "metadata": {},
   "source": [
    "## 함수 연습문제"
   ]
  },
  {
   "cell_type": "code",
   "execution_count": null,
   "metadata": {},
   "outputs": [],
   "source": [
    "# Q1. 주어진 숫자 리스트의 평균을 구하는 함수를 출력하시오.\n",
    "def aver_list(input_list):\n",
    "    print(sum(input_list) / len(input_list))\n",
    "    return \n",
    "\n",
    "aver_list([1, 2, 3, 4, 5, 6, 7])\n",
    "\n",
    "# 풀이\n",
    "def mean(nums):\n",
    "    _sum = 0\n",
    "    for i in nums:\n",
    "        _sum += i\n",
    "    return _sum / len(nums)\n",
    "\n",
    "mean([1, 2, 3, 4, 5, 6, 7])"
   ]
  },
  {
   "cell_type": "code",
   "execution_count": null,
   "metadata": {},
   "outputs": [],
   "source": [
    "# Q2. 해당 숫자가 소수인지 판별하시오.\n",
    "def is_prime_num(num):\n",
    "    for i in range(2, num):\n",
    "        if num % i == 0:\n",
    "            return print('소수가 아닙니다')\n",
    "\n",
    "    print('소수입니다')\n",
    "    \n",
    "is_prime_num(13)\n",
    "    \n",
    "# 풀이\n",
    "# 출력: boolean (소수: True, 합성수: False)\n",
    "def is_prime(num):\n",
    "    # 파이썬에서 함수명이 is.. 로 시작되면 boolean 값을 리턴하는 경우가 많다\n",
    "    for i in range(2, num):\n",
    "        if num % i == 0:\n",
    "            return False\n",
    "    return True"
   ]
  },
  {
   "cell_type": "code",
   "execution_count": null,
   "metadata": {},
   "outputs": [],
   "source": [
    "# Q3. 2부터 해당 숫자 사이에 소수가 몇 개인지 출력하는 함수를 구하시오.\n",
    "def how_much_prime(num):\n",
    "    count = num - 1\n",
    "    for test_num in range(2, num):\n",
    "        for divid_num in range(2, test_num):\n",
    "            if test_num % divid_num == 0:\n",
    "                count -= 1\n",
    "                break\n",
    "        \n",
    "    return count\n",
    "\n",
    "\n",
    "# 풀이\n",
    "def how_much_prime_fc(num):\n",
    "    cnt = 0\n",
    "    for i in range(2, num + 1):\n",
    "        # 2 부터 해당 숫자(num)까지 포함해야 하므로 'num + 1'\n",
    "        if is_prime(i):\n",
    "            cnt += 1\n",
    "    return cnt\n",
    "\n",
    "print(how_much_prime(7))\n",
    "print(how_much_prime_fc(7))"
   ]
  },
  {
   "cell_type": "markdown",
   "metadata": {},
   "source": [
    "### * 임포트"
   ]
  },
  {
   "cell_type": "code",
   "execution_count": null,
   "metadata": {},
   "outputs": [],
   "source": [
    "# from Module_name import *\n",
    "\n",
    "# 해당 모듈내에 정의된 모든 것을 import\n",
    "# 일반적으로 사용이 권장되지 않음\n",
    "from numpy import *\n",
    "my_array = array([[1, 2, 3], [4, 5, 6], [7, 8, 9]])\n",
    "    # numpy \n",
    "    # numpy.array를 쓰지 않아도 된다\n",
    "    \n",
    "# c.f. 패키지는 모듈을 모아놓은 directory"
   ]
  },
  {
   "cell_type": "markdown",
   "metadata": {},
   "source": [
    "## Class(클래스) 와 Object(객체)\n",
    "- ### Class의 예: 'List' 라는 타입 (Class)\n",
    "    - #### 속성(attribute): Items\n",
    "    - #### 행동(method): append, extend, ...\n",
    "- ### Object의 예: [1, 2, 3], ['Hello', 'Bye'] 등 실제로 존재하는 객체 (Object)"
   ]
  },
  {
   "cell_type": "markdown",
   "metadata": {},
   "source": [
    "## method, static method 정의 및 사용\n",
    "### method 정의\n",
    "- #### 멤버함수라고도 하며, 해당 클래스의 object에서만 호출가능한 함수\n",
    "- #### 메서드는 객체 레벨에서 호출되며, 해당 객체의 속성에 대한 연산을 행함\n",
    "- #### Object_name.method() 의 형태로 호출"
   ]
  },
  {
   "cell_type": "code",
   "execution_count": null,
   "metadata": {},
   "outputs": [],
   "source": [
    "list_object = list()\n",
    "list_object.append('apple')\n",
    "    # List 라는 Class의 list_object 라는 인스턴스를 만들어 append 라는 메서드 호출"
   ]
  },
  {
   "cell_type": "code",
   "execution_count": null,
   "metadata": {},
   "outputs": [],
   "source": [
    "# 1. 숫자를 하나 증가\n",
    "# 2. 숫자를 0으로 초기화\n",
    "\n",
    "class Counter:\n",
    "    def __init__(self):\n",
    "        self.num = 0\n",
    "        \n",
    "    def increment(self):\n",
    "        self.num += 1 \n",
    "    \n",
    "    def reset(self):\n",
    "        self.num = 0\n",
    "    \n",
    "    def print_current_value(self):\n",
    "        print('현재값은: ', self.num)\n",
    "        \n",
    "c1 = Counter()\n",
    "\n",
    "c1.print_current_value()\n",
    "c1.increment()\n",
    "c1.increment()\n",
    "c1.print_current_value()\n",
    "c1.reset()\n",
    "c1.print_current_value()\n",
    "\n"
   ]
  },
  {
   "cell_type": "markdown",
   "metadata": {},
   "source": [
    "### Method Type\n",
    "- #### instance method - 객체로 호출\n",
    "    - ##### 메서드는 객체 레벨로 호출되기 때문에, 해당 메서드를 호출한 객체에만 영향을 미침\n",
    "- #### class method (static method) - Class로 호출\n",
    "    - ##### 클래스 메서드의 경우, 클래스 레벨로 호출되기 때문에, 클래스 멤버 변수만 변경 가능"
   ]
  },
  {
   "cell_type": "code",
   "execution_count": null,
   "metadata": {},
   "outputs": [],
   "source": [
    "# 일반적인 클래스의 경우\n",
    "class Math:\n",
    "    def add(self, a, b):\n",
    "        return a + b\n",
    "    \n",
    "    def multiply(self, a, b):\n",
    "        return a * b\n",
    "    \n",
    "m = Math()\n",
    "m.add(10, 20)\n",
    "m.multiply(10, 20)"
   ]
  },
  {
   "cell_type": "code",
   "execution_count": null,
   "metadata": {},
   "outputs": [],
   "source": [
    "# 클래스 메서드를 사용할 경우\n",
    "class Math:\n",
    "    @staticmethod\n",
    "    def add(a, b):\n",
    "        return a + b\n",
    "    \n",
    "    @staticmethod\n",
    "    def multiply(a, b):\n",
    "        return a * b\n",
    "    \n",
    "    # 위와 같이 @staticmethod 데커레이터를 달아주면 클래스 메서드가 된다\n",
    "    # 유틸리티성 클래스에서 클래스 메서드가 사용된다\n",
    "    # 기능을 하나의 단위로 묶고 싶을 때\n",
    "    # 내부적인 속성을 유지할 필요가 없을 때 클래스 메서드를 사용한다\n",
    "    \n",
    "Math.add(10, 20)\n",
    "Math.multiply(10, 20)"
   ]
  },
  {
   "cell_type": "code",
   "execution_count": null,
   "metadata": {},
   "outputs": [],
   "source": []
  }
 ],
 "metadata": {
  "kernelspec": {
   "display_name": "Python 3",
   "language": "python",
   "name": "python3"
  },
  "language_info": {
   "codemirror_mode": {
    "name": "ipython",
    "version": 3
   },
   "file_extension": ".py",
   "mimetype": "text/x-python",
   "name": "python",
   "nbconvert_exporter": "python",
   "pygments_lexer": "ipython3",
   "version": "3.7.6"
  }
 },
 "nbformat": 4,
 "nbformat_minor": 4
}
