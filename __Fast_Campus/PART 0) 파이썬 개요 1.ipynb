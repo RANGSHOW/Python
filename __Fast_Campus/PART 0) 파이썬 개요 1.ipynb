{
 "cells": [
  {
   "cell_type": "code",
   "execution_count": null,
   "metadata": {},
   "outputs": [],
   "source": [
    "a = 10\n",
    "    #  'a'라는 변수(variable)를 선언해서 '10'이라는 int object에 바인딩(할당)한다."
   ]
  },
  {
   "cell_type": "code",
   "execution_count": null,
   "metadata": {},
   "outputs": [],
   "source": [
    "print(a, a, sep='*', end='!')\n",
    "    # 'seq' paraemter를 입력하지 않으면 seq=' ' 가 default"
   ]
  },
  {
   "cell_type": "markdown",
   "metadata": {},
   "source": [
    "#### 기본 데이터 타입\n",
    "- ##### 정수형 (int)\n",
    "- ##### 실수형 (float)\n",
    "- ##### 문자열 (str)\n",
    "- ##### 불리언 (boolean)"
   ]
  },
  {
   "cell_type": "code",
   "execution_count": null,
   "metadata": {},
   "outputs": [],
   "source": [
    "empty_variable = None\n",
    "    # 특정값을 바인딩 하지 않고 변수를 선언할 때(아무 값도 가리키지 않고 있다)"
   ]
  },
  {
   "cell_type": "code",
   "execution_count": null,
   "metadata": {},
   "outputs": [],
   "source": [
    "var = 10\n",
    "print(globals()['var'])\n",
    "print(locals()['var'])\n",
    "    # global scope 에서 선언해도 locals() 함수로 value 출력가능"
   ]
  },
  {
   "cell_type": "code",
   "execution_count": null,
   "metadata": {},
   "outputs": [],
   "source": [
    "def my_max(array):\n",
    "    return reduce(lambda x, y: x if x > y else y, array)\n",
    "\n",
    "def my_len(array):\n",
    "    return reduce(lambda x, y: x + 1, array, 0)\n",
    "\n",
    "def my_map(func, array):\n",
    "    return reduce(lambda x, y: x + [func(y)], array, [])"
   ]
  },
  {
   "cell_type": "code",
   "execution_count": null,
   "metadata": {},
   "outputs": [],
   "source": [
    "my_range = range(1, 10)\n",
    "my_filter_1 = filter(lambda x: x % 2 is 0, my_range)\n",
    "my_filter_2 = filter(lambda x: x > 5, my_range)\n",
    "print(tuple(my_filter_1))\n",
    "print(tuple(my_filter_2))"
   ]
  },
  {
   "cell_type": "code",
   "execution_count": null,
   "metadata": {},
   "outputs": [],
   "source": [
    "a = range(1, 11)\n",
    "list_4 = [x * x for x in a if x % 1 == 1]"
   ]
  },
  {
   "cell_type": "code",
   "execution_count": null,
   "metadata": {},
   "outputs": [],
   "source": [
    "words = input().split()\n",
    "array = []\n",
    "for elem in words:\n",
    "    num = int(elem)\n",
    "    array.append(num)\n",
    "print(sum(array))"
   ]
  },
  {
   "cell_type": "code",
   "execution_count": null,
   "metadata": {},
   "outputs": [],
   "source": [
    "# 공백으로 분리된 정수를 입력받아 그 합을 구하는 프로그램\n",
    "from functools import reduce\n",
    "print(reduce(lambda x, y: x + y, [int(x) for x in input().split()]))\n",
    "    # reduce(lambda x, y: x + y, map(int, input().split()))\n",
    "    # print(sum([int(x), for x in input().split() if x.isdigit()]))"
   ]
  },
  {
   "cell_type": "code",
   "execution_count": null,
   "metadata": {},
   "outputs": [],
   "source": [
    "# [range(5)] 와 list(range(5))\n",
    "list_1 = [range(5)]\n",
    "list_2 = list(range(5))"
   ]
  },
  {
   "cell_type": "code",
   "execution_count": null,
   "metadata": {},
   "outputs": [],
   "source": [
    "my_tuple = 1, 2, 3, 4, 5, 6, 7, 9, 10\n",
    "print(my_tuple)"
   ]
  },
  {
   "cell_type": "code",
   "execution_count": null,
   "metadata": {},
   "outputs": [],
   "source": [
    "my_list = [str(x) for x in range(5)]\n",
    "print(my_list)"
   ]
  },
  {
   "cell_type": "code",
   "execution_count": null,
   "metadata": {},
   "outputs": [],
   "source": [
    "'and'.join(my_list)"
   ]
  },
  {
   "cell_type": "code",
   "execution_count": null,
   "metadata": {},
   "outputs": [],
   "source": [
    "my_pray = \"Courage to change the things I can change\"\n",
    "print(my_pray.startswith('Cou'))\n",
    "print(my_pray.startswith('Cou', 1, -1))"
   ]
  },
  {
   "cell_type": "markdown",
   "metadata": {},
   "source": [
    "### 구문(Statement)\n",
    "##### 인터프리터가 읽고 실행할 수 있는 논리적 명령어\n",
    "- #### 표현식(Expression)\n",
    "- #### 할당 구문(Assignment Statement)\n",
    "\n",
    "##### ___c.f.___ \"del\"은 리스트 함수가 아니라 구문(할당의 반대). 객체로부터 이름(label)을 분리하고, (이 이름이 객체의 마지막 바인딩이면) 객체의 메모리를 비워준다."
   ]
  },
  {
   "cell_type": "code",
   "execution_count": null,
   "metadata": {},
   "outputs": [],
   "source": [
    "# 언패킹시 특정값을 무시\n",
    "x, _, y = range(3)\n",
    "print(x, y)\n",
    "\n",
    "# 여러 값을 무시\n",
    "x, *_, y = range(5)\n",
    "print(x, y)\n",
    "\n",
    "# 특정 위치의 값을 무시\n",
    "for _, val in enumerate(range(4)):\n",
    "    print(val)"
   ]
  },
  {
   "cell_type": "markdown",
   "metadata": {},
   "source": [
    "### 문자열 포매팅"
   ]
  },
  {
   "cell_type": "code",
   "execution_count": null,
   "metadata": {},
   "outputs": [],
   "source": [
    "\"Error is %d%%\"%98\n",
    "\"%10s\"%'Hello'\n",
    "    # 오른쪽 정렬\n",
    "\"%-10sjane\"%'Hi'\n",
    "    #'Hi    jane'이 출력. Hi를 왼쪽 정렬하고 나머지 문자 출력\n",
    "\"%0.4f\"%3.141592\n",
    "\"%10.4f\"%3.141592\n",
    "\"I have %d %s\"%(3, 'apple')"
   ]
  },
  {
   "cell_type": "markdown",
   "metadata": {},
   "source": [
    "### 고급 문자열 포매팅"
   ]
  },
  {
   "cell_type": "code",
   "execution_count": null,
   "metadata": {},
   "outputs": [],
   "source": [
    "\"I have {number} {fruit}\".format(number=3, fruit='appple')\n",
    "    # format의 parameter 순서를 바꿔도 작동(둘 다 Keyword Argument라서)\n",
    "\"I have {number} {0}\".format('apple', number=3)\n",
    "    # 위치인자와 키워드인자를 혼용해도 된다. 하지만 키워드인자를 나중에 적는다\n",
    "\"{0:<10}\".format(\"Hello\")\n",
    "    # 왼쪽 정렬. 맨앞에 '0'을 안적어줘도 된다({:<10})\n",
    "\"{0:^10}\".format(\"Hello\")\n",
    "    # 가운데 정렬\n",
    "\"{0:=^10}\".format(\"Hello\")\n",
    "    # 가운데 정렬 후 빈칸을 '='로 채우기\n",
    "\"{0:10.4f}\".format(3.141592)\n",
    "    # '<', '>', '^' 를 지정하지 않으면 default로 오른쪽 정렬\n",
    "\"{{Hello}}\".format()\n",
    "    #'{Hello}'가 출력. '{' 또는 '}'를 문자 표현하기"
   ]
  },
  {
   "cell_type": "code",
   "execution_count": null,
   "metadata": {},
   "outputs": [],
   "source": [
    "print(bin(0b11011 & 0b00101))\n",
    "print(bin(0b11011 | 0b00101))\n",
    "print(bin(0b11011 ^ 0b00101))\n",
    "print(bin(~0b11011))\n",
    "print(bin(0b0011<<2))\n",
    "print(bin(0b0011<<1))\n",
    "print(bin(~0b1010))"
   ]
  },
  {
   "cell_type": "code",
   "execution_count": null,
   "metadata": {},
   "outputs": [],
   "source": [
    "a = '''Hello\n",
    "World'''\n",
    "    # 여러 줄에 걸칠 때 ''' '''를 이용\n",
    "b = 'HelloWorld'\n",
    "print(len(a), len(b))\n",
    "print(len('\\n'))"
   ]
  },
  {
   "cell_type": "markdown",
   "metadata": {},
   "source": [
    "##    if, for문 예제"
   ]
  },
  {
   "cell_type": "code",
   "execution_count": null,
   "metadata": {},
   "outputs": [],
   "source": [
    "# Q1. 구구단을 2 ~ 9단까지 출력하시오.\n",
    "for i in range(2, 10):\n",
    "    for j in range(1, 10):\n",
    "        print('{:2} X {:2} = {:2}'.format(i, j, i * j))\n",
    "        \n",
    "# 풀이\n",
    "x = 2\n",
    "while x <= 9:\n",
    "    y = 1\n",
    "    while y <= 9:\n",
    "        print(x, 'X', y, '=', x * y)\n",
    "        y += 1\n",
    "    x += 1"
   ]
  },
  {
   "cell_type": "code",
   "execution_count": null,
   "metadata": {},
   "outputs": [],
   "source": [
    "# Q2. 1 ~ 100까지 정수 중 2의 배수 또는 11의 배수를 출력하시오.\n",
    "for i in range(1, 101):\n",
    "    if i % 2 == 0 or i % 11 == 0:\n",
    "        print(i)\n",
    "    \n",
    "# 풀이\n",
    "nums = list(range(1, 101))\n",
    "for x in nums:\n",
    "    if x % 2 == 0 or i % 11 == 0:\n",
    "        print(i)"
   ]
  },
  {
   "cell_type": "code",
   "execution_count": 24,
   "metadata": {},
   "outputs": [
    {
     "name": "stdout",
     "output_type": "stream",
     "text": [
      "최대값: 99\n",
      "최대값: 99\n"
     ]
    }
   ],
   "source": [
    "# Q3, Q4. a가 아래와 같을 때 최대값과 평균을 구하시오.\n",
    "a = [22, 1, 3, 4, 7, 98, 21, 55, 87, 99, 19, 20, 45]\n",
    "\n",
    "# sort 리스트 메서드 사용시\n",
    "a.sort()\n",
    "    # type(a.sort()) == Nonetype\n",
    "print('최대값: {}'.format(a[-1]))\n",
    "\n",
    "# sorted 함수 사용시\n",
    "print('최대값: {}'.format(sorted(a)[-1]))\n",
    "    # type(sorted(a)) == list"
   ]
  },
  {
   "cell_type": "code",
   "execution_count": null,
   "metadata": {},
   "outputs": [],
   "source": [
    "# Q3.\n",
    "    # 처음 만나는 값을 최대값으로 가정\n",
    "    # 순회하며 더 큰 값이면 업데이트\n",
    "max_num = a[0]\n",
    "for num in a:\n",
    "    if num > max_num:\n",
    "        max_num = num\n",
    "print(max_num)"
   ]
  },
  {
   "cell_type": "code",
   "execution_count": null,
   "metadata": {},
   "outputs": [],
   "source": [
    "# Q4.\n",
    "sum = 0\n",
    "for num in a:\n",
    "    sum += num\n",
    "average = sum / len(a)\n",
    "print(average)"
   ]
  },
  {
   "cell_type": "markdown",
   "metadata": {},
   "source": [
    "#### == =>  바인딩 대상을 비교\n",
    "#### is => 값(value)를 비교"
   ]
  },
  {
   "cell_type": "code",
   "execution_count": 28,
   "metadata": {},
   "outputs": [
    {
     "name": "stdout",
     "output_type": "stream",
     "text": [
      "True\n",
      "True\n",
      "True\n",
      "True\n",
      "False\n",
      "False\n"
     ]
    }
   ],
   "source": [
    "a = b = [1, 2, 3]\n",
    "c = [1, 2, 3]\n",
    "\n",
    "print(a is b)\n",
    "print(a == b)\n",
    "\n",
    "print(a == c)\n",
    "print(b == c)\n",
    "print(a is c)\n",
    "print(b is c)"
   ]
  },
  {
   "cell_type": "code",
   "execution_count": null,
   "metadata": {},
   "outputs": [],
   "source": []
  }
 ],
 "metadata": {
  "kernelspec": {
   "display_name": "Python 3",
   "language": "python",
   "name": "python3"
  },
  "language_info": {
   "codemirror_mode": {
    "name": "ipython",
    "version": 3
   },
   "file_extension": ".py",
   "mimetype": "text/x-python",
   "name": "python",
   "nbconvert_exporter": "python",
   "pygments_lexer": "ipython3",
   "version": "3.7.6"
  }
 },
 "nbformat": 4,
 "nbformat_minor": 4
}
