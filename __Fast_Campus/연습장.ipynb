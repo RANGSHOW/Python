{
 "cells": [
  {
   "cell_type": "code",
   "execution_count": 8,
   "metadata": {},
   "outputs": [
    {
     "name": "stdout",
     "output_type": "stream",
     "text": [
      "단어 Rabbit의 회문은 tibbaR 입니다. -func1-\n",
      "단어 Rabbit의 길이는 6 입니다.\n"
     ]
    }
   ],
   "source": [
    "# 데커레이터 복습\n",
    "    # 수동 데커레이터\n",
    "    \n",
    "def reverse_word(func_argument):\n",
    "    def inner_func(args):\n",
    "        \n",
    "        result = ''\n",
    "        for i in range(1, len(args) + 1):\n",
    "            result += args[-i]\n",
    "        print('단어 {}의 회문은 {} 입니다. -func1-'.format(args, result))\n",
    "        \n",
    "        return func_argument(args)\n",
    "    return inner_func\n",
    "        # 'Rabbit'[::-1] == 'tibbaR'\n",
    "    \n",
    "\n",
    "def measure_length(words: str) -> int:\n",
    "    print('단어 {}의 길이는 {} 입니다.'.format(words, len(words)))\n",
    "\n",
    "decorated_func = reverse_word(measure_length)\n",
    "decorated_func('Rabbit')"
   ]
  },
  {
   "cell_type": "code",
   "execution_count": 1,
   "metadata": {},
   "outputs": [
    {
     "name": "stdout",
     "output_type": "stream",
     "text": [
      "단어 Raptimist의 회문은 tsimitpaR입니다\n",
      "단어 Raptimist의 길이는 9 입니다\n"
     ]
    }
   ],
   "source": [
    "    # 자동 데커레이터\n",
    "    \n",
    "def reverse_word_2(func_argument):\n",
    "    def inner_func(args):\n",
    "        \n",
    "        print('단어 {}의 회문은 {}입니다'.format(args, args[::-1]))\n",
    "        \n",
    "        return func_argument(args)\n",
    "    return inner_func\n",
    "\n",
    "@reverse_word_2\n",
    "def length(words):\n",
    "    print('단어 {}의 길이는 {} 입니다'.format(words, len(words)))\n",
    "    \n",
    "length('Raptimist')"
   ]
  },
  {
   "cell_type": "code",
   "execution_count": null,
   "metadata": {},
   "outputs": [],
   "source": [
    "class Animal(object):\n",
    "    '''One Head, Four Legs, Four Arms'''\n",
    "    race = 'human'\n",
    "    def start_func():\n",
    "        print('New Creator is born')\n",
    "        \n",
    "    def __init__(self, name):\n",
    "        self.name = name\n",
    "        \n",
    "    def __run__(self, speed):\n",
    "        self.run_speed = speed\n",
    "        print(\"{} is running with {} km/h.\".format(self.name, self.run_speed))\n",
    "\n",
    "    def __sleep__(self, hour):\n",
    "        self.sleep_hour = hour\n",
    "        print(\"{} is sleeping in {} hours\".format(self.name, self.sleep_hour))"
   ]
  },
  {
   "cell_type": "code",
   "execution_count": null,
   "metadata": {},
   "outputs": [],
   "source": [
    "Person.race\n",
    "Person.start_func\n",
    "Person.__doc__\n",
    "    # 어트리뷰트 참조의 예 (클래스 자체의 속성에 접근, 인스턴스 X)\n",
    "    \n",
    "Kim = Person('Micheal')\n",
    "    # 인스턴스 생성의 예"
   ]
  },
  {
   "cell_type": "markdown",
   "metadata": {},
   "source": [
    "## 'is' 와 '==' 비교"
   ]
  },
  {
   "cell_type": "code",
   "execution_count": null,
   "metadata": {},
   "outputs": [],
   "source": [
    "is\n",
    "identity 연산자\n",
    "reference comparison (참조 비교)\n",
    "\n",
    "==\n",
    "비교 연산자\n",
    "value comparison (값 비교)"
   ]
  },
  {
   "cell_type": "code",
   "execution_count": null,
   "metadata": {},
   "outputs": [],
   "source": [
    "a_list = [1, 2, 3]\n",
    "b_list = a_list\n",
    "c_list = [1, 2, 3]\n",
    "\n",
    "print(a_list == b_list)\n",
    "print(a_list is b_list)\n",
    "print(a_list == c_list)\n",
    "print(a_list is c_list)"
   ]
  },
  {
   "cell_type": "markdown",
   "metadata": {},
   "source": [
    "## 'and' 와 '&' 비교"
   ]
  },
  {
   "cell_type": "code",
   "execution_count": null,
   "metadata": {},
   "outputs": [],
   "source": [
    "and\n",
    "논리 연산자\n",
    "True, False 연산\n",
    "# x and y 가 있으면 x가 False면 x를 반환하고, x가 True면 y값을 반환\n",
    "\n",
    "&\n",
    "비교 연산자\n",
    "bitwise 연산자"
   ]
  },
  {
   "cell_type": "markdown",
   "metadata": {},
   "source": [
    "## 'or' 와 '|' 비교"
   ]
  },
  {
   "cell_type": "code",
   "execution_count": null,
   "metadata": {},
   "outputs": [],
   "source": [
    "or\n",
    "논리 연산자\n",
    "True, False 연산\n",
    "# x or y 가 있으면 x가 True면 x가 반환되고, x가 False면 y값을 반환\n",
    "\n",
    "|\n",
    "비교 연산자\n",
    "bitwise 연산자"
   ]
  },
  {
   "cell_type": "markdown",
   "metadata": {},
   "source": [
    "## 'not' 와 '~' 비교"
   ]
  },
  {
   "cell_type": "code",
   "execution_count": null,
   "metadata": {},
   "outputs": [],
   "source": [
    "not\n",
    "논리 연산자\n",
    "True, False 연산\n",
    "~\n",
    "비교 연산자\n",
    "bitwise 연산자"
   ]
  },
  {
   "cell_type": "code",
   "execution_count": 15,
   "metadata": {},
   "outputs": [
    {
     "name": "stdout",
     "output_type": "stream",
     "text": [
      "array([[1, 2, 3],\n",
      "       [4, 5, 6],\n",
      "       [7, 8, 9]])\n"
     ]
    }
   ],
   "source": [
    "import numpy as np\n",
    "from pprint import pprint\n",
    "pprint(np.array([[1, 2, 3], [4, 5, 6], [7, 8, 9]]))"
   ]
  },
  {
   "cell_type": "code",
   "execution_count": 12,
   "metadata": {},
   "outputs": [
    {
     "name": "stdout",
     "output_type": "stream",
     "text": [
      "['__iter__']\n"
     ]
    }
   ],
   "source": [
    "my_list = [1, 2, 3, 4]\n",
    "print([x for x in dir(list) if x.startswith('__iter__')])"
   ]
  },
  {
   "cell_type": "code",
   "execution_count": 13,
   "metadata": {},
   "outputs": [
    {
     "data": {
      "text/plain": [
       "['__add__',\n",
       " '__class__',\n",
       " '__contains__',\n",
       " '__delattr__',\n",
       " '__delitem__',\n",
       " '__dir__',\n",
       " '__doc__',\n",
       " '__eq__',\n",
       " '__format__',\n",
       " '__ge__',\n",
       " '__getattribute__',\n",
       " '__getitem__',\n",
       " '__gt__',\n",
       " '__hash__',\n",
       " '__iadd__',\n",
       " '__imul__',\n",
       " '__init__',\n",
       " '__init_subclass__',\n",
       " '__iter__',\n",
       " '__le__',\n",
       " '__len__',\n",
       " '__lt__',\n",
       " '__mul__',\n",
       " '__ne__',\n",
       " '__new__',\n",
       " '__reduce__',\n",
       " '__reduce_ex__',\n",
       " '__repr__',\n",
       " '__reversed__',\n",
       " '__rmul__',\n",
       " '__setattr__',\n",
       " '__setitem__',\n",
       " '__sizeof__',\n",
       " '__str__',\n",
       " '__subclasshook__',\n",
       " 'append',\n",
       " 'clear',\n",
       " 'copy',\n",
       " 'count',\n",
       " 'extend',\n",
       " 'index',\n",
       " 'insert',\n",
       " 'pop',\n",
       " 'remove',\n",
       " 'reverse',\n",
       " 'sort']"
      ]
     },
     "execution_count": 13,
     "metadata": {},
     "output_type": "execute_result"
    }
   ],
   "source": [
    "dir(list)"
   ]
  },
  {
   "cell_type": "code",
   "execution_count": 1,
   "metadata": {},
   "outputs": [],
   "source": [
    "# 처음 시작하는 파이썬 < 10장 - 시스템>"
   ]
  },
  {
   "cell_type": "code",
   "execution_count": 7,
   "metadata": {},
   "outputs": [
    {
     "name": "stderr",
     "output_type": "stream",
     "text": [
      "C:\\Users\\rangs\\anaconda3\\lib\\site-packages\\sklearn\\externals\\six.py:31: FutureWarning: The module is deprecated in version 0.21 and will be removed in version 0.23 since we've dropped support for Python 2.7. Please rely on the official version of six (https://pypi.org/project/six/).\n",
      "  \"(https://pypi.org/project/six/).\", FutureWarning)\n",
      "C:\\Users\\rangs\\anaconda3\\lib\\site-packages\\sklearn\\externals\\joblib\\__init__.py:15: FutureWarning: sklearn.externals.joblib is deprecated in 0.21 and will be removed in 0.23. Please import this functionality directly from joblib, which can be installed with: pip install joblib. If this warning is raised when loading pickled models, you may need to re-serialize those models with scikit-learn 0.21+.\n",
      "  warnings.warn(msg, category=FutureWarning)\n"
     ]
    }
   ],
   "source": [
    "import numpy as np\n",
    "import pandas as pd\n",
    "import mglearn\n",
    "import sklearn"
   ]
  },
  {
   "cell_type": "code",
   "execution_count": null,
   "metadata": {},
   "outputs": [],
   "source": []
  }
 ],
 "metadata": {
  "kernelspec": {
   "display_name": "Python 3",
   "language": "python",
   "name": "python3"
  },
  "language_info": {
   "codemirror_mode": {
    "name": "ipython",
    "version": 3
   },
   "file_extension": ".py",
   "mimetype": "text/x-python",
   "name": "python",
   "nbconvert_exporter": "python",
   "pygments_lexer": "ipython3",
   "version": "3.7.6"
  }
 },
 "nbformat": 4,
 "nbformat_minor": 4
}
