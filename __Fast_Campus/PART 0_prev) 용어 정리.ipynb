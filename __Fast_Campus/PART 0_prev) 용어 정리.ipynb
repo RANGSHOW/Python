{
 "cells": [
  {
   "cell_type": "markdown",
   "metadata": {},
   "source": [
    "### 시퀀스 객체 (sequence object)\n",
    "- #### 요소의 순서가 정해져있고 연속적으로 이어져있는 객체  "
   ]
  },
  {
   "cell_type": "markdown",
   "metadata": {},
   "source": [
    "### 반복 가능한 객체 (iterable object)\n",
    "- #### list, tuple, range, string 등의 시퀀스 객체 뿐만 아니라 dict, set 과 같은 요소의 순서가 없는 객체도 포함한다\n",
    "- #### iterable object 는 'DunderiterDunder' 메소드가 있는 iterator 후보생  "
   ]
  },
  {
   "cell_type": "markdown",
   "metadata": {},
   "source": [
    "### 이터레이터 (iterator, 반복자)\n",
    "- #### 값을 차례로 꺼낼 수 있는 객체(Object)이다  "
   ]
  },
  {
   "cell_type": "markdown",
   "metadata": {},
   "source": [
    "### 제너레이터 (generator, 발생자)\n",
    "- #### 시퀀스 객체를 생성하는 객체 ex) range()\n",
    "- #### iterator를 생성하는 함수"
   ]
  },
  {
   "cell_type": "markdown",
   "metadata": {},
   "source": [
    "### 매개변수 (parameter)\n",
    "- #### 함수의 정의 부분에 나열되어 있는 변수(variable), 여기서는 plus 함수 정의시에 사용되는 a, b를 parameter(매개변수) 라고 한다."
   ]
  },
  {
   "cell_type": "code",
   "execution_count": null,
   "metadata": {},
   "outputs": [],
   "source": [
    "def plus(a, b):\n",
    "  return a + b"
   ]
  },
  {
   "cell_type": "markdown",
   "metadata": {},
   "source": [
    "### 전달인자 (argument, 인자)\n",
    "- #### 함수를 호출할때 전달 되는 실제 값, 여기서는 plus 라는 함수에 넣어주는 값(value) 1, 2를 argument(전달인자)라고 한다."
   ]
  },
  {
   "cell_type": "code",
   "execution_count": null,
   "metadata": {},
   "outputs": [],
   "source": [
    "result = plus(1, 2)"
   ]
  },
  {
   "cell_type": "markdown",
   "metadata": {},
   "source": [
    "### 어트리뷰트 (attribute)\n",
    "- #### 클래스 내부에 포함되어있는 변수나 함수(메서드) 등을 의미한다"
   ]
  },
  {
   "cell_type": "markdown",
   "metadata": {},
   "source": [
    "## 클래스 객체는 두 가지 연산이 가능하다\n",
    "- ### 어트리뷰트 참조 (attribute reference)\n",
    "    - #### 클래스 내부의 변수나 함수에 접근하는 것을 의미한다\n",
    "    - #### 변수인 경우 \"클래스이름.어트리뷰트이름\"으로 접근 가능하다\n",
    "    - #### classname.variable\n",
    "    - #### 함수(메서드)인 경우 \"클래스이름.어트리뷰트이름(인자)\"로 접근 가능하다\n",
    "    - #### classname.function(argument)\n",
    "    - #### 독스트링이 있다면 ClassName.DunderdocDunder 도 가능하다\n",
    "- ### 인트턴스 객체 생성 (instance)\n",
    "    - #### \"인스턴스 객체 이름 = 클래스 객체 이름\"으로 인스턴스 객체를 생성할 수 있다\n",
    "    - #### instance_name = ClassName()"
   ]
  },
  {
   "cell_type": "markdown",
   "metadata": {},
   "source": [
    "### 생성자 (Constructor)"
   ]
  },
  {
   "cell_type": "code",
   "execution_count": null,
   "metadata": {},
   "outputs": [],
   "source": [
    "def __init__(self, args)\n",
    "    # 객체가 생성될 때 호출되며, 값을 초기화한다."
   ]
  },
  {
   "cell_type": "markdown",
   "metadata": {},
   "source": [
    "### 소멸자 (Destructor)"
   ]
  },
  {
   "cell_type": "code",
   "execution_count": null,
   "metadata": {},
   "outputs": [],
   "source": [
    "def __del__(self)\n",
    "    # 객체가 소멸될 때 호출된다."
   ]
  }
 ],
 "metadata": {
  "kernelspec": {
   "display_name": "Python 3",
   "language": "python",
   "name": "python3"
  },
  "language_info": {
   "codemirror_mode": {
    "name": "ipython",
    "version": 3
   },
   "file_extension": ".py",
   "mimetype": "text/x-python",
   "name": "python",
   "nbconvert_exporter": "python",
   "pygments_lexer": "ipython3",
   "version": "3.7.6"
  }
 },
 "nbformat": 4,
 "nbformat_minor": 4
}
