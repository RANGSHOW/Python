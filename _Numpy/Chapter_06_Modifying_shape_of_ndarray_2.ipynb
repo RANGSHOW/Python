{
 "cells": [
  {
   "cell_type": "code",
   "execution_count": 2,
   "metadata": {},
   "outputs": [],
   "source": [
    "import numpy as np"
   ]
  },
  {
   "cell_type": "markdown",
   "metadata": {},
   "source": [
    "## __Shape 변경__"
   ]
  },
  {
   "cell_type": "markdown",
   "metadata": {},
   "source": [
    "### numpy.reshape()\n",
    " - ##### ___Gives a new shape___ to an array without changing its data."
   ]
  },
  {
   "cell_type": "code",
   "execution_count": 10,
   "metadata": {},
   "outputs": [
    {
     "name": "stdout",
     "output_type": "stream",
     "text": [
      "[[0 1]\n",
      " [2 3]\n",
      " [4 5]]\n"
     ]
    }
   ],
   "source": [
    "arr = np.arange(6).reshape((3, 2))\n",
    "print(arr)"
   ]
  },
  {
   "cell_type": "code",
   "execution_count": 8,
   "metadata": {},
   "outputs": [],
   "source": [
    "np.reshape(arr, (2, 3))"
   ]
  },
  {
   "cell_type": "code",
   "execution_count": 11,
   "metadata": {},
   "outputs": [
    {
     "data": {
      "text/plain": [
       "array([[0, 1, 2, 3, 4, 5]])"
      ]
     },
     "execution_count": 11,
     "metadata": {},
     "output_type": "execute_result"
    }
   ],
   "source": [
    "np.reshape(arr, (1, 6))    #[[0, 1, 2, 3, 4, 5]]\n",
    "    # 1행 6열의 다차원 배열이 나왔다 (2차원)\n",
    "    # 귀찮아도 이렇게 적는 것이 차원을 낮추지 않는 방법이다"
   ]
  },
  {
   "cell_type": "code",
   "execution_count": 12,
   "metadata": {},
   "outputs": [
    {
     "data": {
      "text/plain": [
       "array([0, 1, 2, 3, 4, 5])"
      ]
     },
     "execution_count": 12,
     "metadata": {},
     "output_type": "execute_result"
    }
   ],
   "source": [
    "np.reshape(arr, 6)    #[0, 1, 2, 3, 4, 5]\n",
    "    # 6열의 1차원 배열이 나왔다"
   ]
  },
  {
   "cell_type": "markdown",
   "metadata": {},
   "source": [
    "### numpy.ravel()\n",
    " - ##### Return a ___contiguous flatted array.___\n",
    " - ##### Neuron Network 학습시, 1차원으로 변환하여 넣어준다"
   ]
  },
  {
   "cell_type": "code",
   "execution_count": 13,
   "metadata": {},
   "outputs": [],
   "source": [
    "np.ravel(arr)    # [0, 1, 2, 3, 4, 5]\n",
    "    # 1차원의 선형 행렬로 만들어준다"
   ]
  },
  {
   "cell_type": "code",
   "execution_count": 14,
   "metadata": {},
   "outputs": [],
   "source": [
    "arr.ravel()    # [0, 1, 2, 3, 4, 5]\n",
    "    # 위와 동일한 결과"
   ]
  },
  {
   "cell_type": "markdown",
   "metadata": {},
   "source": [
    " - ##### NumPy 모듈 안의 ravel 함수로 사용할 수도 있고  \n",
    " - ##### ndarray type 안에 있는 ravel 메서드로도 사용할 수 있다"
   ]
  },
  {
   "cell_type": "markdown",
   "metadata": {},
   "source": [
    "### numpy.ndarray.flatten()\n",
    " - ##### Return a copy of the array collapsed into one dimension."
   ]
  },
  {
   "cell_type": "code",
   "execution_count": 19,
   "metadata": {},
   "outputs": [
    {
     "data": {
      "text/plain": [
       "array([0, 1, 2, 3, 4, 5])"
      ]
     },
     "execution_count": 19,
     "metadata": {},
     "output_type": "execute_result"
    }
   ],
   "source": [
    "# np.flatten(arr)    # NumPy 모듈 함수가 아니다\n",
    "arr.flatten()    # ndarray 객체의 메소드로만 사용 가능"
   ]
  },
  {
   "cell_type": "markdown",
   "metadata": {},
   "source": [
    "### ravel() 과 flatten() 의 차이점\n",
    " - #### ravel() 은 뷰를 반환(reference, 값을 참조해서 반환)  \n",
    " - #### flatten() 은 복사본을 반환(value duplicate, 값을 복사해서 반환)\n",
    " - #### flatten() 은 객체의 메서드로만 사용가능"
   ]
  },
  {
   "cell_type": "markdown",
   "metadata": {},
   "source": [
    "## __연결__"
   ]
  },
  {
   "cell_type": "markdown",
   "metadata": {},
   "source": [
    "### numpy.concatenate()"
   ]
  },
  {
   "cell_type": "code",
   "execution_count": 21,
   "metadata": {},
   "outputs": [],
   "source": [
    "arr_1 = np.array([[1, 2], [3, 4]])\n",
    "arr_2 = np.array([[5, 6]])"
   ]
  },
  {
   "cell_type": "code",
   "execution_count": 22,
   "metadata": {
    "collapsed": true,
    "jupyter": {
     "outputs_hidden": true
    }
   },
   "outputs": [
    {
     "data": {
      "text/plain": [
       "array([[1, 2],\n",
       "       [3, 4],\n",
       "       [5, 6]])"
      ]
     },
     "execution_count": 22,
     "metadata": {},
     "output_type": "execute_result"
    }
   ],
   "source": [
    "np.concatenate((arr_1, arr_2), axis=0)    # axis=0이면 row를 따라 순회하므로 새로운 row를 만든다\n",
    "    # array([[1, 2],\n",
    "    #        [3, 4],\n",
    "    #        [5, 6]])"
   ]
  },
  {
   "cell_type": "code",
   "execution_count": 27,
   "metadata": {
    "collapsed": true,
    "jupyter": {
     "outputs_hidden": true
    }
   },
   "outputs": [],
   "source": [
    "np.concatenate((arr_1, arr_2.T), axis=1)     # shape를 맞추기 위해서 arr_2를 Transpose 했다 \n",
    "    # 1차원은 Transpose가 안되지만 arr_2.shape은 (2, 1)로 2차원이\n",
    "    # array([[1, 2, 5],\n",
    "    #        [3, 4, 6]])"
   ]
  },
  {
   "cell_type": "code",
   "execution_count": 35,
   "metadata": {},
   "outputs": [
    {
     "data": {
      "text/plain": [
       "array([[1],\n",
       "       [2]])"
      ]
     },
     "execution_count": 35,
     "metadata": {},
     "output_type": "execute_result"
    }
   ],
   "source": [
    "# 인덱싱 후 Transpose\n",
    "arr_1[0].T    # 1차원에서 Transpose 하면 변화가 없다\n",
    "arr_1[0:1].T    # 이렇게 slicing을 해야한다"
   ]
  },
  {
   "cell_type": "markdown",
   "metadata": {},
   "source": [
    "#### 참조 (https://docs.scipy.org/doc/numpy/reference/routines.array-manipulation.html#joining-arrays)"
   ]
  },
  {
   "cell_type": "markdown",
   "metadata": {},
   "source": [
    "#### Q1. x가 10X10X3 의 다차원 배열일 때, x의 두번째 차원이 150인 2차원 배열이 되도록 reshape 하세요."
   ]
  },
  {
   "cell_type": "code",
   "execution_count": 46,
   "metadata": {
    "jupyter": {
     "source_hidden": true
    }
   },
   "outputs": [],
   "source": [
    "x = np.zeros((10, 10, 3), dtype='int') # 10pages, 10rows, 3cols\n",
    "x.reshape((2, 150))"
   ]
  },
  {
   "cell_type": "markdown",
   "metadata": {},
   "source": [
    "#### Q2. x가 [[1, 2, 3], [4, 5, 6]] 일 때, [1 4 2 5 3 6] 으로 변환하세요"
   ]
  },
  {
   "cell_type": "code",
   "execution_count": 51,
   "metadata": {
    "jupyter": {
     "source_hidden": true
    }
   },
   "outputs": [],
   "source": [
    "x = np.array([[1, 2, 3], [4, 5, 6]])\n",
    "    # x.T.ravel() == np.ravel(x.T) == x.T.flatten()"
   ]
  },
  {
   "cell_type": "markdown",
   "metadata": {},
   "source": [
    "#### Q3. x가 [[1, 2, 3], [4, 5, 6]] 일 때, flatten한 후, 다섯 번째 원소를 가져오세요."
   ]
  },
  {
   "cell_type": "code",
   "execution_count": 56,
   "metadata": {
    "collapsed": true,
    "jupyter": {
     "outputs_hidden": true
    }
   },
   "outputs": [
    {
     "data": {
      "text/plain": [
       "6"
      ]
     },
     "execution_count": 56,
     "metadata": {},
     "output_type": "execute_result"
    }
   ],
   "source": [
    "x = np.array([[1, 2, 3], [4, 5, 6]])\n",
    "x.flatten()[5]"
   ]
  },
  {
   "cell_type": "markdown",
   "metadata": {},
   "source": [
    "#### Q4. x = [[1, 2, 3], [4, 5, 6]] , y = [[7, 8, 9], [10, 11, 12]] 일 때,\n",
    "#### x와 y를 연결하여 [[1, 2, 3, 7, 8, 9], [4, 5, 6, 10, 11, 12]]를 만드세요."
   ]
  },
  {
   "cell_type": "markdown",
   "metadata": {
    "jupyter": {
     "source_hidden": true
    }
   },
   "source": [
    "x = np.array([[1, 2, 3], [4, 5, 6]])\n",
    "y = np.array([[7, 8, 9], [10, 11, 12]])\n",
    "np.concatenate((x, y), axis=1)"
   ]
  },
  {
   "cell_type": "markdown",
   "metadata": {},
   "source": [
    "#### Q5. x가 [0, 1, 2]일 때, [0, 0, 1, 1, 2, 2]를 생성하세요"
   ]
  },
  {
   "cell_type": "code",
   "execution_count": 71,
   "metadata": {
    "collapsed": true,
    "jupyter": {
     "outputs_hidden": true,
     "source_hidden": true
    }
   },
   "outputs": [
    {
     "data": {
      "text/plain": [
       "array([0, 0, 1, 1, 2, 2])"
      ]
     },
     "execution_count": 71,
     "metadata": {},
     "output_type": "execute_result"
    }
   ],
   "source": [
    "x = np.array([0, 1, 2])\n",
    "np.repeat(x, 2)"
   ]
  },
  {
   "cell_type": "markdown",
   "metadata": {},
   "source": [
    "#### Q6. x가 [0, 0, 0, 1, 2, 3, 0, 2, 1, 0] 일 때, 앞, 뒤의 0을 제거하세요."
   ]
  },
  {
   "cell_type": "code",
   "execution_count": 76,
   "metadata": {},
   "outputs": [
    {
     "data": {
      "text/plain": [
       "array([1, 2, 3, 0, 2, 1])"
      ]
     },
     "execution_count": 76,
     "metadata": {},
     "output_type": "execute_result"
    }
   ],
   "source": [
    "x = np.array([0, 0, 0, 1, 2, 3, 0, 2, 1, 0])\n",
    "x[3:-1]\n",
    "    # np.trim_zeros(x)    #Deep Learning에서 사용한다"
   ]
  },
  {
   "cell_type": "markdown",
   "metadata": {},
   "source": [
    "## __다차원 배열 연산__"
   ]
  },
  {
   "cell_type": "markdown",
   "metadata": {},
   "source": [
    "### 기본적인 수학함수는 배열의 각 요소별로 동작하며 연산자를 통해 동작하거나 NumPy 함수 모듈을 통해 작동합니다.  \n",
    "### 다차원 배열간 연산시, shape가 맞아야 연산이 이루어집니다.\n",
    " - #### 요소별 합, 차, 곱, 나누기의 경우 shape가 일치해야 합니다.\n",
    " - #### dor의 경우, 앞 배열의 열과 뒤 배열의 행의 크기가 일치하여야 합니다.\n",
    "참고(https://docs.scipy.org/doc/numpy/reference/routines.math.html)"
   ]
  },
  {
   "cell_type": "code",
   "execution_count": 82,
   "metadata": {},
   "outputs": [],
   "source": [
    "x = np.array([[1., 2.], [3., 4.]])\n",
    "y = np.array([[5., 6.], [7., 8.]])\n",
    "\n",
    "# 요소별 합: 둘 다 다음의 배열을 만듭니다.\n",
    "# [[ 6.0  8,0]\n",
    "#  [10.0 12.0]])\n",
    "print(x + y)\n",
    "print(np.add(x, y))\n",
    "\n",
    "# 요소 별 차: 둘 다 다음의 배열을 만듭니다.\n",
    "# [[-4.0 -4.0]\n",
    "#  [-4.0 -4.0]]\n",
    "print(x - y)\n",
    "print(np.subtract(x, y))\n",
    "\n",
    "# 요소 별 곱: 둘 다 다음의 배열을 만듭니다.\n",
    "# [[ 5.0 12.0]\n",
    "#  [21.0 32.0]]\n",
    "print(x * y)\n",
    "print(np.multiply(x, y))\n",
    "\n",
    "# 요소 별 나누기: 둘 다 다음의 배열을 만듭니다.\n",
    "# y의 요소 중 0이 있으면 오류가 발생한다.\n",
    "# [[0.2        0.33333333]\n",
    "#  [0.42857143 0.5       ]]\n",
    "print(x / y)    \n",
    "print(np.divide(x, y))\n",
    "\n",
    "# 요소 별 제곱근: 다음의 배열을 만듭니다.\n",
    "# [[1.         1.41421356]\n",
    "#  [1.73205081 2.        ]]\n",
    "print(np.sqrt(x))"
   ]
  },
  {
   "cell_type": "markdown",
   "metadata": {},
   "source": [
    "#### NumPy 에선 벡터의 내적, 벡터와 행렬의 곱, 행렬곱을 위해 * 대신 dot 함수를 사용합니다.\n",
    "#### dot 은 NumPy 모듈 함수로서도 배열 객체의 메소드로서도 이용이 가능한 함수입니다."
   ]
  },
  {
   "cell_type": "code",
   "execution_count": 93,
   "metadata": {},
   "outputs": [
    {
     "name": "stdout",
     "output_type": "stream",
     "text": [
      "219\n",
      "219\n",
      "[29 67]\n",
      "[29 67]\n",
      "[[19 22]\n",
      " [43 50]]\n",
      "[[19 22]\n",
      " [43 50]]\n"
     ]
    }
   ],
   "source": [
    "x = np.array([[1, 2], [3, 4]])\n",
    "y = np.array([[5, 6], [7, 8]])\n",
    "\n",
    "v = np.array([9, 10])    # 1차원 다차원 배열 == 벡터\n",
    "w = np.array([11, 12])    # 1차원 다차원 배열 == 벡터\n",
    "\n",
    "# 벡터의 내적: 둘 다 결과는 219\n",
    "print(v.dot(w))\n",
    "print(np.dot(v, w))\n",
    "\n",
    "# 행렬과 벡터의 곱: 둘 다 결과는 dimension 1인 배열 [29 67]\n",
    "print(x.dot(v))\n",
    "print(np.dot(x, v))\n",
    "\n",
    "# 행렬 곱: 둘 다 결과는 dimension 2인 배열\n",
    "# [[19 22]\n",
    "#  [43 50]]\n",
    "print(x.dot(y))\n",
    "print(np.dot(x, y))"
   ]
  }
 ],
 "metadata": {
  "kernelspec": {
   "display_name": "Python 3",
   "language": "python",
   "name": "python3"
  },
  "language_info": {
   "codemirror_mode": {
    "name": "ipython",
    "version": 3
   },
   "file_extension": ".py",
   "mimetype": "text/x-python",
   "name": "python",
   "nbconvert_exporter": "python",
   "pygments_lexer": "ipython3",
   "version": "3.7.6"
  }
 },
 "nbformat": 4,
 "nbformat_minor": 4
}
