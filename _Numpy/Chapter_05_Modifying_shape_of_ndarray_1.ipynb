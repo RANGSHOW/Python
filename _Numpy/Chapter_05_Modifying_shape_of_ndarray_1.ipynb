{
 "cells": [
  {
   "cell_type": "code",
   "execution_count": 1,
   "metadata": {},
   "outputs": [],
   "source": [
    "import numpy as np"
   ]
  },
  {
   "cell_type": "markdown",
   "metadata": {},
   "source": [
    "# 다차원 배열 다루기 2"
   ]
  },
  {
   "cell_type": "markdown",
   "metadata": {},
   "source": [
    "## Slicing(슬라이싱)\n",
    " - #### Numpy 배열을 슬라이싱하면, 연속된 값을 가져오기에 결과로 얻어지는 배열은 언제나 원본 배열의 부분 배열이다."
   ]
  },
  {
   "cell_type": "code",
   "execution_count": 6,
   "metadata": {},
   "outputs": [],
   "source": [
    "arr = np.array([[1, 2, 3, 4], [5, 6, 7, 8], [9, 10, 11, 12]])"
   ]
  },
  {
   "cell_type": "markdown",
   "metadata": {},
   "source": [
    "### arr[ :    ,    :    ]\n",
    "### arr[ ___row start : row end , col start : col end___ ]\n",
    " - #### 인덱스 ___start___ ~  ___end - 1___ 까지 슬라이싱한다 (list, str, tuple slicing 과 동일)"
   ]
  },
  {
   "cell_type": "code",
   "execution_count": 13,
   "metadata": {},
   "outputs": [
    {
     "data": {
      "text/plain": [
       "array([[1, 2, 3, 4],\n",
       "       [5, 6, 7, 8]])"
      ]
     },
     "execution_count": 13,
     "metadata": {},
     "output_type": "execute_result"
    }
   ],
   "source": [
    "arr[0:2, 0:4] # end offset이 offset range를 벗어나면 끝까지 출력한다\n",
    "    # 시작값이 0인 경우는 생략 가능하며 끝 값이 shape의 값과 동일한 경우 생략 가능하다\n",
    "    # arr[0:2, 0:4] == arr[:2, :]"
   ]
  },
  {
   "cell_type": "markdown",
   "metadata": {},
   "source": [
    " - #### row나 col 를 슬라이싱 하지 않은 경우는 각 파트(start:end)를 생략 가능하다"
   ]
  },
  {
   "cell_type": "code",
   "execution_count": 12,
   "metadata": {
    "collapsed": true,
    "jupyter": {
     "outputs_hidden": true
    }
   },
   "outputs": [],
   "source": [
    "print(arr[:2, :], '\\n', arr[:2])"
   ]
  },
  {
   "cell_type": "markdown",
   "metadata": {},
   "source": [
    "## Indexing(인덱싱)\n",
    " - #### 인덱싱을 통해 원소에 접근할 수 있다"
   ]
  },
  {
   "cell_type": "code",
   "execution_count": 15,
   "metadata": {
    "collapsed": true,
    "jupyter": {
     "outputs_hidden": true
    }
   },
   "outputs": [
    {
     "data": {
      "text/plain": [
       "1"
      ]
     },
     "execution_count": 15,
     "metadata": {},
     "output_type": "execute_result"
    }
   ],
   "source": [
    "arr[0, 0]    # 0행 0열의 원소에 객체 참조된 값. 선호되는 방식\n",
    "arr[0][0]    # C언어 스타일"
   ]
  },
  {
   "cell_type": "code",
   "execution_count": 23,
   "metadata": {},
   "outputs": [
    {
     "name": "stdout",
     "output_type": "stream",
     "text": [
      "3\n",
      "[[ 1  2  3  4]\n",
      " [ 9 10 11 12]]\n"
     ]
    }
   ],
   "source": [
    "# 0행, 2행만 인덱싱\n",
    "arr[[0, 2], ]\n",
    "    # (== arr[(0, 2), ])\n",
    "    # (== arr[[0, 2]])\n",
    "print(arr[(0, 2)])\n",
    "print(arr[[0, 2]])"
   ]
  },
  {
   "cell_type": "code",
   "execution_count": 19,
   "metadata": {},
   "outputs": [
    {
     "data": {
      "text/plain": [
       "array([[ 1,  2,  4],\n",
       "       [ 5,  6,  8],\n",
       "       [ 9, 10, 12]])"
      ]
     },
     "execution_count": 19,
     "metadata": {},
     "output_type": "execute_result"
    }
   ],
   "source": [
    "# 0열, 1열, 3열만 인덱싱\n",
    "arr[:, [0, 1, 3]]    #행을 나타내는 부분 :, 은 생략하면 안된다"
   ]
  },
  {
   "cell_type": "code",
   "execution_count": 71,
   "metadata": {},
   "outputs": [
    {
     "name": "stdout",
     "output_type": "stream",
     "text": [
      "[15 18 21 24]\n",
      "\n",
      "\n",
      "[15 18 21 24]\n",
      "\n",
      "\n",
      "[5 6]\n",
      "\n",
      "\n",
      "[[ 1  2  3  4]\n",
      " [ 5  6  7  8]\n",
      " [ 9 10 11 12]]\n",
      "\n",
      "\n",
      "[5 6 7 8]\n",
      "\n",
      "\n",
      "[5 6 7 8]\n",
      "\n",
      "\n",
      "[ 2  6 10]\n",
      "\n",
      "\n",
      "[5 6 7 8]\n",
      "\n",
      "\n",
      "[ 9 10 11 12]\n"
     ]
    }
   ],
   "source": [
    "print(arr[:][0] + arr[:][1] + arr[:][2])    # C언어 방식으로 행슬라이싱은 불가하다\n",
    "print('\\n')\n",
    "\n",
    "print(arr[0] + arr[1] + arr[2])    # 위의 코드와 동일한 결과\n",
    "print('\\n')\n",
    "\n",
    "print(arr[1][0:2])    # 처음 코드와 같은 C언어 방식이나 열 슬라이싱은 가능하다\n",
    "print('\\n')\n",
    "\n",
    "print(arr[:])    # arr array 전체를 요소를 나타낸다\n",
    "print('\\n')\n",
    "\n",
    "print(arr[:][1])    # 이것과\n",
    "print('\\n')\n",
    "\n",
    "print(arr[1][:])    # 이것은 동일한 결과\n",
    "print('\\n')\n",
    "\n",
    "print(arr[:, 1])    # [][]가 아닌 [,]를 사용하여야 원하는 결과값을 얻을 수 있다\n",
    "print('\\n')\n",
    "\n",
    "print(arr[0:4][:][2])   # 이것은 그냥 arr[2] 와 같은 결과이다"
   ]
  },
  {
   "cell_type": "markdown",
   "metadata": {},
   "source": [
    "## Indexing & Slicing - ___Dimension___\n",
    "####  &ensp;&ensp;정수 인덱싱과 슬라이싱을 혼합하여 사용하면 낮은 차원의 배열이 생성되지만,\n",
    "####  &ensp;&ensp;슬라이싱만 사용하면 원본 배열과 동일한 차원의 배열이 생성됩니다."
   ]
  },
  {
   "cell_type": "markdown",
   "metadata": {},
   "source": [
    " - ####  0번째 행을 인덱싱하는 경우와 슬라이싱 하는 경우"
   ]
  },
  {
   "cell_type": "code",
   "execution_count": 56,
   "metadata": {},
   "outputs": [
    {
     "name": "stdout",
     "output_type": "stream",
     "text": [
      "[[ 1  2  3  4]\n",
      " [ 5  6  7  8]\n",
      " [ 9 10 11 12]] (3, 4) 2\n"
     ]
    }
   ],
   "source": [
    "print(arr, arr.shape, arr.ndim)"
   ]
  },
  {
   "cell_type": "code",
   "execution_count": 73,
   "metadata": {},
   "outputs": [],
   "source": [
    "# 슬라이싱만 사용\n",
    "sliced_row = arr[0:1, :]    # [:, :] == [슬라이싱, 슬라이싱]\n",
    "print(sliced_row, sliced_row.shape, sliced_row.ndim)"
   ]
  },
  {
   "cell_type": "markdown",
   "metadata": {},
   "source": [
    " - #### 위의 코드는 [[1, 2, 3, 4]] 로 2차원이다 (1, 4)\n",
    " - #### 슬라이싱을 하면, 자르는 것이기 때문에 차원이 유지된다"
   ]
  },
  {
   "cell_type": "code",
   "execution_count": 75,
   "metadata": {},
   "outputs": [
    {
     "name": "stdout",
     "output_type": "stream",
     "text": [
      "[1 2 3 4] (4,) 1\n",
      "[1 2 3 4] (4,) 1\n"
     ]
    }
   ],
   "source": [
    "# 아래와 동일한 코드\n",
    "# 인덱싱 & 슬라이싱 혼합 사용\n",
    "indexed_row = a[0, :]    #[ , :] == [인덱싱, 슬라이싱]\n",
    "print(indexed_row, indexed_row.shape, indexed_row.ndim)\n",
    "\n",
    "# 위와 동일한 코드\n",
    "# 인덱싱 & 슬라이싱 혼합 사용\n",
    "indexed_row_2 = a[0]    #[ (, :)] == [인덱싱, (슬라이싱)]\n",
    "print(indexed_row_2, indexed_row_2.shape, indexed_row_2.ndim)"
   ]
  },
  {
   "cell_type": "markdown",
   "metadata": {},
   "source": [
    " - #### 위의 코드는 [1, 2, 3, 4] 로 1차원이다 (4, )\n",
    " - #### 인덱싱을 하면, 해당 열이나 행만 뽑아서 오는 것이라서 차원이 줄어든다"
   ]
  },
  {
   "cell_type": "code",
   "execution_count": 94,
   "metadata": {},
   "outputs": [
    {
     "name": "stdout",
     "output_type": "stream",
     "text": [
      "[[1]\n",
      " [5]\n",
      " [9]] (3, 1) 2\n"
     ]
    }
   ],
   "source": [
    "# 슬라이싱만 사용\n",
    "sliced_col = arr[:, 0:1]\n",
    "print(sliced_col, sliced_col.shape, sliced_col.ndim)"
   ]
  },
  {
   "cell_type": "code",
   "execution_count": 93,
   "metadata": {},
   "outputs": [
    {
     "name": "stdout",
     "output_type": "stream",
     "text": [
      "[1 5 9] (3,) 1\n"
     ]
    }
   ],
   "source": [
    "# 아래와 동일한  코드\n",
    "# 인덱싱 & 슬라이싱 혼합 사용\n",
    "indexed_col = arr[:, 0]\n",
    "print(indexed_col, indexed_col.shape, indexed_col.ndim)"
   ]
  },
  {
   "cell_type": "markdown",
   "metadata": {},
   "source": [
    " - #### 위의 코드는 인덱싱을 사용했기 때문에 [1, 5, 9] 로 1차원이다 (3, ) "
   ]
  },
  {
   "cell_type": "markdown",
   "metadata": {},
   "source": [
    "## Indexing & Slicing - ___Value duplicate & Reference___\n",
    "####  &ensp;&ensp; 인덱싱은 값을 복사해옵니다. 복사된 값을 변경해도 원본의 값은 변하지 않습니다."
   ]
  },
  {
   "cell_type": "code",
   "execution_count": 97,
   "metadata": {},
   "outputs": [
    {
     "name": "stdout",
     "output_type": "stream",
     "text": [
      "arr[0, 0]: 1\n",
      "var: 100\n"
     ]
    }
   ],
   "source": [
    "# 인덱싱해서 b에 대입\n",
    "val = arr[0, 0]\n",
    "\n",
    "# val 수정\n",
    "val = 100\n",
    "\n",
    "print('arr[0, 0]: {}'.format(arr[0, 0]))\n",
    "print('var: {}'.format(val))"
   ]
  },
  {
   "cell_type": "markdown",
   "metadata": {},
   "source": [
    "####  &ensp;&ensp; 슬라이싱된 배열은 원본 배열과 같은 데이터를 참조합니다.\n",
    "####  &ensp;&ensp; 즉, 슬라이싱된 배열을 수정하면 원본 배열 역시 수정됩니다."
   ]
  },
  {
   "cell_type": "code",
   "execution_count": 100,
   "metadata": {},
   "outputs": [
    {
     "name": "stdout",
     "output_type": "stream",
     "text": [
      "[[ 6  7]\n",
      " [10 11]]\n"
     ]
    }
   ],
   "source": [
    "# arr를 슬라이싱 하여 var_2 생성\n",
    "sliced_arr = arr[1:3, 1:3]\n",
    "print(sliced_arr)"
   ]
  },
  {
   "cell_type": "code",
   "execution_count": 103,
   "metadata": {},
   "outputs": [],
   "source": [
    "# sliced_arr[0, 0] 은 arr[1, 1]과 같은 데이터이다.\n",
    "sliced_arr[0, 0] = 100\n",
    "\n",
    "print(sliced_arr)\n",
    "print('-------------------')\n",
    "print(arr)"
   ]
  },
  {
   "cell_type": "markdown",
   "metadata": {},
   "source": [
    "## Boolean Array Indexing\n",
    "####  &ensp;&ensp; 불리언 배열 인덱싱을 통해 배열 속 요소를 취사선택할 수 있습니다.\n",
    "####  &ensp;&ensp; 불리언 배열 인덱싱은 특정 조건을 만족하게 하는 요소만 선택하고자 할 때 사용합니다."
   ]
  },
  {
   "cell_type": "code",
   "execution_count": 116,
   "metadata": {},
   "outputs": [
    {
     "name": "stdout",
     "output_type": "stream",
     "text": [
      "[[1 2]\n",
      " [3 4]\n",
      " [5 6]]\n"
     ]
    }
   ],
   "source": [
    "arr = np.array([[1, 2], [3, 4], [5, 6]])\n",
    "print(arr)"
   ]
  },
  {
   "cell_type": "code",
   "execution_count": 117,
   "metadata": {},
   "outputs": [
    {
     "name": "stdout",
     "output_type": "stream",
     "text": [
      "[[False False]\n",
      " [ True  True]\n",
      " [ True  True]]\n",
      "[3 4 5 6]\n",
      "[3 4 5 6]\n"
     ]
    }
   ],
   "source": [
    "bool_idx = (arr > 2)\n",
    "    # 2보다 큰 arr의 요소를 찾습니다.\n",
    "    # 이 코드는 arr와 shape가 같고 불리언 자료형을 요소로 하는 numpy 배열을 반환합니다.\n",
    "    # bool_idx 와 각 요소는 동일한 위치에 있는 arr의 요소가 2보다 큰지 말해줍니다.\n",
    "print(bool_idx)\n",
    "    # [[False False]\n",
    "    #  [ True  True]\n",
    "    #  [ True  True]]\n",
    "    \n",
    "# 불리언 배열 인덱싱을 통해 bool_idx에서 True 값을 가지는 요소로 구성되어있는 rank 1인 배열을 구성할 수 있습니다.\n",
    "print(arr[bool_idx])    # [3 4 5 6]\n",
    "\n",
    "# 위에서 한 모든 것을 한 문장으로 할 수 있습니다.\n",
    "print(arr[arr > 2])    # [3 4 5 6]"
   ]
  },
  {
   "cell_type": "markdown",
   "metadata": {},
   "source": [
    "## Integer Array Indexing"
   ]
  },
  {
   "cell_type": "code",
   "execution_count": 112,
   "metadata": {},
   "outputs": [
    {
     "name": "stdout",
     "output_type": "stream",
     "text": [
      "[[1 2]\n",
      " [3 4]\n",
      " [5 6]]\n"
     ]
    }
   ],
   "source": [
    "arr = np.array([[1, 2], [3, 4], [5, 6]])\n",
    "print(arr)"
   ]
  },
  {
   "cell_type": "code",
   "execution_count": 114,
   "metadata": {},
   "outputs": [],
   "source": [
    "# 정수 배열 인덱싱의 예\n",
    "# 반환되는 배열의 shape는 (3, )\n",
    "print(arr[[0, 1, 2], [0, 1, 0]])    # [1 4 5]\n",
    "    # arr[ [row 요소들], [col 요소들] ]\n",
    "\n",
    "# 위에서 본 정수 배열 인덱싱 예제는 다음과 동일합니다\n",
    "print(np.array([arr[0, 0], arr[1, 1], arr[2, 0]]))    # [1 4 5]\n",
    "\n",
    "# 정수 배열 인덱싱을 사용할 때,\n",
    "# 원본 배열의 같은 요소를 재사용할 수 있습니다.\n",
    "print(arr[[0, 0], [1, 1]])    # [2 2]\n",
    "\n",
    "# 위 예제는 다음과 동일합니다\n",
    "print(np.array([arr[0, 1], arr[0, 1]]))    # [2 2]"
   ]
  },
  {
   "cell_type": "markdown",
   "metadata": {},
   "source": [
    "## Transpose\n",
    "####  &ensp;&ensp; 종종 배열의 모양을 바꾸거나 데이터를 처리해야 할 때가 있습니다. \n",
    "####  &ensp;&ensp; 가장 간단한 예로는 행렬의 주 대각선을 기준으로 대칭되는 요소끼리 뒤바꾸는 것입니다.\n",
    "####  &ensp;&ensp; 이를 Transpose(전치)라고 하며 행렬을 전치하기 위해선, 간단하게 배열 객체의 'T'속성을 사용하면 됩니다."
   ]
  },
  {
   "cell_type": "code",
   "execution_count": 119,
   "metadata": {},
   "outputs": [
    {
     "name": "stdout",
     "output_type": "stream",
     "text": [
      "[[1 2]\n",
      " [3 4]]\n",
      "[[1 3]\n",
      " [2 4]]\n"
     ]
    },
    {
     "data": {
      "text/plain": [
       "array([1, 2, 3])"
      ]
     },
     "execution_count": 119,
     "metadata": {},
     "output_type": "execute_result"
    }
   ],
   "source": [
    "arr = np.array([[1, 2], [3, 4]])\n",
    "print(arr)\n",
    "    # [[1 2]\n",
    "    #  [3 4]]\n",
    "        \n",
    "print(arr.T)\n",
    "    # [[1 3]\n",
    "    #  [2 4]]\n",
    "    \n",
    "# 차원이 1인 배열을 전치할 경우 아무 일도 일어나지 않는다. (1차원의 대각행렬은 없기 때문에)\n",
    "arr_1d = np.array([1, 2, 3])\n",
    "    # [1 2 3]\n",
    "arr_1d.T\n",
    "    # [1 2 3]"
   ]
  }
 ],
 "metadata": {
  "kernelspec": {
   "display_name": "Python 3",
   "language": "python",
   "name": "python3"
  },
  "language_info": {
   "codemirror_mode": {
    "name": "ipython",
    "version": 3
   },
   "file_extension": ".py",
   "mimetype": "text/x-python",
   "name": "python",
   "nbconvert_exporter": "python",
   "pygments_lexer": "ipython3",
   "version": "3.7.6"
  }
 },
 "nbformat": 4,
 "nbformat_minor": 4
}
