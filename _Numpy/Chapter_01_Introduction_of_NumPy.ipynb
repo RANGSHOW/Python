{
 "cells": [
  {
   "cell_type": "markdown",
   "metadata": {},
   "source": [
    "# ___Introduction of NumPy___"
   ]
  },
  {
   "cell_type": "code",
   "execution_count": 7,
   "metadata": {},
   "outputs": [
    {
     "name": "stdout",
     "output_type": "stream",
     "text": [
      "Math Score: \n",
      " [[11 12 13]\n",
      " [21 22 23]\n",
      " [31 32 33]]\n",
      "Math Score + 1: \n",
      " [[12 13 14]\n",
      " [22 23 24]\n",
      " [32 33 34]]\n",
      "[21. 22. 23.]\n",
      "[12. 22. 32.]\n"
     ]
    }
   ],
   "source": [
    "import numpy as np\n",
    "\n",
    "math_score = [[11, 12, 13], [21, 22, 23], [31, 32, 33]]\n",
    "math_score_ndarray = np.array(math_score)\n",
    "\n",
    "# 각 원소에 1을 더하려면 \n",
    "print('Math Score: \\n', math_score_ndarray)\n",
    "added_math_score_ndarray = math_score_ndarray + 1    # broadcastiong\n",
    "print('Math Score + 1: \\n', added_math_score_ndarray)\n",
    "\n",
    "print(np.average(math_score_ndarray, axis=0))    # 열(col) 별 평균 구하기\n",
    "print(np.average(math_score_ndarray, axis=1))   # 행(row) 별 평균 구하기"
   ]
  },
  {
   "cell_type": "code",
   "execution_count": null,
   "metadata": {},
   "outputs": [],
   "source": [
    "#속도 비교 (크기 100개 이내인 경우, NumPy는 기본 파이썬 구현보다 낮은 성능(늦은 시간)을 보이는 경향이 있다)\n",
    "\n",
    "import time\n",
    "\n",
    "class Timer(object):\n",
    "    def __init__(self, name=None):\n",
    "        self.name = name\n",
    "    def __enter__(self):\n",
    "        self.tstart = time.time()\n",
    "    def __exit__(self, type, value, traceback):\n",
    "        if self.name:\n",
    "            print(\"[%s]\"%self.name)\n",
    "        print('Elapsed: %.10f'%(time.time() - self.tstart))\n",
    "\n",
    "#Timer 사용법\n",
    "with Timer('여기에 이름을 입력하세요'):\n",
    "    #아래에 시간 측정을 하고자 하는 코드를 입력하세요.\n",
    "    time.sleep(1)"
   ]
  },
  {
   "cell_type": "code",
   "execution_count": 42,
   "metadata": {},
   "outputs": [],
   "source": [
    "rows = 5\n",
    "cols = 5\n",
    "\n",
    "rand_2darray = np.random.rand(rows, cols)    #ndarray 선언\n",
    "rand_2dlist = rand_2darray.tolist()    #nested list 선언"
   ]
  },
  {
   "cell_type": "code",
   "execution_count": 43,
   "metadata": {},
   "outputs": [
    {
     "name": "stdout",
     "output_type": "stream",
     "text": [
      "[파이썬 기본 자료형 사용 - 모든 원소의 합 구하기]\n",
      "Elapsed: 0.000000000000000000000000000000\n",
      "[파이썬 기본 자료형 사용 - 모든 원소에 1 더하기]\n",
      "Elapsed: 0.000000000000000000000000000000\n",
      "--------------------------------------------\n",
      "[NumPy 사용 - 모든 원소의 합 구하기]\n",
      "Elapsed: 0.000000000000000000000000000000\n",
      "[NumPy 사용 - 모든 원소에 1 더하기]\n",
      "Elapsed: 0.000000000000000000000000000000\n"
     ]
    }
   ],
   "source": [
    "with Timer('파이썬 기본 자료형 사용 - 모든 원소의 합 구하기'):\n",
    "    sum  = 0\n",
    "    \n",
    "    for list in rand_2dlist:\n",
    "        for i in list:\n",
    "            sum += i\n",
    "            \n",
    "with Timer('파이썬 기본 자료형 사용 - 모든 원소에 1 더하기'):\n",
    "    rand_2dlist_2 = []\n",
    "    \n",
    "    for list in rand_2dlist:\n",
    "        temp_list = []\n",
    "        \n",
    "        for i in list:\n",
    "            temp_list.append(i + 1)\n",
    "            \n",
    "    rand_2dlist_2.append(temp_list)\n",
    "            \n",
    "print(\"--------------------------------------------\")\n",
    "\n",
    "with Timer('NumPy 사용 - 모든 원소의 합 구하기'):\n",
    "    sum = np.sum(rand_2darray)\n",
    "    \n",
    "with Timer('NumPy 사용 - 모든 원소에 1 더하기'):\n",
    "    rand_2darray_2 = rand_2darray + 1\n",
    "    "
   ]
  },
  {
   "cell_type": "markdown",
   "metadata": {},
   "source": [
    "## Numpy장점\n",
    " - ### 코어 부분이 C로 구현되어 동일한 연산을 하더라도 Python에 비해 속도가 빠름\n",
    " - ### 라이브러리에 구현되어있는 함수들을 활용해 짧고 간결한 코드 작성 가능\n",
    " - ### (효율적인 메모리 사용이 가능하도록 구현됨)"
   ]
  },
  {
   "cell_type": "markdown",
   "metadata": {},
   "source": [
    "## Python list가 느린 이유\n",
    " - ### list는 결국 포인터의 배열\n",
    " - ### 경우에 따라서 각각 객체가 메모리 여기저기에 흩어져 있음\n",
    " - ### 그러므로 캐시 활용이 어려움"
   ]
  },
  {
   "cell_type": "markdown",
   "metadata": {},
   "source": [
    "## NumPy ndarray가 빠른 이유\n",
    " - ### ndarray는 타입을 명시(동일한 bytes를 이동하며 연산)하여 원소의 배열로 데이터를 유지\n",
    " - ### 다차원 데이터도 연속된 메모리 공간이 할당됨\n",
    " - ### 많은 연산이 dimensions과 strides를 잘 활용하면 효율적으로 가능 (가령 transpose는 strides를 바꾸는 것이 거의 공짜)\n",
    " - ### ndarray 구현 방식을 떠올리면 어떻게 성능을 낼 수 있는지 상상 가능"
   ]
  },
  {
   "cell_type": "code",
   "execution_count": 58,
   "metadata": {},
   "outputs": [
    {
     "name": "stdout",
     "output_type": "stream",
     "text": [
      "[[1 2]\n",
      " [3 4]] \n",
      "\n",
      " [[1 3]\n",
      " [2 4]]\n",
      "\n",
      " x_array's strides:  (2, 1) \n",
      " y_array's strides:  (1, 2)\n"
     ]
    }
   ],
   "source": [
    "#NumPy에서 Transpose(전치행렬) 구현\n",
    "x_array = np.array([[1, 2], [3, 4]], dtype=np.int8)\n",
    "y_array = x_array.T\n",
    "print(x_array, '\\n\\n', y_array)\n",
    "print('\\n', \"x_array's strides: \", x_array.strides, '\\n', \"y_array's strides: \", y_array.strides)"
   ]
  },
  {
   "cell_type": "markdown",
   "metadata": {},
   "source": [
    "### x_array => Data: 1 2 3 4 / Dimension: (2, 2) / Strides: (2, 1) \n",
    "\n",
    "### y_array => Data: 1 2 3 4 / Dimension: (2, 2) / Strides: (1, 2) \n",
    "\n",
    "### strides: (r, c)라고 한다면 첫번째 요소[0][0]에서 +r 데이터가 [1][0]이고 +c 데이터가 [0][1]이라는 뜻이다\n",
    "  - #### => NumPy에서 Transpose 하는 과정이 매우 간단"
   ]
  }
 ],
 "metadata": {
  "kernelspec": {
   "display_name": "Python 3",
   "language": "python",
   "name": "python3"
  },
  "language_info": {
   "codemirror_mode": {
    "name": "ipython",
    "version": 3
   },
   "file_extension": ".py",
   "mimetype": "text/x-python",
   "name": "python",
   "nbconvert_exporter": "python",
   "pygments_lexer": "ipython3",
   "version": "3.7.6"
  }
 },
 "nbformat": 4,
 "nbformat_minor": 4
}
