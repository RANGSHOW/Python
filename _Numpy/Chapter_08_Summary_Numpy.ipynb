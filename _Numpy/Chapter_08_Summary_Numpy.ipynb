{
 "cells": [
  {
   "cell_type": "code",
   "execution_count": 63,
   "metadata": {},
   "outputs": [],
   "source": [
    "import numpy as np\n",
    "import matplotlib.pyplot as plt\n",
    "import random"
   ]
  },
  {
   "cell_type": "markdown",
   "metadata": {},
   "source": [
    "## ___Chapter_01___"
   ]
  },
  {
   "cell_type": "code",
   "execution_count": null,
   "metadata": {},
   "outputs": [],
   "source": [
    "arr_1 = np.array(0)\n",
    "arr_2 = np.array((0))"
   ]
  },
  {
   "cell_type": "code",
   "execution_count": null,
   "metadata": {},
   "outputs": [],
   "source": [
    "arr_1 = np.array((0, 1))\n",
    "arr_2 = np.array([0, 1])"
   ]
  },
  {
   "cell_type": "code",
   "execution_count": null,
   "metadata": {},
   "outputs": [],
   "source": [
    "# transpose 를 나타내는 방법: strides\n",
    "arr_1 = np.array([[1, 2], [3, 4]])    \n",
    "    # == arr_1 = np.array(((1, 2), (3, 4)))\n",
    "arr_2 = np.array([[1, 2], [3, 4]], dtype='int64')    # (= dtype=np.int64)\n",
    "arr_3 = arr_1.T\n",
    "print(arr_1.strides, '\\n', arr_3.strides)"
   ]
  },
  {
   "cell_type": "markdown",
   "metadata": {},
   "source": [
    "#### c.f) ___TypeError : 'something' object is not callable___ \n",
    "#### &nbsp;&nbsp; 호출자로서(= something()) 으로 사용 불가하다는 Error Raise 이다"
   ]
  },
  {
   "cell_type": "markdown",
   "metadata": {},
   "source": [
    "## ___Chapter_02___"
   ]
  },
  {
   "cell_type": "code",
   "execution_count": 43,
   "metadata": {},
   "outputs": [
    {
     "name": "stdout",
     "output_type": "stream",
     "text": [
      "5.5 7.0\n"
     ]
    }
   ],
   "source": [
    "# np.mean()과 np.average() 의 차이점\n",
    "aver_1 = np.mean(range(1, 11))\n",
    "aver_2 = np.average(range(1, 11), weights=range(1, 11))\n",
    "print(aver_1, aver_2)"
   ]
  },
  {
   "cell_type": "code",
   "execution_count": 62,
   "metadata": {},
   "outputs": [
    {
     "name": "stdout",
     "output_type": "stream",
     "text": [
      "array_int32_strides: (8, 4)\n",
      "array_int64_strides: (16, 8)\n"
     ]
    }
   ],
   "source": [
    "# 데이터 타입에 따른 strides 변화\n",
    "array_int64 = np.array([[1, 2], [3, 4]], dtype=np.int64)\n",
    "array_int32 = np.array([[1, 2], [3, 4]], dtype=np.int32)\n",
    "print('array_int32_strides:', array_int32.strides)\n",
    "print('array_int64_strides:', array_int64.strides)"
   ]
  },
  {
   "cell_type": "markdown",
   "metadata": {},
   "source": [
    "## ___Chapter_03___"
   ]
  },
  {
   "cell_type": "code",
   "execution_count": 83,
   "metadata": {},
   "outputs": [],
   "source": [
    "empty_arr = np.empty((4, 4))    \n",
    "    # np.empty([4, 4])는 가능\n",
    "    # np.empty(4, 4)는 불가능: 첫번째 parameter로 shape를 받기 때문에 묶어야 한다\n",
    "another_empty_arr = np.empty_like(empty_arr)"
   ]
  },
  {
   "cell_type": "code",
   "execution_count": 83,
   "metadata": {},
   "outputs": [],
   "source": [
    "zero_arr = np.zeros((4, 4))\n",
    "another_zero_arr = np.zeros_like(zero_arr)"
   ]
  },
  {
   "cell_type": "code",
   "execution_count": 83,
   "metadata": {},
   "outputs": [],
   "source": [
    "one_arr = np.ones((4, 4))\n",
    "another_one_arr = np.ones_like(one_arr)"
   ]
  },
  {
   "cell_type": "code",
   "execution_count": 83,
   "metadata": {},
   "outputs": [],
   "source": [
    "id_arr = np.identity(4)\n",
    "    # np.identity()는 단위행렬을 만든다\n",
    "    # 첫 parameter 는 int type을 받는다"
   ]
  },
  {
   "cell_type": "code",
   "execution_count": null,
   "metadata": {},
   "outputs": [],
   "source": [
    "np.eye(3)    # = np.identity(3)\n",
    "np.eye(3, 5, -1)\n",
    "    # 3X5 행렬에서 대각 -1 행렬이 1인 행렬"
   ]
  },
  {
   "cell_type": "code",
   "execution_count": null,
   "metadata": {},
   "outputs": [],
   "source": [
    "np.arange(start=1.0, stop=10.5, step=0.5)\n",
    "    # == np.arange(1, 11, 0.5)"
   ]
  },
  {
   "cell_type": "code",
   "execution_count": null,
   "metadata": {},
   "outputs": [],
   "source": [
    "np.linspace(start=2.0, stop=3.0, num=10)\n",
    "    # 2.0 과 3.0 사이 범위를 가지는 10개의 행렬을 만든다\n",
    "    # == np.linspace(2, 3, 10)"
   ]
  },
  {
   "cell_type": "markdown",
   "metadata": {},
   "source": [
    "## ___Chapter_04___"
   ]
  },
  {
   "cell_type": "code",
   "execution_count": 98,
   "metadata": {},
   "outputs": [
    {
     "name": "stdout",
     "output_type": "stream",
     "text": [
      "[[[ 1  2  3]\n",
      "  [ 4  5  6]\n",
      "  [ 7  8  9]]\n",
      "\n",
      " [[10 11 12]\n",
      "  [13 14 15]\n",
      "  [16 17 18]]]\n"
     ]
    }
   ],
   "source": [
    "arr_3d = np.arange(1, 19).reshape(2, 3, 3)\n",
    "print(arr_3d)"
   ]
  },
  {
   "cell_type": "code",
   "execution_count": 97,
   "metadata": {},
   "outputs": [
    {
     "data": {
      "text/plain": [
       "array([[ 3,  6,  9],\n",
       "       [12, 15, 18]])"
      ]
     },
     "execution_count": 97,
     "metadata": {},
     "output_type": "execute_result"
    }
   ],
   "source": [
    "np.amax(arr_3d, 2)"
   ]
  },
  {
   "cell_type": "code",
   "execution_count": null,
   "metadata": {},
   "outputs": [],
   "source": []
  }
 ],
 "metadata": {
  "kernelspec": {
   "display_name": "Python 3",
   "language": "python",
   "name": "python3"
  },
  "language_info": {
   "codemirror_mode": {
    "name": "ipython",
    "version": 3
   },
   "file_extension": ".py",
   "mimetype": "text/x-python",
   "name": "python",
   "nbconvert_exporter": "python",
   "pygments_lexer": "ipython3",
   "version": "3.7.6"
  }
 },
 "nbformat": 4,
 "nbformat_minor": 4
}
