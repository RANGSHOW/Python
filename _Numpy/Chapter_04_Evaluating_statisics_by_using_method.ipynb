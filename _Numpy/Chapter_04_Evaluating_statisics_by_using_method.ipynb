{
 "cells": [
  {
   "cell_type": "code",
   "execution_count": 1,
   "metadata": {},
   "outputs": [],
   "source": [
    "import numpy as np"
   ]
  },
  {
   "cell_type": "markdown",
   "metadata": {},
   "source": [
    "## c.f) Axises(축)  \n",
    "  #### &nbsp; - axis=0: 행을 따라서 순환한다(세로 순환) = 행의 인덱스를 증가시키며 순환한다 => arr[ : ,  0 ], arr[ : ,  1 ], arr[ : ,  2 ], arr[  : ,  3 ], ... \n",
    "  #### &nbsp; - axis=1: 열을 따라서 순환한다(가로 순환) = 열의 인덱스를 증가시키며 순환한다 => arr[ 0 ,  : ], arr[ 1 ,  : ], arr[ 2 ,  : ], arr[ 3 ,  : ], ..."
   ]
  },
  {
   "cell_type": "markdown",
   "metadata": {},
   "source": [
    "# 통계 관련 메서드"
   ]
  },
  {
   "cell_type": "markdown",
   "metadata": {},
   "source": [
    "  ### numpy.amin()\n",
    "  - ##### Return the ___minimum of an array___ or ___minimum along an axis.___"
   ]
  },
  {
   "cell_type": "code",
   "execution_count": 21,
   "metadata": {},
   "outputs": [
    {
     "name": "stdout",
     "output_type": "stream",
     "text": [
      "[[1 2 3]\n",
      " [4 5 6]\n",
      " [7 8 9]]\n"
     ]
    }
   ],
   "source": [
    "ex_array = np.arange(1, 10).reshape(3, 3)\n",
    "print(ex_array)"
   ]
  },
  {
   "cell_type": "code",
   "execution_count": 28,
   "metadata": {},
   "outputs": [
    {
     "data": {
      "text/plain": [
       "array([1, 2, 3])"
      ]
     },
     "execution_count": 28,
     "metadata": {},
     "output_type": "execute_result"
    }
   ],
   "source": [
    "np.amin(ex_array, 0) \n",
    "    # np.amin(ex_array, axis=0) \n",
    "    # => axis=0 이므로  ex_array[:, 0], ex_array[:, 1], ex_array[:, 2] 각각의 최소값을 Return"
   ]
  },
  {
   "cell_type": "code",
   "execution_count": 29,
   "metadata": {},
   "outputs": [],
   "source": [
    "np.amin(ex_array, 1)\n",
    "    # np.amin(ex_array, axis=1) \n",
    "    # => axis=1 이므로 ex_array[0, :], ex_array[1, :], ex_array[2, :] 각각의 최소값을 Return"
   ]
  },
  {
   "cell_type": "code",
   "execution_count": 32,
   "metadata": {},
   "outputs": [
    {
     "data": {
      "text/plain": [
       "1"
      ]
     },
     "execution_count": 32,
     "metadata": {},
     "output_type": "execute_result"
    }
   ],
   "source": [
    "np.amin(ex_array)    #array 내 모든 요소들 중 최소값"
   ]
  },
  {
   "cell_type": "markdown",
   "metadata": {},
   "source": [
    "### numpy.amax()\n",
    " - ##### Return the ___maximum of an array or maximum along an axis.___"
   ]
  },
  {
   "cell_type": "markdown",
   "metadata": {},
   "source": [
    "### numpy.ptp()\n",
    " - ##### Return ___range of values (maximum - minimum) along an axis.___\n",
    " - The name of the function comes from the acronym for ___'peak to peak'___"
   ]
  },
  {
   "cell_type": "code",
   "execution_count": 37,
   "metadata": {},
   "outputs": [
    {
     "name": "stdout",
     "output_type": "stream",
     "text": [
      "[6 6 6] [2 2 2]\n"
     ]
    }
   ],
   "source": [
    "print(np.ptp(ex_array, 0), np.ptp((ex_array), 1))"
   ]
  },
  {
   "cell_type": "markdown",
   "metadata": {},
   "source": [
    "### numpy.median() (= 중앙값, 중위수)\n",
    " - ##### ___Compute the median___ along the specified axis."
   ]
  },
  {
   "cell_type": "code",
   "execution_count": 38,
   "metadata": {},
   "outputs": [
    {
     "data": {
      "text/plain": [
       "array([4., 5., 6.])"
      ]
     },
     "execution_count": 38,
     "metadata": {},
     "output_type": "execute_result"
    }
   ],
   "source": [
    "np.median(ex_array, 0)"
   ]
  },
  {
   "cell_type": "markdown",
   "metadata": {},
   "source": [
    "### numpy.mean()"
   ]
  },
  {
   "cell_type": "markdown",
   "metadata": {},
   "source": [
    "### numpy.var() (= 분산)\n",
    " - ##### ___Compute the variance___ along the specified axis."
   ]
  },
  {
   "cell_type": "code",
   "execution_count": 40,
   "metadata": {},
   "outputs": [
    {
     "name": "stdout",
     "output_type": "stream",
     "text": [
      "[6. 6. 6.] [0.66666667 0.66666667 0.66666667] 6.666666666666667\n"
     ]
    }
   ],
   "source": [
    "print(np.var((ex_array), 0), np.var((ex_array), 1), np.var((ex_array)))"
   ]
  },
  {
   "cell_type": "markdown",
   "metadata": {},
   "source": [
    "### numpy.std() (= 표준편차)\n",
    " - ##### ___Compute the standard deviation___ along the specified axis."
   ]
  },
  {
   "cell_type": "code",
   "execution_count": 41,
   "metadata": {},
   "outputs": [
    {
     "data": {
      "text/plain": [
       "array([0.81649658, 0.81649658, 0.81649658])"
      ]
     },
     "execution_count": 41,
     "metadata": {},
     "output_type": "execute_result"
    }
   ],
   "source": [
    "np.std((ex_array), 1)"
   ]
  }
 ],
 "metadata": {
  "kernelspec": {
   "display_name": "Python 3",
   "language": "python",
   "name": "python3"
  },
  "language_info": {
   "codemirror_mode": {
    "name": "ipython",
    "version": 3
   },
   "file_extension": ".py",
   "mimetype": "text/x-python",
   "name": "python",
   "nbconvert_exporter": "python",
   "pygments_lexer": "ipython3",
   "version": "3.7.6"
  }
 },
 "nbformat": 4,
 "nbformat_minor": 4
}
