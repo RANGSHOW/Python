{
 "cells": [
  {
   "cell_type": "code",
   "execution_count": 1,
   "metadata": {},
   "outputs": [
    {
     "data": {
      "text/plain": [
       "4.0"
      ]
     },
     "execution_count": 1,
     "metadata": {},
     "output_type": "execute_result"
    }
   ],
   "source": [
    "import numpy as np\n",
    "#np.mean 과 np.average의 차이\n",
    "np.mean(range(1, 11))\n",
    "    #np.mean()은 산술평균을 구할 때 쓴다\n",
    "np.average(range(1, 11))\n",
    "    #np.average()는 가중평균을 구할 수 있다(weight parameter를 사용하지 않으면 산술평균과 같다)\n",
    "np.average(range(1, 11), weights=range(10, 0, -1))    #range(1, 11)의 총 1 ~ 10의 자연수 중 1에 가중치를 가장 많이 주겠다"
   ]
  },
  {
   "cell_type": "markdown",
   "metadata": {},
   "source": [
    " - #### numpy.ndarray 에는 data, dimensions, strides 라는 attribute가 있다\n",
    " - #### numpy.ndarray 의 data는 직선의 형태로 저장되어있고 dimensions과 strides에 따라 shape가 달라진다"
   ]
  },
  {
   "cell_type": "code",
   "execution_count": null,
   "metadata": {},
   "outputs": [],
   "source": [
    "#주로 list 를 먼저 만들고 target_ndarray = np.array(priv_list) 로 할당한다"
   ]
  },
  {
   "cell_type": "markdown",
   "metadata": {},
   "source": [
    "\n",
    "## ___Model parameter and Hyper parameter___\n",
    "- #### ___model parameter___(모델 파라미터)는 머신러닝에서 알고리즘이 주어진 데이터로 부터 학습하는 파라미터이다(== 파라미터, 계수로 부르기도 한다)\n",
    "- #### ___hyper marameter___(하이퍼 파라미터)는 모델이 학습할 수 없어서 사람이 직접 설정해주는 파라미터이다(== 인수에 포함되므로 매개변수라고 부르기도 한다)"
   ]
  },
  {
   "cell_type": "code",
   "execution_count": 19,
   "metadata": {},
   "outputs": [
    {
     "name": "stdout",
     "output_type": "stream",
     "text": [
      "array_int8's strides:  (2, 1)\n",
      "array_int64's strides:  (16, 8)\n"
     ]
    }
   ],
   "source": [
    "array_int8 = np.array([[1, 2], [3, 4]], dtype=np.int8)\n",
    "print(\"array_int8's strides: \", array_int8.strides)    #array_int8's strides:  (2, 1)\n",
    "array_int64 = np.array([[1, 2], [3, 4]], dtype=np.int64)\n",
    "print(\"array_int64's strides: \", array_int64.strides)    #array_int64's strides:  (16, 8)\n",
    "    #strides는 몇 bite뒤에 다음 row, col이 나오는지에 대한 attribute 이다\n",
    "    #int, int0, int8, int16, int32, int64 의 hyper parameter가 있다"
   ]
  },
  {
   "cell_type": "code",
   "execution_count": 14,
   "metadata": {},
   "outputs": [
    {
     "data": {
      "text/plain": [
       "(204, 68)"
      ]
     },
     "execution_count": 14,
     "metadata": {},
     "output_type": "execute_result"
    }
   ],
   "source": [
    "array = np.array([[3, 4, 11], [2, 3, 1], ['one or two maybe', 5, 3]])\n",
    "array.strides    #(192, 64) 가 나온다. dtype='<U16'로 int도 bite-size가 커진다 데이터 타입을 통일시켜버린다\n",
    "    #pandas 의 DataFrame 은 다양한 타입을 할당할 수 있다"
   ]
  },
  {
   "cell_type": "markdown",
   "metadata": {},
   "source": [
    "직접 원소를 입력하여 다차원 배열 생성하기\n",
    " - np.array()를 사용해 다차원 배열을 생성할 수 있다"
   ]
  },
  {
   "cell_type": "markdown",
   "metadata": {},
   "source": [
    "<h1> bool"
   ]
  },
  {
   "cell_type": "code",
   "execution_count": null,
   "metadata": {},
   "outputs": [],
   "source": [
    "#boolean 데이터를 입력해서 다차원 배열 생성\n",
    "bool_array = np.array([True, False, True, True, False])\n",
    "bool_array.dtype    #dtype('bool')"
   ]
  },
  {
   "cell_type": "markdown",
   "metadata": {},
   "source": [
    "<h1>number"
   ]
  },
  {
   "cell_type": "markdown",
   "metadata": {},
   "source": [
    " - number 데이터를 입력해서 다차원 배열을 생성한다\n",
    " - 정수형, 부호 없는 정수형, 실수형, 복소수형을 알아보자"
   ]
  },
  {
   "cell_type": "markdown",
   "metadata": {},
   "source": [
    "<h3>정수형</h3>"
   ]
  },
  {
   "cell_type": "markdown",
   "metadata": {},
   "source": [
    " - 정수형의 default data type은 'int64' 이다\n",
    " - 허나 default data type은 운영체제에 따라 달라진다 (JupyterLab은 'int32')"
   ]
  },
  {
   "cell_type": "code",
   "execution_count": 20,
   "metadata": {},
   "outputs": [
    {
     "data": {
      "text/plain": [
       "dtype('int32')"
      ]
     },
     "execution_count": 20,
     "metadata": {},
     "output_type": "execute_result"
    }
   ],
   "source": [
    "int_array = np.array([[1, 2], [3, 4]])\n",
    "int_array.dtype    #dtype('int32')"
   ]
  },
  {
   "cell_type": "markdown",
   "metadata": {},
   "source": [
    "<h3>부호 없는 정수형</h3>"
   ]
  },
  {
   "cell_type": "markdown",
   "metadata": {},
   "source": [
    " - 부호 없는 정수형의 default data type 은 'uint64'입니다 (JupyterLab은 'uint32')"
   ]
  },
  {
   "cell_type": "code",
   "execution_count": 2,
   "metadata": {},
   "outputs": [],
   "source": [
    "uint_array = np.array([[1, 2], [3, 4]], dtype='uint')\n",
    "    # uint_array = np.array([[1, 2], [3, 4]], dtype='uint32')"
   ]
  },
  {
   "cell_type": "markdown",
   "metadata": {},
   "source": [
    "<h3>실수형"
   ]
  },
  {
   "cell_type": "markdown",
   "metadata": {},
   "source": [
    " - 실수형의 default data type 은 'float64'입니다 (JupyterLab 또한)"
   ]
  },
  {
   "cell_type": "code",
   "execution_count": 23,
   "metadata": {},
   "outputs": [],
   "source": [
    "float_array = np.array([[1.1, 2.2], [3.3, 4.4]])\n",
    "    # float_array = np.array([[1.1, 2.2], [3.3, 4.4]], dtype='float64')"
   ]
  },
  {
   "cell_type": "markdown",
   "metadata": {},
   "source": [
    "<h3>복소수형"
   ]
  },
  {
   "cell_type": "markdown",
   "metadata": {},
   "source": [
    " - 복소수형의 default data type 은 'complex128'입니다"
   ]
  },
  {
   "cell_type": "code",
   "execution_count": 33,
   "metadata": {},
   "outputs": [
    {
     "data": {
      "text/plain": [
       "dtype('complex128')"
      ]
     },
     "execution_count": 33,
     "metadata": {},
     "output_type": "execute_result"
    }
   ],
   "source": [
    "complex_array = np.array([[1 + 1j, 2 + 2j], [3 + -3j, 4 + 4j]])\n",
    "complex_array.dtype    #dtype('complex128')"
   ]
  },
  {
   "cell_type": "markdown",
   "metadata": {},
   "source": [
    "<h4>형변환 : 데이터가 정수로 입력되더라도 data type을 실수형으로 명시한다면 실수형으로 자동 형변환이 이루어진다"
   ]
  },
  {
   "cell_type": "code",
   "execution_count": 30,
   "metadata": {},
   "outputs": [
    {
     "data": {
      "text/plain": [
       "dtype('float64')"
      ]
     },
     "execution_count": 30,
     "metadata": {},
     "output_type": "execute_result"
    }
   ],
   "source": [
    "float_array = np.array([[1, 2], [3, 4]], dtype='float64')\n",
    "float_array.dtype    #dtype('float64')\n",
    "\n",
    "#더 나은 방법\n",
    "better_float_array = np.array([[1., 2.], [3., 4,]])\n",
    "better_float_array.dtype    #dtype('float64')"
   ]
  },
  {
   "cell_type": "code",
   "execution_count": 31,
   "metadata": {},
   "outputs": [
    {
     "name": "stdout",
     "output_type": "stream",
     "text": [
      "[[1 2]\n",
      " [3 4]]\n"
     ]
    }
   ],
   "source": [
    "worse_int_array = np.array([[1.1, 2.5], [3.4, 4.8]], dtype='int8')    #float형 데이터를 int로 변환시킨다\n",
    "print(worse_int_array)    #array([[1, 2], [3, 4]])의 결과가 나온다 (버림)"
   ]
  },
  {
   "cell_type": "markdown",
   "metadata": {},
   "source": [
    "<h3> 파일에서 데이터를 입력 받아 다차원 배열 생성하기"
   ]
  },
  {
   "cell_type": "markdown",
   "metadata": {},
   "source": [
    "np.genfromtxt() 를 이용하여 파일에 저장된 데이터를 입력받아 다차원 배열을 생성할 수 있습니다.<br>\n",
    "하지만 사용할 일은 많지 않습니다. 그 이유는, \n",
    " - NumPy ndarray는 동일한 데이터 타입만을 가질 수 있습니다. \n",
    " - 대부분 데이터 파일에는 하나의 데이터 타입만 있는게 아니라 정수, 실수, 문자열이 섞여 있습니다.<br>\n",
    " \n",
    "파일에서 데이터를 읽어올 때는 Numpy의 genfromtxt() 보다는 Pandas의 read_csv()나 read_excel()을 주로 사용합니다"
   ]
  },
  {
   "cell_type": "code",
   "execution_count": 34,
   "metadata": {
    "collapsed": true,
    "jupyter": {
     "outputs_hidden": true
    }
   },
   "outputs": [
    {
     "ename": "ModuleNotFoundError",
     "evalue": "No module named 'google'",
     "output_type": "error",
     "traceback": [
      "\u001b[1;31m---------------------------------------------------------------------------\u001b[0m",
      "\u001b[1;31mModuleNotFoundError\u001b[0m                       Traceback (most recent call last)",
      "\u001b[1;32m<ipython-input-34-56499bad448c>\u001b[0m in \u001b[0;36m<module>\u001b[1;34m\u001b[0m\n\u001b[0;32m      1\u001b[0m \u001b[1;31m#구글 드라이브의 파일을 가져오고 싶은 경우\u001b[0m\u001b[1;33m\u001b[0m\u001b[1;33m\u001b[0m\u001b[1;33m\u001b[0m\u001b[0m\n\u001b[1;32m----> 2\u001b[1;33m \u001b[1;32mfrom\u001b[0m \u001b[0mgoogle\u001b[0m\u001b[1;33m.\u001b[0m\u001b[0mcolab\u001b[0m \u001b[1;32mimport\u001b[0m \u001b[0mdrive\u001b[0m\u001b[1;33m\u001b[0m\u001b[1;33m\u001b[0m\u001b[0m\n\u001b[0m\u001b[0;32m      3\u001b[0m \u001b[0mdrive\u001b[0m\u001b[1;33m.\u001b[0m\u001b[0mmount\u001b[0m\u001b[1;33m(\u001b[0m\u001b[1;34m'/content/drive'\u001b[0m\u001b[1;33m)\u001b[0m\u001b[1;33m\u001b[0m\u001b[1;33m\u001b[0m\u001b[0m\n",
      "\u001b[1;31mModuleNotFoundError\u001b[0m: No module named 'google'"
     ]
    }
   ],
   "source": [
    "#구글 드라이브의 파일을 가져오고 싶은 경우\n",
    "from google.colab import drive\n",
    "drive.mount('/content/drive')\n",
    "fromCSVArray = np.genfromtxt('/content/drive/mY Drive/이하 경로/파일.csv', delimiter=',')    #csv == comma seperated value"
   ]
  }
 ],
 "metadata": {
  "kernelspec": {
   "display_name": "Python 3",
   "language": "python",
   "name": "python3"
  },
  "language_info": {
   "codemirror_mode": {
    "name": "ipython",
    "version": 3
   },
   "file_extension": ".py",
   "mimetype": "text/x-python",
   "name": "python",
   "nbconvert_exporter": "python",
   "pygments_lexer": "ipython3",
   "version": "3.7.6"
  }
 },
 "nbformat": 4,
 "nbformat_minor": 4
}
