{
 "cells": [
  {
   "cell_type": "markdown",
   "metadata": {},
   "source": [
    "## __Numpy 고급 기능__"
   ]
  },
  {
   "cell_type": "markdown",
   "metadata": {},
   "source": [
    "#### ___Broadcasting___은 NumPy 에서 shape 가 다른 배열 간에도 산술 연산이 가능하게 하는 메커니즘이다. 종종 작은 배열과 큰 배열이 있을 때,\n",
    "#### 큰 배열을 대상으로 작은 배열을 여러 번 연산하고자 할 때가 있습니다. 예를 들어, 행렬의 각 행에 상수 벡터를 더하는 걸 생각해보세요.\n",
    "#### 이는 다음과 같은 방식으로 처리될 수 있습니다."
   ]
  },
  {
   "cell_type": "code",
   "execution_count": 5,
   "metadata": {},
   "outputs": [
    {
     "name": "stdout",
     "output_type": "stream",
     "text": [
      "[[ 2  2  4]\n",
      " [ 5  5  7]\n",
      " [ 8  8 10]\n",
      " [11 11 13]]\n"
     ]
    }
   ],
   "source": [
    "import numpy as np\n",
    "\n",
    "# 행렬 x와 각 행에 벡터 v를 더한 뒤\n",
    "# 그 결과를 행렬 y에 저장하고자 합니다.\n",
    "x = np.array([[1, 2, 3], [4, 5, 6], [7, 8, 9], [10, 11, 12]])\n",
    "    # [[ 1  2  3]\n",
    "    #  [ 4  5  6]\n",
    "    #  [ 7  8  9]\n",
    "    #  [10 11 12]]\n",
    "    \n",
    "v = np.array([1, 0, 1])    # 1차원 배열(벡터)\n",
    "y = np.empty_like(x)\n",
    "\n",
    "# 명시적 반복문을 통해 행렬 x와 각 행에 벡터 y를 더하는 방법\n",
    "for i in range(4):\n",
    "    y[i, :] = x[i, :] + v\n",
    "    \n",
    "print(y)    \n",
    "\n",
    "    # [[ 2  2  4]\n",
    "    #  [ 5  5  7]\n",
    "    #  [ 8  8 10]\n",
    "    #  [11 11 13]]"
   ]
  },
  {
   "cell_type": "markdown",
   "metadata": {},
   "source": [
    "#### 위의 방식대로 하시면 됩니다. 그러나 x가 매우 큰 행렬이라면, 파이썬의 반복문을 이용한 위 코드는 매우 느려질 수 있습니다.\n",
    "#### 벡터 v를 행렬 x의 각 행에 더하는 것은 v를 여러 개 복사해 수직으로 쌓은 행렬 vv를 만든고 이 vv를 x와 더하는 것과 동일합니다.\n",
    "#### 위 과정을 아래처럼 구현할 수 있습니다."
   ]
  },
  {
   "cell_type": "code",
   "execution_count": null,
   "metadata": {},
   "outputs": [],
   "source": [
    "# 벡터 v를 행렬 x의 각 행에 더한 뒤, 그 결과를 행렬 y에 저장하고자 합니다\n",
    "x = np.array([[1, 2, 3], [4, 5, 6], [7, 8, 9], [10, 11, 12]])\n",
    "v = np.array([1, 0, 1])\n",
    "vv = np.tile(v, (4, 1))    # v의 복사본 4개를 위로 차곡차곡 쌓은 것이 vv vv.shape == (4, 3)\n",
    "    # [[1 0 1]\n",
    "    #  [1 0 1]\n",
    "    #  [1 0 1]\n",
    "    #  [1 0 1]]\n",
    "y = x + vv\n",
    "print(y)\n",
    "\n",
    "    # [[ 2  2  4]\n",
    "    #  [ 5  5  7]\n",
    "    #  [ 8  8 10]\n",
    "    #  [11 11 13]]"
   ]
  },
  {
   "cell_type": "markdown",
   "metadata": {},
   "source": [
    "#### ___Numpy Broadcasting___ 을 이용한다면 이렇게 v의 복사본을 여러 개 만들지 않아도 동일한 연산을 할 수 있습니다. \n",
    "#### 아래는 ___Broadcasting___ 을 이용한 예시 코드입니다."
   ]
  },
  {
   "cell_type": "code",
   "execution_count": 9,
   "metadata": {},
   "outputs": [
    {
     "name": "stdout",
     "output_type": "stream",
     "text": [
      "[[ 2  2  4]\n",
      " [ 5  5  7]\n",
      " [ 8  8 10]\n",
      " [11 11 13]]\n"
     ]
    }
   ],
   "source": [
    "# 벡터 v를 행렬 x의 각 행을 더한 뒤, 그 결과를 행렬 y에 저장하고자 합니다.\n",
    "x = np.array([[1, 2, 3], [4, 5, 6], [7, 8, 9], [10, 11, 12]])\n",
    "v = np.array([1, 0, 1])\n",
    "y = x + v    # broadcasting 을 이용하여 v와 x를 각 행에 더하기\n",
    "print(y)\n",
    "\n",
    "    # [[ 2  2  4]\n",
    "    #  [ 5  5  7]\n",
    "    #  [ 8  8 10]\n",
    "    #  [11 11 13]]"
   ]
  },
  {
   "cell_type": "markdown",
   "metadata": {},
   "source": [
    "#### x 의 shape가 (4, 3) 이고 v 의 shape 가 (3, )이라도 브로드캐스팅으로 인해 y = x + v 는 문제없이 수행됩니다.\n",
    "#### 이때, v는 v의 복사본이 차곡차곡 쌓인 shape (4, 3) 처럼 간주되어 x 와 동일한 shape 가 되며 이들 간의 요소별 덧셈연산이 y에 저장됩니다.\n",
    "#### 두 배열의 Broadcasting 은 아래의 규칙을 따릅니다 :\n",
    " - ##### 두 배열이 동일한 dimension을 가지고 있지 않다면, 낮은 dimension 의 1차원 배열이 높은 dimension 배열의 shape로 간주됩니다.\n",
    " - ##### 특정 차원에서 두 배열이 동일한 크기를 갖거나, 두 배열 중 하나의 크기가 1이라면 그 두 배열은 특정 차원에서 compatible 하다고 여겨집니다.\n",
    " - ##### 두 행렬이 모든 차원에서 compatible 하다면, 브로드캐스팅이 가능합니다.\n",
    " - ##### 브로드캐스팅이 이루어지면, 각 배열 shape 의 요소별 최소공배수로 이루어진 shape가 두 배열의 shape로 간주됩니다.\n",
    " - ##### 차원에 상관없이 크기가 1인 배열과 1보다 큰 배열이 있을 때, 크기가 1인 배열은 자신의 차원 수만큼 복사되어 쌓인 것처럼 간주됩니다."
   ]
  },
  {
   "cell_type": "markdown",
   "metadata": {},
   "source": [
    "#### 브로드캐스팅을 지원하는 함수를 universal function 이라고 합니다\n",
    "#### (참고 : https://docs.scipy.org/doc/numpy/reference/ufuncs.html)\n",
    "#### 아래는 브로드캐스팅을 응용한 예시들입니다."
   ]
  },
  {
   "cell_type": "markdown",
   "metadata": {},
   "source": [
    "### ___c.f)___\n",
    "#### Chapter_1 에서 했던 math_score_ndarray + 1은 ___'ndarray + scalar'___ 의 계산으로 dimension이 맞지 않으나 Broadcasting을 사용\n",
    "#### math_score_ndarray ___+ 1___ == math_score_ndarray ___+ np.ones_like(math_score_ndarray)___ 였던 것이다"
   ]
  },
  {
   "cell_type": "code",
   "execution_count": 11,
   "metadata": {},
   "outputs": [],
   "source": [
    "v = np.array([1, 2, 3])    # v.shape == (3,)\n",
    "w = np.array([4, 5])    # w.shape == (2, )\n",
    "x = np.array([[1, 2, 3], [4, 5, 6]])    # x.shape == (2, 3)"
   ]
  },
  {
   "cell_type": "code",
   "execution_count": 11,
   "metadata": {},
   "outputs": [],
   "source": [
    "# 벡터를 행렬의 각 행에 더하기 \n",
    "# x는 shape가 (2, 3)이고 v는 shape가 (3, )이므로 이 둘을 브로드캐스팅하면 shape가 (2, 3)\n",
    "print(x + v)\n",
    "    # [[2 4 6]\n",
    "    #  [5 7 9]]"
   ]
  },
  {
   "cell_type": "code",
   "execution_count": 15,
   "metadata": {},
   "outputs": [
    {
     "name": "stdout",
     "output_type": "stream",
     "text": [
      "[[ 5  6  7]\n",
      " [ 9 10 11]]\n",
      "[[ 5  6  7]\n",
      " [ 9 10 11]]\n"
     ]
    }
   ],
   "source": [
    "# 벡터를 각 행렬의 각 행에 더하기\n",
    "# x.shape = (2, 3), w.shape = (2, )\n",
    "# x.T.shape = (3, 2) 이며, 이는 w와 브로드캐스팅이 가능하고 그 결과 shape는 (3, 2)\n",
    "#위 연산 결과 행렬을 전치하면 (2, 3)인 행렬이 나오며 이는 행렬 x의 각 열에 벡터 w를 더한 결과와 동일하다.\n",
    "print((x.T + w).T)\n",
    "print(x + np.reshape(w, (2, 1)))"
   ]
  },
  {
   "cell_type": "code",
   "execution_count": 16,
   "metadata": {},
   "outputs": [
    {
     "name": "stdout",
     "output_type": "stream",
     "text": [
      "[[3 4 5]\n",
      " [6 7 8]]\n"
     ]
    }
   ],
   "source": [
    "# 행렬의 스칼라배 \n",
    "# x.shape = (2, 3)입니다. NumPy는 스칼라를 shape가 ()인 배열로 취급합니다.\n",
    "# 그렇기에 스칼라 값은 (2, 3) shape로 브로드캐스팅할 수 있습니다.\n",
    "print(x + 2)"
   ]
  }
 ],
 "metadata": {
  "kernelspec": {
   "display_name": "Python 3",
   "language": "python",
   "name": "python3"
  },
  "language_info": {
   "codemirror_mode": {
    "name": "ipython",
    "version": 3
   },
   "file_extension": ".py",
   "mimetype": "text/x-python",
   "name": "python",
   "nbconvert_exporter": "python",
   "pygments_lexer": "ipython3",
   "version": "3.7.6"
  }
 },
 "nbformat": 4,
 "nbformat_minor": 4
}
