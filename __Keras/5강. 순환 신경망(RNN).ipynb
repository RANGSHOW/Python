{
 "cells": [
  {
   "cell_type": "markdown",
   "metadata": {},
   "source": [
    "## 순환 신경망 레이어 이야기"
   ]
  },
  {
   "cell_type": "code",
   "execution_count": null,
   "metadata": {},
   "outputs": [],
   "source": [
    "Dense(3, input_dim=1)\n",
    "    # 입력 1, 출력 3, 학습해야할 weight 3\n",
    "    \n",
    "LSTM(3, input_dim=1, input_length=4)\n",
    "    # < 입력 1, 출력 3, 학습해야할 weight 3 > 이 4번 반복 (time step == 4 라고 표현하기도 한다)\n",
    "    \n",
    "# 시계열 데이터나 NLP(자연어 처리) 등에 순환 신경망을 쓴다"
   ]
  },
  {
   "cell_type": "markdown",
   "metadata": {},
   "source": [
    "## 추가적인 하이퍼 파라미터\n",
    "- ### return_sequences: 시퀀스 출력 여부\n",
    "    - #### 각 회차(step)마다 출력값 반환할 지 여부를 결정\n",
    "- ### stateful: 상태 유지 여부\n",
    "    - #### 상태 정보(오른쪽 돌기)를 다음 회차를 전달할지 여부 결정"
   ]
  }
 ],
 "metadata": {
  "kernelspec": {
   "display_name": "Python 3",
   "language": "python",
   "name": "python3"
  },
  "language_info": {
   "codemirror_mode": {
    "name": "ipython",
    "version": 3
   },
   "file_extension": ".py",
   "mimetype": "text/x-python",
   "name": "python",
   "nbconvert_exporter": "python",
   "pygments_lexer": "ipython3",
   "version": "3.8.5"
  }
 },
 "nbformat": 4,
 "nbformat_minor": 4
}
