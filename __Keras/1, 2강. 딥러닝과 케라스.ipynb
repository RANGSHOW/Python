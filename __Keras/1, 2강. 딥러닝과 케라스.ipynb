{
 "cells": [
  {
   "cell_type": "markdown",
   "metadata": {},
   "source": [
    "## 딥러닝 모델은 레고 사람 한 명이다."
   ]
  },
  {
   "cell_type": "markdown",
   "metadata": {},
   "source": [
    "## Model(모델)"
   ]
  },
  {
   "cell_type": "code",
   "execution_count": 2,
   "metadata": {},
   "outputs": [],
   "source": [
    "from keras.models import Sequential\n",
    "model = Sequential()"
   ]
  },
  {
   "cell_type": "markdown",
   "metadata": {},
   "source": [
    "## Network (네트워크)\n",
    "- \n",
    "- ### Network의 종류\n",
    "    - #### VGG16 (528 MB, 23)\n",
    "    - #### VGG19 (549 MB, 26)\n",
    "    - #### ResNet50 (99 MB, 168)\n",
    "    - #### DenseNet121 (33 MB, 121)\n",
    "    - #### DenseNet169 (57 MB, 169)\n"
   ]
  },
  {
   "cell_type": "markdown",
   "metadata": {},
   "source": [
    "## Objective Function (목표함수)\n",
    "- \n",
    "- ### Objective Function의 종류\n",
    "    - #### mean_squared_error\n",
    "    - #### categorical_crossentropy\n",
    "    - #### binary_crossentropy\n",
    "    - #### squared_hinge\n",
    "    - #### hinge"
   ]
  },
  {
   "cell_type": "markdown",
   "metadata": {},
   "source": [
    "## Optimizer (최적화기)\n",
    "-\n",
    "- ### Optimizer의 종류\n",
    "    - #### SGD\n",
    "    - #### RMSprop\n",
    "    - #### Adagrad\n",
    "    - #### Adam\n",
    "    - #### Adamax"
   ]
  },
  {
   "cell_type": "markdown",
   "metadata": {},
   "source": [
    "### c.f. 엔진과 인터페이스\n",
    "- #### 엔진: 딥러닝 엔진이란 모델 아키텍쳐가 구현한, 실제로 구동되는 시스템 (ex: 텐서플로우(엔진))\n",
    "- #### 인터페이스: 엔진을 조정하기 위해 손쉽게 만들어진 함수 등 (ex: 케라스(핸들, 브레이크))"
   ]
  },
  {
   "cell_type": "code",
   "execution_count": 3,
   "metadata": {},
   "outputs": [],
   "source": [
    "# 0. 사용할 패키지 불러오기\n",
    "from keras.utils import np_utils\n",
    "from keras.datasets import mnist\n",
    "from keras.models import Sequential\n",
    "from keras.layers import Dense, Activation\n",
    "import keras\n",
    "import numpy as np"
   ]
  },
  {
   "cell_type": "markdown",
   "metadata": {},
   "source": [
    "## 1. 데이터셋 생성하기"
   ]
  },
  {
   "cell_type": "code",
   "execution_count": 4,
   "metadata": {},
   "outputs": [],
   "source": [
    "(x_train, y_train), (x_test, y_test) = mnist.load_data()\n",
    "    # mnist: 숫자 손글씨 셋, ndarray 4개로 된 튜플\n",
    "    # x는 이미지, y는 숫자를 준다\n",
    "x_train = x_train.reshape(60000, 784).astype('float32') / 255.0\n",
    "    # 1byte = 8bit = 0 ~ 255 나타낼 수 있다\n",
    "    # 28 X 28 의 이미지 크기 (28 * 28 == 784) \n",
    "    # 1 Sample == 784 byte, 60,000 개의 Sample\n",
    "    # 255.0로 나누면 모든 픽셀이 0.0 ~ 1.0 사이의 수가 된다\n",
    "x_test = x_test.reshape(10000, 784).astype('float32') / 255.0\n",
    "y_train = np_utils.to_categorical(y_train)\n",
    "    # 1은 0100000000, 7은 0000000100 로 바뀐다 (One-Hot-Encoding)\n",
    "    # 10 byte로 늘어난다. (전체는 60 만 byte)\n",
    "y_test = np_utils.to_categorical(y_test)\n",
    "\n",
    "# 검증셋 생성\n",
    "x_val = x_train[50000:60000]\n",
    "y_val = y_train[50000:60000]\n",
    "\n",
    "# 검증셋이 분리된 테스트셋 생성\n",
    "x_train = x_train[0:50000]\n",
    "y_train = y_train[0:50000]"
   ]
  },
  {
   "cell_type": "markdown",
   "metadata": {},
   "source": [
    "## 1.1. 학습 과정 이야기"
   ]
  },
  {
   "cell_type": "markdown",
   "metadata": {},
   "source": [
    "### Batch Size (배치 사이즈)\n",
    "- #### 몇 문항 풀고 업데이트할 것이냐\n",
    "- #### Batch Size 만큼 비교한 후 Optimizer가 Network를 갱신한다 (가중치 갱신)\n",
    "\n",
    "### Epoch (에포크)\n",
    "- #### 반복 횟수\n",
    "- #### 같은 테스트셋이라도 반복 학습하면 학습이 일어난다\n",
    "- #### 반복 횟수가 늘어나면 오버피팅이 일어난다 (외우면서 푸는 경지)"
   ]
  },
  {
   "cell_type": "markdown",
   "metadata": {},
   "source": [
    "## 1.2. 데이터셋 이야기"
   ]
  },
  {
   "cell_type": "markdown",
   "metadata": {},
   "source": [
    "### 훈련셋\n",
    "- #### 모델을 학습시키는 용도\n",
    "- #### Unseen Data 를 예측하기 위한 학습\n",
    "\n",
    "### 검증셋\n",
    "- #### 매 Epoch마다 검증하는 셋\n",
    "- #### 학습이 일어나는 셋이 아님 \n",
    "- #### Epoch를 과도하게 설정할 경우 Overfitting이 일어날 수 있다.\n",
    "- #### 검증셋이 있다면 학습 중단 시점을 정할 수 있다. (Overfitting 방지)\n",
    "\n",
    "### 테스트셋\n",
    "- #### 모델의 성능을 테스트하는 셋"
   ]
  },
  {
   "cell_type": "markdown",
   "metadata": {},
   "source": [
    "## 2. 모델 구성하기"
   ]
  },
  {
   "cell_type": "code",
   "execution_count": 5,
   "metadata": {},
   "outputs": [],
   "source": [
    "model = Sequential()                                                                                                                                  \n",
    "    # 'Sequential'이라는 생성자로 모델을 하나 생성했다\n",
    "model.add(Dense(units=64, input_dim=28*28, activation='relu'))    # 입력층\n",
    "model.add(Dense(units=10, activation='softmax'))    \n",
    "    # 출력층: 벡터가 10(클래스가 10 개: 0 ~ 9) \n",
    "    # 다중 클래스 분류에 적합한 Activation Function이 softmax"
   ]
  },
  {
   "cell_type": "markdown",
   "metadata": {},
   "source": [
    "## c.f. ___activation='softmax'___\n",
    "- ### 시그모이드는 0 ~ 1 의 하나의 벡터가 나오는 Activation Function \n",
    "- ### 소프트맥스는 3 개의 벡터를 생성하고 3 칸(3 개의 벡터)의 합이 1 되게 하는 Activation Function\n",
    "- ### 벡터 별로 따로 따로 비교해서 loss를 계산하는 Objective Function이 Catagorical_Crossentropy"
   ]
  },
  {
   "cell_type": "markdown",
   "metadata": {},
   "source": [
    "## 3. 모델 학습과정 설정하기"
   ]
  },
  {
   "cell_type": "code",
   "execution_count": 6,
   "metadata": {},
   "outputs": [],
   "source": [
    "model.compile(loss='categorical_crossentropy', optimizer='sgd', metrics=['accuracy'])"
   ]
  },
  {
   "cell_type": "markdown",
   "metadata": {},
   "source": [
    "## 4. 모델 학습시키기"
   ]
  },
  {
   "cell_type": "code",
   "execution_count": 7,
   "metadata": {},
   "outputs": [
    {
     "name": "stdout",
     "output_type": "stream",
     "text": [
      "Epoch 1/10\n",
      "1563/1563 [==============================] - 5s 3ms/step - loss: 0.7253 - accuracy: 0.8157 - val_loss: 0.3700 - val_accuracy: 0.9022\n",
      "Epoch 2/10\n",
      "1563/1563 [==============================] - 4s 3ms/step - loss: 0.3654 - accuracy: 0.8978 - val_loss: 0.3028 - val_accuracy: 0.9180\n",
      "Epoch 3/10\n",
      "1563/1563 [==============================] - 4s 3ms/step - loss: 0.3133 - accuracy: 0.9121 - val_loss: 0.2712 - val_accuracy: 0.9255\n",
      "Epoch 4/10\n",
      "1563/1563 [==============================] - 4s 3ms/step - loss: 0.2830 - accuracy: 0.9203 - val_loss: 0.2520 - val_accuracy: 0.9293\n",
      "Epoch 5/10\n",
      "1563/1563 [==============================] - 4s 3ms/step - loss: 0.2615 - accuracy: 0.9268 - val_loss: 0.2352 - val_accuracy: 0.9344\n",
      "Epoch 6/10\n",
      "1563/1563 [==============================] - 4s 3ms/step - loss: 0.2444 - accuracy: 0.9313 - val_loss: 0.2230 - val_accuracy: 0.9371\n",
      "Epoch 7/10\n",
      "1563/1563 [==============================] - 4s 3ms/step - loss: 0.2294 - accuracy: 0.9347 - val_loss: 0.2124 - val_accuracy: 0.9419\n",
      "Epoch 8/10\n",
      "1563/1563 [==============================] - 4s 3ms/step - loss: 0.2165 - accuracy: 0.9387 - val_loss: 0.2015 - val_accuracy: 0.9461\n",
      "Epoch 9/10\n",
      "1563/1563 [==============================] - 4s 3ms/step - loss: 0.2051 - accuracy: 0.9413 - val_loss: 0.1947 - val_accuracy: 0.9483\n",
      "Epoch 10/10\n",
      "1563/1563 [==============================] - 4s 3ms/step - loss: 0.1948 - accuracy: 0.9443 - val_loss: 0.1862 - val_accuracy: 0.9489\n"
     ]
    }
   ],
   "source": [
    "tb_hist = keras.callbacks.TensorBoard(log_dir='./graph', histogram_freq=0, write_graph=True, write_images=True)\n",
    "hist = model.fit(x_train, y_train, epochs=10, batch_size=32, validation_data=(x_val, y_val))       \n",
    "    # 총 300,000 개의 데이터를 학습 (60,000 * 5: sample * epoch)\n",
    "    # 60,000 개 데이터 중 32개씩 나눠서 네트워크 갱신(가중치 갱신)\n",
    "    # 32 마다 올라간다\n",
    "    \n",
    "    # val_loss 가 점점 줄어들기 때문에 더 학습할 필요가 있다(underfitting 상태) => epoch를 늘린다"
   ]
  },
  {
   "cell_type": "code",
   "execution_count": 8,
   "metadata": {},
   "outputs": [
    {
     "name": "stdout",
     "output_type": "stream",
     "text": [
      "Epoch 1/5\n",
      "   1/1563 [..............................] - ETA: 0s - loss: 0.1567 - accuracy: 0.9688WARNING:tensorflow:From C:\\Users\\rangs\\anaconda3\\lib\\site-packages\\tensorflow\\python\\ops\\summary_ops_v2.py:1277: stop (from tensorflow.python.eager.profiler) is deprecated and will be removed after 2020-07-01.\n",
      "Instructions for updating:\n",
      "use `tf.profiler.experimental.stop` instead.\n",
      "   2/1563 [..............................] - ETA: 2:48 - loss: 0.1107 - accuracy: 0.9844WARNING:tensorflow:Callbacks method `on_train_batch_begin` is slow compared to the batch time (batch time: 0.0037s vs `on_train_batch_begin` time: 0.0121s). Check your callbacks.\n",
      "WARNING:tensorflow:Callbacks method `on_train_batch_end` is slow compared to the batch time (batch time: 0.0037s vs `on_train_batch_end` time: 0.1973s). Check your callbacks.\n",
      "1563/1563 [==============================] - 5s 3ms/step - loss: 0.1855 - accuracy: 0.9471 - val_loss: 0.1782 - val_accuracy: 0.9517\n",
      "Epoch 2/5\n",
      "1563/1563 [==============================] - 5s 3ms/step - loss: 0.1770 - accuracy: 0.9494 - val_loss: 0.1726 - val_accuracy: 0.9539\n",
      "Epoch 3/5\n",
      "1563/1563 [==============================] - 5s 3ms/step - loss: 0.1695 - accuracy: 0.9521 - val_loss: 0.1674 - val_accuracy: 0.9541\n",
      "Epoch 4/5\n",
      "1563/1563 [==============================] - 5s 3ms/step - loss: 0.1623 - accuracy: 0.9539 - val_loss: 0.1620 - val_accuracy: 0.9566\n",
      "Epoch 5/5\n",
      "1563/1563 [==============================] - 5s 3ms/step - loss: 0.1558 - accuracy: 0.9553 - val_loss: 0.1584 - val_accuracy: 0.9582\n"
     ]
    }
   ],
   "source": [
    "hist = model.fit(x_train, y_train, epochs=5, batch_size=32, validation_data=(x_val, y_val), callbacks=[tb_hist])       \n",
    "\n",
    "# epochs 를 20번으로 늘렸는데도 val_loss 가 올라가지 않았다(아직 underfitting) => 더 훈련시켜야한다"
   ]
  },
  {
   "cell_type": "markdown",
   "metadata": {},
   "source": [
    "## 5. 학습과정 살펴보기"
   ]
  },
  {
   "cell_type": "code",
   "execution_count": 9,
   "metadata": {},
   "outputs": [
    {
     "data": {
      "image/png": "[encoded data removed]",
      "text/plain": [
       "<Figure size 432x288 with 2 Axes>"
      ]
     },
     "metadata": {
      "needs_background": "light"
     },
     "output_type": "display_data"
    }
   ],
   "source": [
    "%matplotlib inline\n",
    "import matplotlib.pyplot as plt\n",
    "\n",
    "fig, loss_ax = plt.subplots()\n",
    "\n",
    "acc_ax = loss_ax.twinx()\n",
    "\n",
    "loss_ax.plot(hist.history['loss'], 'y', label='train loss')\n",
    "loss_ax.plot(hist.history['val_loss'], 'r', label='val loss')\n",
    "\n",
    "acc_ax.plot(hist.history['accuracy'], 'b', label='train acc')\n",
    "acc_ax.plot(hist.history['val_accuracy'], 'g', label='val acc')\n",
    "\n",
    "loss_ax.set_xlabel('epoch')\n",
    "loss_ax.set_ylabel('loss')\n",
    "acc_ax.set_ylabel('accuracy')\n",
    "\n",
    "loss_ax.legend(loc='upper left')\n",
    "acc_ax.legend(loc='lower left')\n",
    "\n",
    "plt.show()"
   ]
  },
  {
   "cell_type": "markdown",
   "metadata": {},
   "source": [
    "## 6. 모델 평가하기"
   ]
  },
  {
   "cell_type": "code",
   "execution_count": 10,
   "metadata": {},
   "outputs": [
    {
     "name": "stdout",
     "output_type": "stream",
     "text": [
      "313/313 [==============================] - 1s 2ms/step - loss: 0.1590 - accuracy: 0.9543\n",
      "## evaluation loss and_metrics ##\n",
      "[0.15901309251785278, 0.9542999863624573]\n"
     ]
    }
   ],
   "source": [
    "loss_and_metrics = model.evaluate(x_test, y_test, batch_size=32)\n",
    "    # 학습하지 않은 Test Set으로 평가\n",
    "print('## evaluation loss and_metrics ##')\n",
    "print(loss_and_metrics)"
   ]
  },
  {
   "cell_type": "markdown",
   "metadata": {},
   "source": [
    "## 7. 모델 사용하기"
   ]
  },
  {
   "cell_type": "code",
   "execution_count": 11,
   "metadata": {},
   "outputs": [
    {
     "name": "stdout",
     "output_type": "stream",
     "text": [
      "## yhat ##\n",
      "[[4.1515475e-05 2.1266130e-08 1.0743405e-03 3.6680722e-03 1.2504563e-06\n",
      "  2.1075146e-05 4.6349555e-09 9.9504071e-01 3.2799471e-05 1.2011125e-04]]\n",
      "WARNING:tensorflow:From <ipython-input-11-8bd4628d7174>:9: Sequential.predict_classes (from tensorflow.python.keras.engine.sequential) is deprecated and will be removed after 2021-01-01.\n",
      "Instructions for updating:\n",
      "Please use instead:* `np.argmax(model.predict(x), axis=-1)`,   if your model does multi-class classification   (e.g. if it uses a `softmax` last-layer activation).* `(model.predict(x) > 0.5).astype(\"int32\")`,   if your model does binary classification   (e.g. if it uses a `sigmoid` last-layer activation).\n",
      "## yhat ##\n",
      "[7]\n"
     ]
    }
   ],
   "source": [
    "xhat = x_test[0:1]\n",
    "    # 임의의 Sample\n",
    "yhat = model.predict(xhat)\n",
    "    # \n",
    "print('## yhat ##')\n",
    "print(yhat)\n",
    "    # 나오는 10개의 벡터를 Output으로 출력해준다\n",
    "    # 7이라고 대답한 것이다\n",
    "yhat = model.predict_classes(xhat)\n",
    "    # 벡터로 알려주지 않고 클래스로 알려주는 Method\n",
    "print('## yhat ##')\n",
    "print(yhat)"
   ]
  },
  {
   "cell_type": "markdown",
   "metadata": {},
   "source": [
    "### ___Q.___ png파일에서 투명한 부분은 픽셀에서 어떤 값을 가지나요?\n",
    "### ___A.___ \n",
    "- #### 흑백은 채널이 하나. 컬러는 3개 채널이 있다 (R, G, B)\n",
    "- #### 투명 같은 경우는 ___a___ 채널(알파 채널)이 하나 더 있다"
   ]
  },
  {
   "cell_type": "code",
   "execution_count": null,
   "metadata": {},
   "outputs": [],
   "source": [
    "# 매 Epoch 마다 데이터를 셔플한다(셔플 옵션을 False로 두면 그냥 푼다)\n",
    "# 시계열 문제나 상관관계를 알기 위한 데이터 등에서는 False 두고 그냥 푼다"
   ]
  }
 ],
 "metadata": {
  "kernelspec": {
   "display_name": "Python 3",
   "language": "python",
   "name": "python3"
  },
  "language_info": {
   "codemirror_mode": {
    "name": "ipython",
    "version": 3
   },
   "file_extension": ".py",
   "mimetype": "text/x-python",
   "name": "python",
   "nbconvert_exporter": "python",
   "pygments_lexer": "ipython3",
   "version": "3.8.5"
  }
 },
 "nbformat": 4,
 "nbformat_minor": 4
}
