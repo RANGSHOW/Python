{
 "cells": [
  {
   "cell_type": "code",
   "execution_count": null,
   "metadata": {},
   "outputs": [],
   "source": [
    "def change_value(x, value):\n",
    "    x = value\n",
    "    print(\"x : {} in change_value.\".format(x))\n",
    "\n",
    "if __name__ == \"__main__\":\n",
    "    x = 10\n",
    "    change_value(x, 20)\n",
    "    print(\"x : {} in main.\".format(x))"
   ]
  },
  {
   "cell_type": "code",
   "execution_count": null,
   "metadata": {},
   "outputs": [],
   "source": [
    "#lambda function\n",
    "f = lambda x: x ** 2\n",
    "print(f(5))"
   ]
  },
  {
   "cell_type": "code",
   "execution_count": null,
   "metadata": {},
   "outputs": [],
   "source": [
    "def person_init(name, money):\n",
    "    obj = {'name': name, 'money': money}\n",
    "    obj['give_money'] = Person[1]\n",
    "    obj['get_money'] = Person[2]\n",
    "    obj['show'] = Person[3]\n",
    "    return obj\n",
    "\n",
    "def give_money(self, other, money):\n",
    "    self['money'] -= money\n",
    "    other['get_money'](other, money)\n",
    "    \n",
    "def get_money(self, money):\n",
    "    self['money'] += money\n",
    "    \n",
    "def show(self):\n",
    "    print('{} : {}'.format(self['name'], self['money'=]))\n",
    "    \n",
    "Person = person_init, give_money, get_money, show\n",
    "\n",
    "if __name__ == \"__main__\":\n",
    "    g = Person[0]('gerg', 5000)\n",
    "    j = Person[0]('john', 2000)\n",
    "    "
   ]
  },
  {
   "cell_type": "code",
   "execution_count": null,
   "metadata": {},
   "outputs": [],
   "source": [
    "#Class 사용해서 Person의 인스턴스 만들기\n",
    "\n",
    "class Person(object):\n",
    "    def __init__(self, name, money):\n",
    "        self.name = name\n",
    "        self.money = money\n",
    "        \n",
    "    def give_money(self, other, money):\n",
    "        self.money -= money\n",
    "        other.get_money(money)\n",
    "        \n",
    "    def get_money(self, money):\n",
    "        self.money += money\n",
    "        \n",
    "    def show(self):\n",
    "        print(\"{}: {}\".format(self.name, self.money))\n",
    "        \n",
    "if __name__ == \"__main__\":\n",
    "    g = Person('greg', 5000)\n",
    "    j = Person('john', 2000)\n",
    "\n",
    "    g.give_money(j, 2500)\n",
    "\n",
    "    g.show()\n",
    "    j.show()\n",
    "    "
   ]
  },
  {
   "cell_type": "code",
   "execution_count": null,
   "metadata": {},
   "outputs": [],
   "source": [
    "class A:\n",
    "    c_men = 10\n",
    "    \n",
    "    @classmmethod\n",
    "    def cls_f(cls):\n",
    "        print(cls.c_men)\n",
    "        \n",
    "    def __init__(self, num):\n",
    "        self.i_men = num\n",
    "        \n",
    "    def ins_f(self):\n",
    "        print(self.i_mem)"
   ]
  },
  {
   "cell_type": "code",
   "execution_count": null,
   "metadata": {},
   "outputs": [],
   "source": [
    "class Account:\n",
    "    num_acnt = 0\n",
    "    \n",
    "    @classmethod\n",
    "    def get_num_acnt(cls):\n",
    "        '''\n",
    "        cls.get_num_acnt() -> integer\n",
    "        '''\n",
    "        return cls.num_acnt\n",
    "    \n",
    "    def __init__(self, name, money):\n",
    "        self.user = name\n",
    "        self.balance = money\n",
    "        Account.num_acnt += 1\n",
    "        \n",
    "    def deposit(self, money):\n",
    "        if money < 0:\n",
    "            return \n",
    "        self.balance += money\n",
    "        \n",
    "    def withdraw(self, money):\n",
    "        if money > 0 and money <= self.balance:\n",
    "            self.balance -= money"
   ]
  },
  {
   "cell_type": "code",
   "execution_count": null,
   "metadata": {},
   "outputs": [],
   "source": [
    "#ClassMethod and StaticMethod\n",
    "class A:\n",
    "    @staticmethod\n",
    "    def f():\n",
    "        print(\"static method\")\n",
    "        \n",
    "    @classmethod\n",
    "    def g(cls):\n",
    "        print(cls.__name__)\n",
    "        \n",
    "if __name__ == \"__main__\":\n",
    "    a = A()\n",
    "    a.f()\n",
    "    a.g()"
   ]
  },
  {
   "cell_type": "code",
   "execution_count": null,
   "metadata": {},
   "outputs": [],
   "source": [
    "class Account(object):\n",
    "    def __init__(self, name, money):\n",
    "        self.user = name\n",
    "        self.__balance = money\n",
    "        \n",
    "    def get_balance(self):\n",
    "        return self.__balance\n",
    "    \n",
    "    def set_balance(self, money):\n",
    "        if money < 0:\n",
    "            return\n",
    "        self.__balance = money\n",
    "        \n",
    "if __name__ == \"__main__\":\n",
    "    my_acnt = Account('greg', 5000)\n",
    "    my_acnt.__balance = -3000\n",
    "    my_acnt._Account__balance = -4000\n",
    "    \n",
    "    print(my_acnt.get_balance())"
   ]
  },
  {
   "cell_type": "code",
   "execution_count": null,
   "metadata": {},
   "outputs": [],
   "source": [
    "#property의 사용\n",
    "class Account():\n",
    "    def __init__(self, name, money):\n",
    "        self.user = name\n",
    "        self.balance = money\n",
    "        \n",
    "    @property\n",
    "    def balance(self):\n",
    "        return self._balance\n",
    "    \n",
    "    @balance.setter\n",
    "    def balance(self, money):\n",
    "        if money < 0:\n",
    "            return\n",
    "        self._balance = money\n",
    "        \n",
    "if __name__ == \"__main__\":\n",
    "    my_acnt = Account('greg', 5000)\n",
    "    my_acnt.balance = -3000\n",
    "    \n",
    "    print(my_acnt.balance)"
   ]
  },
  {
   "cell_type": "code",
   "execution_count": 12,
   "metadata": {
    "scrolled": true
   },
   "outputs": [
    {
     "name": "stdout",
     "output_type": "stream",
     "text": [
      "5000\n"
     ]
    }
   ],
   "source": []
  }
 ],
 "metadata": {
  "kernelspec": {
   "display_name": "Python 3",
   "language": "python",
   "name": "python3"
  },
  "language_info": {
   "codemirror_mode": {
    "name": "ipython",
    "version": 3
   },
   "file_extension": ".py",
   "mimetype": "text/x-python",
   "name": "python",
   "nbconvert_exporter": "python",
   "pygments_lexer": "ipython3",
   "version": "3.7.6"
  }
 },
 "nbformat": 4,
 "nbformat_minor": 4
}
