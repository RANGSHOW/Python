{
 "cells": [
  {
   "cell_type": "markdown",
   "metadata": {},
   "source": [
    "## < 1 > 당장 좋은 것만 선택하는 그리디\n",
    "### 예제 3-1. 거스름돈  \n",
    "#### 500원, 100원, 50원, 10원이 무한이 있을 때, N 원을 거술러줘야 할 동전의 최소 개수를 구하라. (단, N은 10의 배수)"
   ]
  },
  {
   "cell_type": "code",
   "execution_count": null,
   "metadata": {},
   "outputs": [],
   "source": [
    "# 내 답변\n",
    "N = 1260\n",
    "coin_count = 0\n",
    "while N >= 500:\n",
    "    N -= 500\n",
    "    coin_count += 1\n",
    "while N >= 100:\n",
    "    N -= 100\n",
    "    coin_count += 1\n",
    "while N >= 50:\n",
    "    N -= 50\n",
    "    coin_count += 1\n",
    "while N >= 10:\n",
    "    N -= 10\n",
    "    coin_count += 1\n",
    "print(coin_count)"
   ]
  },
  {
   "cell_type": "code",
   "execution_count": null,
   "metadata": {},
   "outputs": [],
   "source": [
    "# 내 답변 Improvement\n",
    "N = 1260\n",
    "coin_count = 0\n",
    "coin_list = [500, 100, 50, 10]\n",
    "for coin in coin_list:\n",
    "    while N >= coin:\n",
    "        N -= coin\n",
    "        coin_count += 1\n",
    "\n",
    "print(coin_count)"
   ]
  },
  {
   "cell_type": "code",
   "execution_count": null,
   "metadata": {},
   "outputs": [],
   "source": [
    "# 답안 예시\n",
    "N = 1260\n",
    "count = 0\n",
    "coin_list = [500, 100, 50, 10]\n",
    "for coin in coin_list:\n",
    "    count += N // coin\n",
    "    N %= coin\n",
    "        # N을 coin으로 나눈 나머지를 N에 할당\n",
    "print(count)\n",
    "    # 화폐의 종류만큼 반복을 수행해야한다. 화폐의 종류가 K개라고 한다면 O(K)\n",
    "    # 동전의 총 종류에만 영향을 받고, 거슬러 줘야하는 금액의 크기와 무관하다."
   ]
  },
  {
   "cell_type": "markdown",
   "metadata": {},
   "source": [
    "## < 2 > 큰 수의 법칙\n",
    "#### 총 n 개의 요소가 있는 리스트에서 최대 k 번 반복되는 순열의 합을 반환하라. (순열의 길이는 m)"
   ]
  },
  {
   "cell_type": "code",
   "execution_count": null,
   "metadata": {},
   "outputs": [],
   "source": [
    "# 내 답변\n",
    "n, m, k = map(int, input().split())\n",
    "num_list = list(map(int, input().split()))\n",
    "num_list.sort(reverse=True)\n",
    "\n",
    "print( (num_list[0]*k + num_list[1])*(m // (k+1) + num_list[0]*(m % (k+1))) )"
   ]
  },
  {
   "cell_type": "code",
   "execution_count": null,
   "metadata": {},
   "outputs": [],
   "source": [
    "# 답변 예시\n",
    "n, m, k = map(int, input().split())\n",
    "data = list(map(int, input().split()))\n",
    "\n",
    "data.sort()\n",
    "first = data[n - 1]\n",
    "second = data[n - 2]\n",
    "\n",
    "count = int(m / (k + 1)) * k\n",
    "count += m % (k + 1)\n",
    "\n",
    "result = 0\n",
    "result += (count) * first\n",
    "result += (m - count) * second\n",
    "\n",
    "print(result)"
   ]
  },
  {
   "cell_type": "markdown",
   "metadata": {},
   "source": [
    "## < 3 > 숫자 카드 게임\n",
    "#### 각 행에서 가장 낮은 카드를 뽑아서 그 중 가장 큰 카드(값)을 반환"
   ]
  },
  {
   "cell_type": "code",
   "execution_count": 9,
   "metadata": {},
   "outputs": [
    {
     "name": "stdin",
     "output_type": "stream",
     "text": [
      " 3 3\n",
      " 3 1 2\n",
      " 4 1 4\n",
      " 2 2 2\n"
     ]
    },
    {
     "name": "stdout",
     "output_type": "stream",
     "text": [
      "2\n"
     ]
    }
   ],
   "source": [
    "# 내 답변\n",
    "from functools import reduce\n",
    "\n",
    "n, m = map(int, input().split())\n",
    "numbers = []\n",
    "for _ in range(n):\n",
    "    numbers.append(reduce(min, list(map(int, input().split()))))\n",
    "\n",
    "print(max(numbers))"
   ]
  },
  {
   "cell_type": "code",
   "execution_count": null,
   "metadata": {},
   "outputs": [],
   "source": [
    "# 답변 예시 1\n",
    "n, m = map(int, input().split())\n",
    "\n",
    "result = 0\n",
    "for i in range(n):\n",
    "    data = list(map(int, input().split()))\n",
    "    min_value = min(data)\n",
    "    result = max(result, min_value)\n",
    "    \n",
    "print(result)"
   ]
  },
  {
   "cell_type": "code",
   "execution_count": null,
   "metadata": {},
   "outputs": [],
   "source": [
    "# 답변 예시 2\n",
    "n, m = map(int, input().split())\n",
    "\n",
    "result = 0\n",
    "for i in range(n):\n",
    "    data = list(map(int, input().split()))\n",
    "    min_value = 10001\n",
    "    for a in data:\n",
    "        min_value = min(min_value, a)\n",
    "    result = max(result, min_value)\n",
    "    \n",
    "print(result)"
   ]
  },
  {
   "cell_type": "markdown",
   "metadata": {},
   "source": [
    "## < 4 > 1이 될 때까지\n",
    "#### 1. N에서 1을 뺀다 2. N을 K로 나눈다\n",
    "#### 위의 두 시행(혹은 하나)으로 1을 만드는 최소 시행 횟수를 반환하라"
   ]
  },
  {
   "cell_type": "code",
   "execution_count": 22,
   "metadata": {},
   "outputs": [
    {
     "name": "stdin",
     "output_type": "stream",
     "text": [
      " 25 5\n"
     ]
    },
    {
     "name": "stdout",
     "output_type": "stream",
     "text": [
      "2\n"
     ]
    }
   ],
   "source": [
    "# 내 답변\n",
    "n, k = map(int, input().split())\n",
    "result = 0\n",
    "while n != 1:\n",
    "    if n % k == 0:\n",
    "        n = int(n / k)\n",
    "        result += 1\n",
    "    else:\n",
    "        n -= 1\n",
    "        result += 1\n",
    "print(result)"
   ]
  },
  {
   "cell_type": "code",
   "execution_count": null,
   "metadata": {},
   "outputs": [],
   "source": [
    "# 답변 예시 \n",
    "n, k = map(int, input().split())\n",
    "\n",
    "result = 0\n",
    "while n >= k:\n",
    "    while n % k != 0:\n",
    "        n -= 1\n",
    "        result += 1\n",
    "    n //= k\n",
    "    result += 1\n",
    "    \n",
    "while n > 1:\n",
    "    n -= 1\n",
    "    result += 1\n",
    "    \n",
    "print(result)\n",
    "        "
   ]
  }
 ],
 "metadata": {
  "kernelspec": {
   "display_name": "Python 3",
   "language": "python",
   "name": "python3"
  },
  "language_info": {
   "codemirror_mode": {
    "name": "ipython",
    "version": 3
   },
   "file_extension": ".py",
   "mimetype": "text/x-python",
   "name": "python",
   "nbconvert_exporter": "python",
   "pygments_lexer": "ipython3",
   "version": "3.7.6"
  }
 },
 "nbformat": 4,
 "nbformat_minor": 4
}
