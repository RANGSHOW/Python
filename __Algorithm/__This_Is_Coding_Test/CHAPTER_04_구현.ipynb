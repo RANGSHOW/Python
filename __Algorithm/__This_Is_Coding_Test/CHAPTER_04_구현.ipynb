{
 "cells": [
  {
   "cell_type": "markdown",
   "metadata": {},
   "source": [
    "## 예제 4-1. 상하좌우 \n",
    "#### 계획서가 주어졌을 때, 최종 도착할 지점을 출력하시오 (왼쪽 위: (1, 1), 오른쪽 아래: (N, N))"
   ]
  },
  {
   "cell_type": "code",
   "execution_count": null,
   "metadata": {},
   "outputs": [],
   "source": [
    "# 내 답변\n",
    "\n",
    "map_size = int(input())\n",
    "trip_plan = input().split()\n",
    "\n",
    "current_pos = [1, 1]\n",
    "\n",
    "for step in trip_plan:\n",
    "    if step == 'R':\n",
    "        if current_pos[1] != map_size:\n",
    "            current_pos[1] += 1\n",
    "    if step == 'L':\n",
    "        if current_pos[1] != 1:\n",
    "            current_pos[1] -= 1\n",
    "    if step == 'U':\n",
    "        if current_pos[0] != 1:\n",
    "            current_pos[0] -= 1\n",
    "    if step == 'D':\n",
    "        if current_pos[0] != map_size:\n",
    "            current_pos[0] += 1\n",
    "            \n",
    "print(current_pos[0], current_pos[1])\n",
    "        "
   ]
  },
  {
   "cell_type": "code",
   "execution_count": null,
   "metadata": {},
   "outputs": [],
   "source": [
    "# 답변 예시\n",
    "\n",
    "n = int(input())\n",
    "x, y = 1, 1\n",
    "plans = input().split()\n",
    "\n",
    "dx = [0, 0, -1, 1]\n",
    "dy = [-1, 1, 0, 0]\n",
    "move_types = ['L', 'R', 'U', 'D']\n",
    "\n",
    "for plan in plans:\n",
    "    for i in range(len(move_types)):\n",
    "        if plan == move_type[i]:\n",
    "            nx = x + dx[i]\n",
    "            ny = y + dy[i]\n",
    "            \n",
    "    # 범위를 벗어나면 좌표 업데이트 건너뛰기\n",
    "    if nx < 1 or ny < 1 or nx > n or ny > n:\n",
    "        continue\n",
    "        \n",
    "    # 좌표 업데이트 수행\n",
    "    x, y = nx, ny"
   ]
  },
  {
   "cell_type": "markdown",
   "metadata": {},
   "source": [
    "## 예제 4-2. 시각\n",
    "#### 정수 N이 입력되면 00:00:00 ~ N:59:59 사이의 시각 중 3이 포함된 시간을 구하는 프로그램을 작성하시오."
   ]
  },
  {
   "cell_type": "code",
   "execution_count": null,
   "metadata": {},
   "outputs": [],
   "source": [
    "#내 답안 \n",
    "    # 3:00:00 이 카운팅 되지 않음\n",
    "n = int(input())\n",
    "\n",
    "\n",
    "time_list = []\n",
    "\n",
    "for minute in range(60):\n",
    "    for second in range(60):\n",
    "        time_list.append(str(minute*100 + second))\n",
    "three_count = 0        \n",
    "for time in time_list:\n",
    "    if '3' in time:\n",
    "        three_count += 1\n",
    "\n",
    "print( n * three_count)"
   ]
  },
  {
   "cell_type": "code",
   "execution_count": null,
   "metadata": {},
   "outputs": [],
   "source": [
    "#답안 예시\n",
    "\n",
    "h = int(input())\n",
    "\n",
    "count = 0\n",
    "for i in range(h + 1):\n",
    "    for j in range(60):\n",
    "        for k in range(60):\n",
    "            if '3' in str(i) + str(j) + str(k):\n",
    "                count += 1\n",
    "                \n",
    "print(count)"
   ]
  },
  {
   "cell_type": "markdown",
   "metadata": {},
   "source": [
    "## < 2 > 왕실의 나이트\n",
    "#### 좌표가 주어질 때, 나이트가 갈 수 있는 경우의 수 출력"
   ]
  },
  {
   "cell_type": "code",
   "execution_count": null,
   "metadata": {},
   "outputs": [],
   "source": [
    "# 내 답안\n",
    "\n",
    "k_position = input()\n",
    "k_position = [ord(k_position[0]) - 96, int(k_position[1])]\n",
    "\n",
    "count = 0\n",
    "for i in [-2, 2]:\n",
    "    for j in [-1, 1]:\n",
    "        changed_position_x = k_position[0] + i\n",
    "        changed_position_y = k_position[1] + j\n",
    "        if 0 < changed_position_x and changed_position_x < 9:\n",
    "            if 0 < changed_position_y and changed_position_y < 9:\n",
    "                count += 1\n",
    "for i in [-2, 2]:\n",
    "    for j in [-1, 1]:\n",
    "        changed_position_x = k_position[0] + j\n",
    "        changed_position_y = k_position[1] + i\n",
    "        if 0 < changed_position_x and changed_position_x < 9:\n",
    "            if 0 < changed_position_y and changed_position_y < 9:\n",
    "                count += 1        \n",
    "                \n",
    "print(count)"
   ]
  },
  {
   "cell_type": "code",
   "execution_count": null,
   "metadata": {},
   "outputs": [],
   "source": [
    "# 답안 예시\n",
    "\n",
    "input_data = input()\n",
    "row = int(input_data[1])\n",
    "column = int(ord(input_data[0])) - int(ord('a')) + 1\n",
    "\n",
    "steps = [(-2, -1), (-1, -2), (1, -2), (2, -1), (2, 1), (1, 2), (-1, 2), (-2, 1)]\n",
    "\n",
    "result = 0\n",
    "for step in steps:\n",
    "    next_row = row + step[0]\n",
    "    next_column = column + step[1]\n",
    "    if next_row >= 1 and next_row <= 8 and next_column >= 1 and next_column <= 8:\n",
    "        result += 1\n",
    "        \n",
    "print(result)\n",
    "\n",
    "    # 상하좌우 문제에서는 dx, dy 리스트를 선언하여 이동할 방향을 기록하거나\n",
    "    # steps 변수가 dx와 dy 변수의 기능을 대신한다.\n",
    "    # 위의 두 가지 방법은 모두 자주 사용되므로, 참고하도록 하자."
   ]
  },
  {
   "cell_type": "markdown",
   "metadata": {},
   "source": [
    "## < 3 > 게임 개발\n",
    "#### 0. 캐릭터가 방문한 칸의 수를 출력\n",
    "#### 1. 왼쪽 방향부터 갈 곳을 정한다.\n",
    "#### 2. 왼쪽에 가보기 전이라면 -> 왼쪽으로 회전한 후, 전진\n",
    "#### 3. 왼쪽에 가봤다면 -> 왼쪽으로 회전 한 후, 정지\n",
    "#### 4. 네 방향 모두 가본 곳이나 바다라면 -> 방향을 유지한 채 한 칸 뒤로 간다\n",
    "#### 5. '4.'의 한 칸 뒤로 갈 수 없다면 -> 움직임을 멈춘다"
   ]
  },
  {
   "cell_type": "code",
   "execution_count": 3,
   "metadata": {},
   "outputs": [],
   "source": [
    "n, m = 4, 4\n",
    "current_row, current_col, direction = 1, 1, 0\n",
    "\n",
    "map = [[1, 1, 1, 1], \n",
    "       [1, 0, 0, 1], \n",
    "       [1, 1, 0, 1], \n",
    "       [1, 1, 1, 1]]\n",
    "\n",
    "# 0, 1, 2, 3: 북, 동, 남, 서\n",
    "# 0, 1: 육지, 바다\n",
    "\n",
    "# 지금 보고 있는 방향에 따라 탐색 순서가 바뀐다 -> 구현 완료(4방향 검사)\n",
    "    \n",
    "search_list = [[0, -1], [1, 0], [0, 1], [-1, 0]] * 2\n",
    "    # 탐색 방향은 xpos, ypos + (search_list + direction) 같은 느낌\n",
    "\n",
    "visited = [[False for _ in range(m)] for _ in range(n)]\n",
    "\n",
    "visited[current_row][current_col] = True\n",
    "    # 시작 위치를 방문 표시\n",
    "\n",
    "#4방향 검사\n",
    "try:\n",
    "    for i in range(4):\n",
    "        try:\n",
    "            if visited[current_row + search_list[i - direction][0]][current_col + search_list[i - direction][1]]  == False:\n",
    "                \n",
    "                    \n",
    "        except:\n",
    "            pass\n",
    "                # 위치 index가 out of range일 경우, 처리 없이 넘김\n",
    "            "
   ]
  },
  {
   "cell_type": "code",
   "execution_count": null,
   "metadata": {},
   "outputs": [],
   "source": []
  }
 ],
 "metadata": {
  "kernelspec": {
   "display_name": "Python 3",
   "language": "python",
   "name": "python3"
  },
  "language_info": {
   "codemirror_mode": {
    "name": "ipython",
    "version": 3
   },
   "file_extension": ".py",
   "mimetype": "text/x-python",
   "name": "python",
   "nbconvert_exporter": "python",
   "pygments_lexer": "ipython3",
   "version": "3.7.6"
  }
 },
 "nbformat": 4,
 "nbformat_minor": 4
}
