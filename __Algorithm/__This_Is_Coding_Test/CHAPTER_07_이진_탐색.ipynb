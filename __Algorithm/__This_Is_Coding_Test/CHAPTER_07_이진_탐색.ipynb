{
 "cells": [
  {
   "cell_type": "markdown",
   "metadata": {},
   "source": [
    "## 순차 탐색 (sequential Search)\n",
    "- ### 리스트 안에 있는 특정한 데이터를 찾기 위해 앞에서부터 차례대로 데이터를 확인하는 방식"
   ]
  },
  {
   "cell_type": "code",
   "execution_count": null,
   "metadata": {},
   "outputs": [
    {
     "name": "stdout",
     "output_type": "stream",
     "text": [
      "생성할 원소(n) 과 찾으려는 문자열 입력: (띄어쓰기로 구분)\n"
     ]
    }
   ],
   "source": [
    "def sequential_search(n, target, array):\n",
    "    for i in range(n):\n",
    "        if array[i] == target:\n",
    "            return i + 1\n",
    "                # target 과 동일한 값을 갖는 위치 반환\n",
    "            \n",
    "if __name__ == \"__main__\":\n",
    "    print(\"생성할 원소(n) 과 찾으려는 문자열 입력: (띄어쓰기로 구분)\")\n",
    "    input_data = input().split()\n",
    "    n = int(input_data[0])\n",
    "    target = input_data[1]\n",
    "    \n",
    "    print(\"n의 갯수만큼 문자열 입력: (띄어쓰기로 구분)\")\n",
    "    array = input().split()\n",
    "    \n",
    "    print(sequential_search(n, target, array))\n",
    "        # 만약 존재하지 않는다면 None 출력됨"
   ]
  },
  {
   "cell_type": "markdown",
   "metadata": {},
   "source": [
    "## 이진 탐색 (Binary Search)\n",
    "- ### 배열 내부의 데이터가 정렬되어 있어야만 사용가능\n",
    "- ### 시작점, 끝점, 중간점이 존재 ( 중간점이 실수라면 소수점 이하는 버림 )"
   ]
  },
  {
   "cell_type": "code",
   "execution_count": 21,
   "metadata": {},
   "outputs": [
    {
     "name": "stdin",
     "output_type": "stream",
     "text": [
      "찾으려는 정수값:  5\n"
     ]
    },
    {
     "name": "stdout",
     "output_type": "stream",
     "text": [
      "5는 배열의 4번 째 수 입니다.\n"
     ]
    }
   ],
   "source": [
    "array = [0, 2, 3, 5, 6, 7, 9, 11, 13, 14, 15, 19]\n",
    "\n",
    "def binary_search(array, target, start, end):\n",
    "    if start > end:\n",
    "        # start == end 로 작성하면 error 발생\n",
    "        return -1\n",
    "    mid = (start + end ) // 2\n",
    "    if target > array[mid]:\n",
    "        return binary_search(array, target, mid + 1, end)\n",
    "    elif target < array[mid]:\n",
    "        return binary_search(array, target, start, mid - 1)\n",
    "    else:\n",
    "        return mid\n",
    "\n",
    "if __name__ == \"__main__\":\n",
    "    target = int(input('찾으려는 정수값: '))\n",
    "    answer = binary_search(array, target, 0, len(array) - 1)\n",
    "    if answer == -1:\n",
    "        print('배열 내에 찾으려는 값이 없습니다.')\n",
    "    else:\n",
    "        print('{}는 배열의 {}번 째 수 입니다.'.format(target, answer + 1))"
   ]
  },
  {
   "cell_type": "markdown",
   "metadata": {},
   "source": [
    "## 트리 자료구조\n",
    "- ### 그래프 자료구조의 일종\n",
    "- ### 데이터베이스 시스템이나 파일 시스템과 같은 곳에서 많은 영의 데이터를 관리하기 위한 목적\n",
    "- ### 노드 (Node)와 노드 (Node)의 연결 (링크, Link)로 표현되며, 노드는 정보의 단위\n",
    "- ### 트리의 최상단 노드는 루트 노드 (Root Node), 최하단 노드는 말단 노드 (Leaf Node)라고 한다\n",
    "- ### 계층적이고 정렬된 데이터를 다루기에 적합"
   ]
  },
  {
   "cell_type": "markdown",
   "metadata": {},
   "source": [
    "## c.f) ___readline()___ 함수 사용"
   ]
  },
  {
   "cell_type": "code",
   "execution_count": 25,
   "metadata": {},
   "outputs": [
    {
     "name": "stdout",
     "output_type": "stream",
     "text": [
      "\n"
     ]
    }
   ],
   "source": [
    "import sys\n",
    "\n",
    "input_data = sys.stdin.readline().rstrip()\n",
    "    # 하나의 문자열 데이터 입력받기\n",
    "\n",
    "print(input_data)"
   ]
  },
  {
   "cell_type": "markdown",
   "metadata": {},
   "source": [
    "## < 2 > 부품 찾기\n",
    "#### 입력: n \\n n_list \\n m \\n m_list\n",
    "#### 출력: yes or no 으로 이루어진 리스트"
   ]
  },
  {
   "cell_type": "code",
   "execution_count": 35,
   "metadata": {},
   "outputs": [
    {
     "name": "stdout",
     "output_type": "stream",
     "text": [
      "No Yes Yes Yes Yes Yes Yes "
     ]
    }
   ],
   "source": [
    "# 내 답변\n",
    "\n",
    "parts_list = [8, 3, 7, 9, 2, 1, 11, 23, 43, 55, 66, 21, 12, 13, 0]\n",
    "require_list = [5, 7, 9, 1, 0, 12, 13]\n",
    "\n",
    "def binary_search(array, target, start, end):\n",
    "    mid = (start + end) // 2\n",
    "    if start > end:\n",
    "        return 'No'\n",
    "    if array[mid] < target:\n",
    "        return binary_search(array, target, mid + 1, end)\n",
    "    elif array[mid] > target:\n",
    "        return binary_search(array, target, start, mid - 1)\n",
    "    else:\n",
    "        return 'Yes'\n",
    "    \n",
    "if __name__ == '__main__':\n",
    "    parts_list.sort()\n",
    "    answer_list = []\n",
    "    for request in require_list:\n",
    "        answer_list.append(binary_search(parts_list, request, 0, len(parts_list) - 1))\n",
    "    for answer in answer_list:\n",
    "        print(answer, end=' ')"
   ]
  },
  {
   "cell_type": "code",
   "execution_count": 37,
   "metadata": {},
   "outputs": [
    {
     "name": "stdout",
     "output_type": "stream",
     "text": [
      "yes yes yes yes yes yes yes "
     ]
    }
   ],
   "source": [
    "# 답변 예시 (계수 정렬)\n",
    "\n",
    "n = int(input())\n",
    "array = [0] * 1000000\n",
    "\n",
    "for i in input().split():\n",
    "    array[int(i)] = 1\n",
    "    \n",
    "m = int(input())\n",
    "x = list(map(int, input().split()))\n",
    "\n",
    "for i in x:\n",
    "    if array[i] == 1:\n",
    "        print('yes', end=' ')\n",
    "    else:\n",
    "        print('no', end=' ')"
   ]
  },
  {
   "cell_type": "markdown",
   "metadata": {},
   "source": [
    "## < 3 > 떡볶이 떡 만들기\n",
    "#### 입력: n m \\n n1 n2 n3 .. nn\n",
    "#### 출력: max_cut"
   ]
  },
  {
   "cell_type": "code",
   "execution_count": null,
   "metadata": {},
   "outputs": [],
   "source": [
    "# 내 답변\n",
    "\n",
    "n, m = 4, 6\n",
    "n_list = [19, 15, 10, 17]\n",
    "\n"
   ]
  }
 ],
 "metadata": {
  "kernelspec": {
   "display_name": "Python 3",
   "language": "python",
   "name": "python3"
  },
  "language_info": {
   "codemirror_mode": {
    "name": "ipython",
    "version": 3
   },
   "file_extension": ".py",
   "mimetype": "text/x-python",
   "name": "python",
   "nbconvert_exporter": "python",
   "pygments_lexer": "ipython3",
   "version": "3.8.5"
  }
 },
 "nbformat": 4,
 "nbformat_minor": 4
}
