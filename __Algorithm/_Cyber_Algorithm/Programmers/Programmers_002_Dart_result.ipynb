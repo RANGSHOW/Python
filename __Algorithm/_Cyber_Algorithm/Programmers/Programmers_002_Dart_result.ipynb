{
 "cells": [
  {
   "cell_type": "code",
   "execution_count": 150,
   "metadata": {},
   "outputs": [
    {
     "name": "stdout",
     "output_type": "stream",
     "text": [
      "[['1S', '2D*', '3T'], ['1D', '2S#', '10S'], ['1D', '2S', '0T'], ['1S*', '2T*', '3S'], ['1D#', '2S*', '3S'], ['1T', '2D', '3D#'], ['1D', '2S', '3T*']]\n",
      "3\n"
     ]
    }
   ],
   "source": [
    "score = \\\n",
    "'\\\n",
    "1\t1S2D*3T\t37\t11 * 2 + 22 * 2 + 33\\\n",
    "2\t1D2S#10S\t9\t12 + 21 * (-1) + 101\\\n",
    "3\t1D2S0T\t3\t12 + 21 + 03\\\n",
    "4\t1S*2T*3S\t23\t11 * 2 * 2 + 23 * 2 + 31\\\n",
    "5\t1D#2S*3S\t5\t12 * (-1) * 2 + 21 * 2 + 31\\\n",
    "6\t1T2D3D#\t-4\t13 + 22 + 32 * (-1)\\\n",
    "7\t1D2S3T*\t59\t12 + 21 * 2 + 33 * 2'\n",
    "score = score.split('\\t')\n",
    "scores = score[1:30:3]    \n",
    "    #['1S2D*3T', '1D2S#10S', '1D2S0T', '1S*2T*3S', '1D#2S*3S', '1T2D3D#', '1D2S3T*']\n",
    "\n",
    "# 3회 인덱스 찾기\n",
    "try_idx = [0] * len(scores)\n",
    "for i in range(len(scores)):\n",
    "    count = 0\n",
    "    try_num = []\n",
    "    for j in range(2, len(scores[i])):\n",
    "        \n",
    "        if count == 2:\n",
    "            break\n",
    "        else:\n",
    "            if scores[i][j].isdigit():\n",
    "                count += 1\n",
    "                try_num.append(j)\n",
    "    try_idx[i] = try_num\n",
    "        #try_idx == [[2, 5], [2, 5], [2, 4], [3, 6], [3, 6], [2, 4], [2, 4]]\n",
    "#세 가지 시도로 구분\n",
    "for i in range(len(scores)):\n",
    "    first_try = scores[i][0: (try_idx[i][0])]\n",
    "    second_try = scores[i][(try_idx[i][0]): (try_idx[i][1])]\n",
    "    third_try = scores[i][(try_idx[i][1]):]\n",
    "    scores[i] = [first_try, second_try, third_try]\n",
    "\n",
    "class Score():\n",
    "    def __init__(self, )\n",
    "\n",
    "for i in range(len(scores)):\n",
    "    for j in range(len(scores[i])):\n",
    "            scores[i][j].replace('S', '(*1)')\n",
    "            scores[i][j].replace('D', '(*2)')\n",
    "            scores[i][j].replace('T', '(*3)')\n",
    "print(scores)\n",
    "print(eval('1*3'))\n",
    "#         for k in range(len(scores[i][j])):    #scores[i][j][k] == char(e.g. 1, D, *)\n",
    "#             if scores[i][j][k] == 'S':\n",
    "#                 scores[i][j].replace('S', '(*1)')\n",
    "#             elif scores[i][j][k] == 'D':\n",
    "#                 scores[i][j].replace('T', '(*2)')\n",
    "#             elif scores[i][j][k] == 'T':\n",
    "#                 scores[i][j].replace('T', '(*3)')\n",
    "\n",
    "\n",
    "            "
   ]
  }
 ],
 "metadata": {
  "kernelspec": {
   "display_name": "Python 3",
   "language": "python",
   "name": "python3"
  },
  "language_info": {
   "codemirror_mode": {
    "name": "ipython",
    "version": 3
   },
   "file_extension": ".py",
   "mimetype": "text/x-python",
   "name": "python",
   "nbconvert_exporter": "python",
   "pygments_lexer": "ipython3",
   "version": "3.7.6"
  }
 },
 "nbformat": 4,
 "nbformat_minor": 4
}
