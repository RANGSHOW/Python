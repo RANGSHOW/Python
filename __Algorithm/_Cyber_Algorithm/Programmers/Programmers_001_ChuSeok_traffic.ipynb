{
 "cells": [
  {
   "cell_type": "code",
   "execution_count": 2,
   "metadata": {},
   "outputs": [
    {
     "name": "stdout",
     "output_type": "stream",
     "text": [
      "[['01:00:04.001', '2.0'], ['01:00:07.000', '2']]\n"
     ]
    }
   ],
   "source": [
    "lines = [\n",
    "\"2016-09-15 01:00:04.001 2.0s\",\n",
    "\"2016-09-15 01:00:07.000 2s\"\n",
    "]\n",
    "\n",
    "def solution(lines):\n",
    "    line_time = [0] * len(lines)\n",
    "    for i in range(len(lines)):\n",
    "        lines[i] = lines[i].split()\n",
    "        lines[i] = [lines[i][1], lines[i][2]]\n",
    "        lines[i][1] = lines[i][1][:-1]      \n",
    "    print(lines)\n",
    "    \n",
    "if __name__ == \"__main__\":\n",
    "    solution(lines)"
   ]
  }
 ],
 "metadata": {
  "kernelspec": {
   "display_name": "Python 3",
   "language": "python",
   "name": "python3"
  },
  "language_info": {
   "codemirror_mode": {
    "name": "ipython",
    "version": 3
   },
   "file_extension": ".py",
   "mimetype": "text/x-python",
   "name": "python",
   "nbconvert_exporter": "python",
   "pygments_lexer": "ipython3",
   "version": "3.7.6"
  }
 },
 "nbformat": 4,
 "nbformat_minor": 4
}
