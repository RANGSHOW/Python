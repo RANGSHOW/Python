{
 "cells": [
  {
   "cell_type": "markdown",
   "metadata": {},
   "source": [
    "### %time, %%time\n",
    "#### %time은 '라인'의 실행 시간을 출력하고\n",
    "#### %%time은 '셀'의 실행 시간을 출력한다"
   ]
  },
  {
   "cell_type": "markdown",
   "metadata": {},
   "source": [
    "##### 'shift + enter' -> 해당 셀을 실행하고 기존의 다음 셀로 넘어간다\n",
    "##### 'alt + enter' -> 해당셀을 실행하고 아래 새로운 셀을 생성하며 넘어간다\n"
   ]
  },
  {
   "cell_type": "code",
   "execution_count": 8,
   "metadata": {},
   "outputs": [
    {
     "name": "stdin",
     "output_type": "stream",
     "text": [
      "랜덤으로 생성할 리스트의 요소 수:  20\n"
     ]
    },
    {
     "name": "stdout",
     "output_type": "stream",
     "text": [
      "정렬 전: \n",
      " [9, 19, 13, 6, 20, 0, 13, 16, 20, 3, 7, 1, 11, 12, 9, 4, 2, 5, 13, 17]\n",
      "정렬 후: \n",
      " [0, 1, 2, 3, 4, 5, 6, 7, 9, 9, 11, 12, 13, 13, 13, 16, 17, 19, 20, 20]\n"
     ]
    }
   ],
   "source": [
    "# 선택 정렬 (Selection Sort)\n",
    "\n",
    "import random\n",
    "\n",
    "def selection_sort(a_list):\n",
    "    for i in range(len(a_list)):\n",
    "        min_idx = i\n",
    "        for j in range(i + 1, len(a_list)):\n",
    "            if a_list[j] < a_list[min_idx]:\n",
    "                min_idx = j\n",
    "        a_list[i], a_list[min_idx] = a_list[min_idx], a_list[i]\n",
    "            \n",
    "    \n",
    "\n",
    "if __name__ == \"__main__\":\n",
    "    elem_num = int(input('랜덤으로 생성할 리스트의 요소 수: '))\n",
    "    my_list = []\n",
    "    for _ in range(elem_num):\n",
    "        my_list.append(random.randint(0, elem_num))\n",
    "        \n",
    "    print(\"정렬 전: \\n\", my_list)\n",
    "    selection_sort(my_list)\n",
    "    print(\"정렬 후: \\n\", my_list)\n"
   ]
  },
  {
   "cell_type": "code",
   "execution_count": null,
   "metadata": {},
   "outputs": [],
   "source": []
  }
 ],
 "metadata": {
  "kernelspec": {
   "display_name": "Python 3",
   "language": "python",
   "name": "python3"
  },
  "language_info": {
   "codemirror_mode": {
    "name": "ipython",
    "version": 3
   },
   "file_extension": ".py",
   "mimetype": "text/x-python",
   "name": "python",
   "nbconvert_exporter": "python",
   "pygments_lexer": "ipython3",
   "version": "3.7.6"
  }
 },
 "nbformat": 4,
 "nbformat_minor": 4
}
