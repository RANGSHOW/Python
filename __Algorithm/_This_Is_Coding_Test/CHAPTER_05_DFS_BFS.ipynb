{
 "cells": [
  {
   "cell_type": "markdown",
   "metadata": {},
   "source": [
    "## 스택 예제"
   ]
  },
  {
   "cell_type": "code",
   "execution_count": null,
   "metadata": {},
   "outputs": [],
   "source": [
    "stack = []\n",
    "stack.append(5)\n",
    "stack.append(8)\n",
    "stack.append(10)\n",
    "    # [5, 8, 10]\n",
    "stack.pop()\n",
    "    # [5, 8]\n",
    "stack.append(1)\n",
    "stack.append(2)\n",
    "stack.append(3)\n",
    "\n",
    "print(stack)\n",
    "    # 최하단 원소부터 출력\n",
    "print(stack[::-1])\n",
    "    # 최상단 원소부터 출력"
   ]
  },
  {
   "cell_type": "markdown",
   "metadata": {},
   "source": [
    "## 큐 예제"
   ]
  },
  {
   "cell_type": "code",
   "execution_count": null,
   "metadata": {},
   "outputs": [],
   "source": [
    "from collections import deque\n",
    "    # 큐(Queue) 구현을 위해 deque 라이브러리 사용\n",
    "    \n",
    "queue = deque()\n",
    "\n",
    "queue.append(5)\n",
    "queue.append(3)\n",
    "queue.append(2)\n",
    "    # deque([5, 3, 2])\n",
    "queue.popleft()\n",
    "    # deque([3, 2])\n",
    "queue.append(7)\n",
    "    # deque([3, 2, 7])\n",
    "queue.popleft()\n",
    "queue.append(8)\n",
    "\n",
    "print(queue)\n",
    "queue.reverse()\n",
    "print(queue)\n",
    "print(list(queue))\n",
    "    # deque 객체를 list 자료형으로 변환"
   ]
  },
  {
   "cell_type": "markdown",
   "metadata": {},
   "source": [
    "## 재귀 함수 종료 예제"
   ]
  },
  {
   "cell_type": "code",
   "execution_count": null,
   "metadata": {},
   "outputs": [],
   "source": [
    "def recursive_function(i):\n",
    "    if i == 100:\n",
    "        return \n",
    "    print(\"{} 번째 재귀 함수에서 {} 번째 재귀함수를 호출합니다.\".format(i, i + 1))\n",
    "    recursive_function(i + 1)\n",
    "    print('{} 번째 재귀함수를 종료합니다.'.format(i))\n",
    "\n",
    "recursive_function(1)"
   ]
  },
  {
   "cell_type": "markdown",
   "metadata": {},
   "source": [
    "## 팩토리얼 예제 ( 2 가지 방법 )"
   ]
  },
  {
   "cell_type": "code",
   "execution_count": null,
   "metadata": {},
   "outputs": [],
   "source": [
    "# 반복적으로(순회) 구현한 n!\n",
    "def factorial_iterative(n):\n",
    "    result = 1\n",
    "    for i in range(1, n + 1):\n",
    "        result *= i\n",
    "    return result\n",
    "\n",
    "# 재귀적으로 구현한 n!\n",
    "def factorial_recursive(n):\n",
    "    if n <= 1:\n",
    "        return 1\n",
    "    # n! = n * (n - 1)를 그대로 코드로 작성 (점화식)\n",
    "    return n * factorial_recursive(n - 1)\n"
   ]
  },
  {
   "cell_type": "markdown",
   "metadata": {},
   "source": [
    "## < 2 > 탐색 알고리즘 DFS / BFS"
   ]
  },
  {
   "cell_type": "markdown",
   "metadata": {},
   "source": [
    "### 인접 행렬 (Ajacency Matrix) 방식\n",
    "- #### 2차원 배열로 그래프의 연결 관계를 표현하는 방식\n",
    "- #### 동일 노드의 연결에는 0을 작성한다\n",
    "- #### 연결에 되지 않은 노드끼리는 무한(Infinity)의 비용이라고 작성한다"
   ]
  },
  {
   "cell_type": "code",
   "execution_count": null,
   "metadata": {},
   "outputs": [],
   "source": [
    "INF = 99999999\n",
    "\n",
    "# 2차원 리스트를 이용해 인접 행렬 표현\n",
    "graph = [\n",
    "    [0, 7, 5], \n",
    "    [7, 0, INF], \n",
    "    [5, INF, 0]\n",
    "]\n",
    "\n",
    "print(graph)"
   ]
  },
  {
   "cell_type": "markdown",
   "metadata": {},
   "source": [
    "### 인접 리스트 (Ajacency List) 방식\n",
    "- #### 리스트로 그래프의 연결 관계를 표현하는 방식\n",
    "- #### "
   ]
  },
  {
   "cell_type": "code",
   "execution_count": null,
   "metadata": {},
   "outputs": [],
   "source": [
    "graph = [[] for _ in range(3)]\n",
    "    # [[] * 3] 하면 [] 3개의 주소가 같다\n",
    "graph[0].append((1, 7))\n",
    "graph[0].append((2, 5))\n",
    "        # 노드0에 연결된 (노드1, 거리7)\n",
    "        # 노드0에 연결된 (노드2, 거리5)\n",
    "graph[1].append((0, 7))\n",
    "graph[2].append((0, 5))\n",
    "\n",
    "print(graph)\n",
    "asd"
   ]
  },
  {
   "cell_type": "markdown",
   "metadata": {},
   "source": [
    "### 특정한 두 노드의 연결 정보를 얻는 속도 우위: 인접 행렬 방식 \n",
    "- #### 인접 리스트 방식은 연결된 데이터를 하나씩 확인해야하므로   \n",
    "\n",
    "### 메모리 공간의 효율성: 인접 리스트 방식 \n",
    "- #### 연결된 정보만 저장하기 때문에 (인접 행렬 방식은 N x N 을 모두 저장)"
   ]
  },
  {
   "cell_type": "markdown",
   "metadata": {},
   "source": [
    "## DFS 코드 예제"
   ]
  },
  {
   "cell_type": "code",
   "execution_count": null,
   "metadata": {},
   "outputs": [],
   "source": [
    "def dfs(graph, v, visited):\n",
    "    visited[v] = True\n",
    "    print(v, end=' ')\n",
    "    for i in graph[v]:\n",
    "        if not visited[i] == True:\n",
    "            dfs(graph, i, visited)\n",
    "            \n",
    "graph = [\n",
    "    [],\n",
    "    [2, 3, 8],\n",
    "    [1, 7], \n",
    "    [1, 4, 5],\n",
    "    [3, 5],\n",
    "    [3, 4],\n",
    "    [7], \n",
    "    [2, 6, 8],\n",
    "    [1, 7]\n",
    "    ]\n",
    "visited = [False] * 9\n",
    "\n",
    "dfs(graph, 1, visited)"
   ]
  },
  {
   "cell_type": "markdown",
   "metadata": {},
   "source": [
    "## BFS 코드 예제"
   ]
  },
  {
   "cell_type": "code",
   "execution_count": null,
   "metadata": {},
   "outputs": [],
   "source": [
    "from collections import deque\n",
    "\n",
    "def bfs(graph, start, visited):\n",
    "    queue = deque([start])\n",
    "        # queue == deque([1])\n",
    "    visited[start] = True\n",
    "    while queue:\n",
    "        v = queue.popleft()\n",
    "            # deque object에도 pop() 메서드가 있고 이는 오른쪽(제일 최근에 삽입된) 요소를 추출한다\n",
    "        print(v, end=' ')\n",
    "        for i in graph[v]:\n",
    "            if not visited[i]:\n",
    "                queue.append(i)\n",
    "                visited[i] = True\n",
    "\n",
    "graph = [[],\n",
    "         [2, 3, 8],\n",
    "         [1, 7], \n",
    "         [1, 4, 5],\n",
    "         [3, 5],\n",
    "         [3, 4],\n",
    "         [7], \n",
    "         [2, 6, 8],\n",
    "         [1, 7]]\n",
    "\n",
    "visited = [False] * 9\n",
    "\n",
    "bfs(graph, 1, visited)"
   ]
  },
  {
   "cell_type": "markdown",
   "metadata": {},
   "source": [
    "## < 3 > 음료수 얼려 먹기\n",
    "#### 얼음은 0, 칸막이는 1, N X M 크기의 판이 주어지면 생성되는 아이스크림 개수 출력"
   ]
  },
  {
   "cell_type": "code",
   "execution_count": 9,
   "metadata": {},
   "outputs": [],
   "source": [
    "# 내 답변\n",
    "# n, m = 15, 14\n",
    "\n",
    "# 00000111100000\n",
    "# 11111101111110\n",
    "# 11011101101110\n",
    "# 11011101100000\n",
    "# 11011111111111\n",
    "# 11011111111100\n",
    "# 11000000011111\n",
    "# 01111111111111\n",
    "# 00000000011111\n",
    "# 01111111111000\n",
    "# 00011111111000\n",
    "# 00000001111000\n",
    "# 11111111110011\n",
    "# 11100011111111\n",
    "# 11100011111111\n",
    "\n",
    "n, m = 4, 5\n",
    "graph = [[0, 0, 1, 1, 0],\n",
    "         [0, 0, 0, 1, 1],\n",
    "         [1, 1, 1, 1, 1],\n",
    "         [0, 0, 0, 0, 0]]\n",
    "\n",
    "def dfs(row, col):\n",
    "    if row <= -1 or row >= n or col <= -1 or col >= 5:\n",
    "        return False\n",
    "            # 즉시 dfs 함수 종료\n",
    "    if graph[row][col] == 0:\n",
    "        graph[row][col] = 1\n",
    "        dfs(row - 1, col)\n",
    "        dfs(row, col - 1)\n",
    "        dfs(row + 1, col)\n",
    "        dfs(row, col + 1)\n",
    "        return True\n",
    "            # 얼음을 만들 수 있다는 것을 return \n",
    "    return False\n",
    "\n",
    "# 모든 노드(위치)에 대하여 음료수 채우기\n",
    "result = 0\n",
    "for i in range(n):\n",
    "    for j in ragne(m):\n",
    "        if dfs(i, j) == True:\n",
    "            result += 1\n",
    "\n",
    "print(result)"
   ]
  },
  {
   "cell_type": "code",
   "execution_count": null,
   "metadata": {},
   "outputs": [],
   "source": [
    "# Method 1.\n",
    "\n",
    "# 1. 상하좌우에 0(얼음)이 있나 없나, 있다면 그 셀로 옮겨가서도 탐색 \n",
    "# 2. 위의 '1.'에서 탐색한 얼음은 탐색 완료 처리\n",
    "\n"
   ]
  },
  {
   "cell_type": "markdown",
   "metadata": {},
   "source": [
    "## < 4 > 미로 탈출\n",
    "#### 0이 괴물, 1이 길로 주어졌을 때, 출구(N, M)에 도달하는 최소 칸의 개수를 출력"
   ]
  },
  {
   "cell_type": "code",
   "execution_count": null,
   "metadata": {},
   "outputs": [],
   "source": [
    "# 내 답변\n",
    "\n",
    "# 최단 거리만큼 아래, 오른쪽 화살표 컴비네이션 -> 문제점: 왼쪽이나 위로 가야하는 경우가 있다\n",
    "\n",
    "# dfs\n",
    "    # 트리 형태로 작성한다\n",
    "\n",
    "def dfs(row, col):\n",
    "    if row < 0 or row >= n or col < 0 or col >= m:\n",
    "        pass\n",
    "    \n",
    "    \n",
    "    \n",
    "    \n",
    "    \n",
    "    \n",
    "    "
   ]
  },
  {
   "cell_type": "code",
   "execution_count": 1,
   "metadata": {},
   "outputs": [],
   "source": [
    "# 답변 예시\n",
    "from collections import deque\n",
    "\n",
    "n, m = 5, 6\n",
    "graph = [[1, 0, 1, 0, 1, 0], \n",
    "         [1, 1, 1, 1, 1, 1],\n",
    "         [0, 0, 0, 0, 0, 1],\n",
    "         [1, 1, 1, 1, 1, 1],\n",
    "         [1, 1, 1, 1, 1, 1]]\n",
    "\n",
    "dx = [-1, 1, 0, 0]\n",
    "dy = [0, 0, -1, 1]\n",
    "    # 이동할 네 방향 정의(상, 하, 좌, 우)\n",
    "\n",
    "def bfs(x, y):\n",
    "    "
   ]
  }
 ],
 "metadata": {
  "kernelspec": {
   "display_name": "Python 3",
   "language": "python",
   "name": "python3"
  },
  "language_info": {
   "codemirror_mode": {
    "name": "ipython",
    "version": 3
   },
   "file_extension": ".py",
   "mimetype": "text/x-python",
   "name": "python",
   "nbconvert_exporter": "python",
   "pygments_lexer": "ipython3",
   "version": "3.7.6"
  }
 },
 "nbformat": 4,
 "nbformat_minor": 4
}
