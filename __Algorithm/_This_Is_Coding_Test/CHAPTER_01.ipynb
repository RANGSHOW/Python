{
 "cells": [
  {
   "cell_type": "markdown",
   "metadata": {},
   "source": [
    "## 복잡도"
   ]
  },
  {
   "cell_type": "code",
   "execution_count": 1,
   "metadata": {},
   "outputs": [
    {
     "name": "stdout",
     "output_type": "stream",
     "text": [
      "15\n"
     ]
    }
   ],
   "source": [
    "array = [3, 5, 1, 2, 4]\n",
    "summary = 0\n",
    "for x in array:\n",
    "    summary += x\n",
    "print(summary)\n",
    "    # 연산 횟수에 따라 시간 복잡도가 증가한다\n",
    "    # => O(N)"
   ]
  },
  {
   "cell_type": "code",
   "execution_count": null,
   "metadata": {},
   "outputs": [],
   "source": [
    "a = 5\n",
    "b = 10\n",
    "print(a + b)\n",
    "    # a, b 레이블에 정수 객체를 할당(binding)하는 대입 연산과 출력 함수(print()) 를 무시하면\n",
    "    # 이 소스 코드의 연산 횟수는 1\n",
    "    # 상수 연산이므로 시간 복잡도는 O(1)"
   ]
  },
  {
   "cell_type": "code",
   "execution_count": null,
   "metadata": {},
   "outputs": [],
   "source": [
    "# 수행 시간을 측정하는 소스코드\n",
    "import time\n",
    "\n",
    "start_time = time.time()\n",
    "# 프로그램 코드\n",
    "end_time = time.time()\n",
    "\n",
    "print(end_time - start_time)"
   ]
  }
 ],
 "metadata": {
  "kernelspec": {
   "display_name": "Python 3",
   "language": "python",
   "name": "python3"
  },
  "language_info": {
   "codemirror_mode": {
    "name": "ipython",
    "version": 3
   },
   "file_extension": ".py",
   "mimetype": "text/x-python",
   "name": "python",
   "nbconvert_exporter": "python",
   "pygments_lexer": "ipython3",
   "version": "3.7.6"
  }
 },
 "nbformat": 4,
 "nbformat_minor": 4
}
