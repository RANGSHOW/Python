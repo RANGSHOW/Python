{
 "cells": [
  {
   "cell_type": "code",
   "execution_count": 1,
   "metadata": {},
   "outputs": [],
   "source": [
    "import random\n",
    "import time\n",
    "\n",
    "def generate_list() -> int:\n",
    "    input_n = int(input('정렬할 데이터 수: '))\n",
    "    return [random.randint(0, input_n) for _ in range(input_n)]"
   ]
  },
  {
   "cell_type": "markdown",
   "metadata": {},
   "source": [
    "### 선택 정렬 알고리즘 (Selection Sort Algorithm)"
   ]
  },
  {
   "cell_type": "code",
   "execution_count": 10,
   "metadata": {},
   "outputs": [
    {
     "name": "stdin",
     "output_type": "stream",
     "text": [
      "정렬할 데이터 수:  10\n"
     ]
    },
    {
     "name": "stdout",
     "output_type": "stream",
     "text": [
      "정렬 전:  [5, 10, 0, 7, 3, 8, 1, 3, 1, 8]\n",
      "정렬 후:  [0, 1, 1, 3, 3, 5, 7, 8, 8, 10]\n"
     ]
    }
   ],
   "source": [
    "# 오름차순 정렬\n",
    "def selected_sort(random_list):\n",
    "    for sel in range(len(random_list) - 1):\n",
    "        min = random_list[sel]\n",
    "        min_index = sel\n",
    "        for step in range(sel + 1, len(random_list)):\n",
    "            if min > random_list[step]:\n",
    "                min = random_list[step]\n",
    "                min_index = step\n",
    "        \n",
    "        random_list[min_index], random_list[sel] = random_list[sel], min\n",
    "        \n",
    "if __name__ == \"__main__\":\n",
    "    my_list = generate_list()\n",
    "    print('정렬 전 >>> ', my_list)\n",
    "    selected_sort(my_list)\n",
    "    print('정렬 후 >>> ', my_list)"
   ]
  },
  {
   "cell_type": "markdown",
   "metadata": {},
   "source": [
    "### 삽입 정렬 알고리즘 (Insert Sort Algirithm)"
   ]
  },
  {
   "cell_type": "code",
   "execution_count": 7,
   "metadata": {},
   "outputs": [
    {
     "name": "stdin",
     "output_type": "stream",
     "text": [
      "정렬할 데이터의 수:  15\n"
     ]
    },
    {
     "name": "stdout",
     "output_type": "stream",
     "text": [
      "정렬 전 >>> \n",
      "[11, 15, 2, 10, 10, 14, 15, 2, 3, 13, 15, 2, 12, 4, 2]\n",
      "정렬 후 >>> \n",
      "[2, 2, 2, 2, 3, 4, 10, 10, 11, 12, 13, 14, 15, 15, 15]\n"
     ]
    }
   ],
   "source": [
    "compare_counter = 0\n",
    "swap_counter = 0\n",
    "\n",
    "# 오름차순 정렬\n",
    "def insertion_sort(my_list):\n",
    "    global compare_counter, swap_counter\n",
    "    my_list.insert(0, -1)\n",
    "    for s_idx in range(2, len(my_list)):\n",
    "        temp = my_list[s_idx]\n",
    "        ins_idx = s_idx\n",
    "        compare_counter += 1\n",
    "        while my_list[ins_idx - 1] > temp:\n",
    "            swap_counter += 1\n",
    "            my_list[ins_idx] = my_list[ins_idx - 1]\n",
    "            ins_idx = ins_idx - 1\n",
    "        my_list [ins_idx] = temp\n",
    "    del my_list[0]\n",
    "    \n",
    "if __name__ == \"__main__\":\n",
    "    my_list = generate_list()\n",
    "    \n",
    "    print(\"정렬 전 >>> \")\n",
    "    print(my_list)\n",
    "    \n",
    "    start_time = time.time()\n",
    "    insertion_sort(my_list)\n",
    "    running_time = time.time() - start_time\n",
    "    \n",
    "    print(\"정렬 후 >>> \")\n",
    "    print(my_list)"
   ]
  },
  {
   "cell_type": "markdown",
   "metadata": {},
   "source": [
    "### 거품 정렬 알고리즘 (Bubble Sort Algorithm)"
   ]
  },
  {
   "cell_type": "code",
   "execution_count": 2,
   "metadata": {},
   "outputs": [
    {
     "name": "stdin",
     "output_type": "stream",
     "text": [
      "정렬할 데이터 수:  10\n"
     ]
    },
    {
     "name": "stdout",
     "output_type": "stream",
     "text": [
      "정렬 전 >>> \n",
      "[0, 6, 7, 4, 2, 0, 5, 8, 3, 6]\n",
      "정렬 후 >>> \n",
      "[0, 0, 2, 3, 4, 5, 6, 6, 7, 8]\n"
     ]
    }
   ],
   "source": [
    "compare_counter = 0\n",
    "swap_counter = 0\n",
    "\n",
    "def bubble_sort(random_list):\n",
    "    for start_idx in range(len(random_list) - 1):\n",
    "        for idx in range(1, len(random_list) - start_idx):\n",
    "            if random_list[idx - 1] > random_list[idx]:\n",
    "                random_list[idx - 1], random_list[idx] = random_list[idx], random_list[idx - 1]\n",
    "\n",
    "if __name__ == \"__main__\":\n",
    "    my_list = generate_list()\n",
    "    \n",
    "    print(\"정렬 전 >>> \")\n",
    "    print(my_list)\n",
    "    \n",
    "    start_time = time.time()\n",
    "    bubble_sort(my_list)\n",
    "    running_time = time.time() - start_time\n",
    "    \n",
    "    print(\"정렬 후 >>> \")\n",
    "    print(my_list)"
   ]
  },
  {
   "cell_type": "markdown",
   "metadata": {},
   "source": [
    "### 셀 정렬 알고리즘 (Shell Sort Algorithm)"
   ]
  },
  {
   "cell_type": "code",
   "execution_count": null,
   "metadata": {},
   "outputs": [],
   "source": [
    "def shell_sort(random_list):\n",
    "    h = 1\n",
    "    while h < len(random_list):\n",
    "        h = h * 3 + 1\n",
    "    h = h // 3\n",
    "    \n",
    "    while h > 0:\n",
    "        for i in range(h):\n",
    "            start_idx = i + h\n",
    "            \n",
    "            while start_idx < len(random_list):\n",
    "                temp = random_list[start_idx]\n",
    "                insert_idx = start_idx\n",
    "                \n",
    "                while insert_idx > h - 1 and random_list[insert_idx - h] > temp:\n",
    "                    random_list[insert_idx] = random_list[insert_idx - h]\n",
    "                    insert_idx = insert_idx - h\n",
    "                    \n",
    "                random_list[insert_idx] = temp\n",
    "                start_idx = start_idx + h\n",
    "            h = h // 3\n",
    "            \n",
    "if __name__ == \"__main__\":\n",
    "    my_list = generate_list()\n",
    "    \n",
    "    print(\"정렬 전 >>> \")\n",
    "    print(my_list)\n",
    "    \n",
    "    start_time = time.time()\n",
    "    shell_sort(my_list)\n",
    "    running_time = time.time() - start_time\n",
    "    \n",
    "    print(\"정렬 후 >>> \")\n",
    "    print(my_list)            "
   ]
  },
  {
   "cell_type": "code",
   "execution_count": null,
   "metadata": {},
   "outputs": [],
   "source": []
  }
 ],
 "metadata": {
  "kernelspec": {
   "display_name": "Python 3",
   "language": "python",
   "name": "python3"
  },
  "language_info": {
   "codemirror_mode": {
    "name": "ipython",
    "version": 3
   },
   "file_extension": ".py",
   "mimetype": "text/x-python",
   "name": "python",
   "nbconvert_exporter": "python",
   "pygments_lexer": "ipython3",
   "version": "3.7.6"
  }
 },
 "nbformat": 4,
 "nbformat_minor": 4
}
