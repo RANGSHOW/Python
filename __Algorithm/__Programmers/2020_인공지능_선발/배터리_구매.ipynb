{
 "cells": [
  {
   "cell_type": "code",
   "execution_count": null,
   "metadata": {},
   "outputs": [],
   "source": [
    "def sorted_by_unit_price(battery):\n",
    "    for i in range(len(battery)):\n",
    "        min_idx = i\n",
    "        for j in range(i + 1, len(battery)):\n",
    "            if battery[min_idx][1] / battery[min_idx][0] > battery[j][1] / battery[j][0]:\n",
    "                min_idx = j\n",
    "        battery[i], battery[min_idx] = battery[min_idx], battery[i]\n",
    "    return battery\n",
    "\n",
    "def gridy_cost(battery):\n",
    "    cost = 0\n",
    "    for i in range(len(battery)):\n",
    "        while n >= battery[i][0]:\n",
    "            n -= battery[i][0]\n",
    "            cost += battery[i][1]\n",
    "        \n",
    "    \n",
    "def solution(n, battery):\n",
    "    # gridy_cost 와 요구 수량(n)을 넘는 갯수를 구매했을 때 비교 코드\n",
    "    return cost\n",
    "\n",
    "\n",
    "\n",
    "\n",
    "def unit_price_list(battery):\n",
    "    unit_price_list = []\n",
    "    for item in battery:\n",
    "        unit_price_list.append(item[1] / item[0])\n",
    "    return unit_price_list\n",
    "\n",
    "if __name__ == \"__main__\":\n",
    "    n_list = [20, 50]\n",
    "    battery_list = [[[6,30000],[3,18000],[4,28000],[1,9500]], [[10,100000],[4,35000],[1,15000]]]\n",
    "\n",
    "    for i in range(len(battery_list)):\n",
    "        \n",
    "        print(\"Before: \", battery_list[i])\n",
    "        print(\"Before: \", unit_price_list(battery_list[i]))\n",
    "        \n",
    "        print(\"After: \", sorted_by_unit_price(battery_list[i]))\n",
    "        print(\"After: \", unit_price_list(battery_list[i]))\n",
    "        \n",
    "        print(unit_price_list(battery_list[i]))\n",
    "        print('COST :', solution(n_list[i], battery_list[i]))\n",
    "        print('\\n')\n",
    "\n"
   ]
  }
 ],
 "metadata": {
  "kernelspec": {
   "display_name": "Python 3",
   "language": "python",
   "name": "python3"
  },
  "language_info": {
   "codemirror_mode": {
    "name": "ipython",
    "version": 3
   },
   "file_extension": ".py",
   "mimetype": "text/x-python",
   "name": "python",
   "nbconvert_exporter": "python",
   "pygments_lexer": "ipython3",
   "version": "3.8.5"
  }
 },
 "nbformat": 4,
 "nbformat_minor": 4
}
