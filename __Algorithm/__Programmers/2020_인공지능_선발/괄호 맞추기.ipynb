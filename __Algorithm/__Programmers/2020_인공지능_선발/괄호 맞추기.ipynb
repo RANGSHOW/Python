{
 "cells": [
  {
   "cell_type": "markdown",
   "metadata": {},
   "source": [
    "## 테스트 케이스"
   ]
  },
  {
   "cell_type": "code",
   "execution_count": 1,
   "metadata": {},
   "outputs": [],
   "source": [
    "arr1, arr2 = \t[\"()\", \"(()\", \")()\", \"()\"], [\")()\", \"()\", \"(()\"]"
   ]
  },
  {
   "cell_type": "markdown",
   "metadata": {},
   "source": [
    "## 나의 풀이"
   ]
  },
  {
   "cell_type": "code",
   "execution_count": 3,
   "metadata": {},
   "outputs": [
    {
     "name": "stdout",
     "output_type": "stream",
     "text": [
      "()()\n",
      "(())()\n",
      "()()\n"
     ]
    },
    {
     "data": {
      "text/plain": [
       "3"
      ]
     },
     "execution_count": 3,
     "metadata": {},
     "output_type": "execute_result"
    }
   ],
   "source": [
    "def is_correct(string):\n",
    "    if len(string) % 2 != 0:\n",
    "        return False\n",
    "    \n",
    "    count = 0\n",
    "    for single in string:\n",
    "        \n",
    "        if single == ')':\n",
    "            count -= 1\n",
    "        else:\n",
    "            count += 1\n",
    "        if count < 0:\n",
    "            return False\n",
    "    if count != 0:\n",
    "        return False\n",
    "    else:\n",
    "        return True\n",
    "        \n",
    "\n",
    "def solution(arr1, arr2):\n",
    "    result = 0\n",
    "    for i in range(len(arr1)):\n",
    "        for j in range(len(arr2)):\n",
    "            if is_correct(arr1[i] + arr2[j]) == True:\n",
    "                print(arr1[i] + arr2[j])\n",
    "                result += 1\n",
    "    return result\n",
    "                \n",
    "solution(arr1, arr2)"
   ]
  },
  {
   "cell_type": "code",
   "execution_count": null,
   "metadata": {},
   "outputs": [],
   "source": []
  }
 ],
 "metadata": {
  "kernelspec": {
   "display_name": "Python 3",
   "language": "python",
   "name": "python3"
  },
  "language_info": {
   "codemirror_mode": {
    "name": "ipython",
    "version": 3
   },
   "file_extension": ".py",
   "mimetype": "text/x-python",
   "name": "python",
   "nbconvert_exporter": "python",
   "pygments_lexer": "ipython3",
   "version": "3.8.5"
  }
 },
 "nbformat": 4,
 "nbformat_minor": 4
}
