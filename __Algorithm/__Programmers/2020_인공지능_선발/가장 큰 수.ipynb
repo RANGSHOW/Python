{
 "cells": [
  {
   "cell_type": "markdown",
   "metadata": {},
   "source": [
    "## 테스트 케이스"
   ]
  },
  {
   "cell_type": "code",
   "execution_count": null,
   "metadata": {},
   "outputs": [],
   "source": [
    "num = 3462"
   ]
  },
  {
   "cell_type": "markdown",
   "metadata": {},
   "source": [
    "## 나의 풀이"
   ]
  },
  {
   "cell_type": "code",
   "execution_count": 6,
   "metadata": {},
   "outputs": [
    {
     "data": {
      "text/plain": [
       "1000"
      ]
     },
     "execution_count": 6,
     "metadata": {},
     "output_type": "execute_result"
    }
   ],
   "source": [
    "num = 3462\n",
    "\n",
    "def multiple(string):\n",
    "    result = 1\n",
    "    for single in string:\n",
    "        result *= int(single)\n",
    "    return result \n",
    "\n",
    "def solution(num):\n",
    "    for number in range(num, 50000):\n",
    "        if len(str(number)) % 2 == 0:\n",
    "            mid = len(str(number)) // 2\n",
    "            front = str(number)[0:mid]\n",
    "            back = str(number)[mid:]\n",
    "            if multiple(front) == multiple(back):\n",
    "                return number\n",
    "\n",
    "solution(123)"
   ]
  },
  {
   "cell_type": "code",
   "execution_count": 8,
   "metadata": {},
   "outputs": [
    {
     "name": "stdout",
     "output_type": "stream",
     "text": [
      "6\n"
     ]
    }
   ],
   "source": [
    "c = 3\n",
    "def func(x):\n",
    "    global c\n",
    "    c = c + x\n",
    "    print(c)\n",
    "func(c)"
   ]
  },
  {
   "cell_type": "code",
   "execution_count": null,
   "metadata": {},
   "outputs": [],
   "source": []
  }
 ],
 "metadata": {
  "kernelspec": {
   "display_name": "Python 3",
   "language": "python",
   "name": "python3"
  },
  "language_info": {
   "codemirror_mode": {
    "name": "ipython",
    "version": 3
   },
   "file_extension": ".py",
   "mimetype": "text/x-python",
   "name": "python",
   "nbconvert_exporter": "python",
   "pygments_lexer": "ipython3",
   "version": "3.8.5"
  }
 },
 "nbformat": 4,
 "nbformat_minor": 4
}
