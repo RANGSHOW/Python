{
 "cells": [
  {
   "cell_type": "markdown",
   "metadata": {},
   "source": [
    "## 문제 요약"
   ]
  },
  {
   "cell_type": "code",
   "execution_count": null,
   "metadata": {},
   "outputs": [],
   "source": [
    "고속도로를 이동하는 차량의 경로 routes가 매개변수로 주어질 때, \n",
    "모든 차량이 한 번은 단속용 카메라를 만나도록 하려면 \n",
    "최소 몇 대의 카메라를 설치해야 하는지를 return 하도록 solution 함수를 완성하세요."
   ]
  },
  {
   "cell_type": "markdown",
   "metadata": {},
   "source": [
    "## 테스트 케이스"
   ]
  },
  {
   "cell_type": "code",
   "execution_count": 2,
   "metadata": {},
   "outputs": [
    {
     "ename": "SyntaxError",
     "evalue": "invalid syntax (<ipython-input-2-f8d9e3ac2d64>, line 2)",
     "output_type": "error",
     "traceback": [
      "\u001b[1;36m  File \u001b[1;32m\"<ipython-input-2-f8d9e3ac2d64>\"\u001b[1;36m, line \u001b[1;32m2\u001b[0m\n\u001b[1;33m    return = 2\u001b[0m\n\u001b[1;37m           ^\u001b[0m\n\u001b[1;31mSyntaxError\u001b[0m\u001b[1;31m:\u001b[0m invalid syntax\n"
     ]
    }
   ],
   "source": [
    "routes = [[-20,15], [-14,-5], [-18,-13], [-5,-3]]\n",
    "return = 2\n",
    "    # -5 지점에 카메라를 설치하면 두 번째, 네 번째 차량이 카메라를 만납니다.\n",
    "    # -15 지점에 카메라를 설치하면 첫 번째, 세 번째 차량이 카메라를 만납니다."
   ]
  },
  {
   "cell_type": "markdown",
   "metadata": {},
   "source": [
    "## 나의 풀이"
   ]
  },
  {
   "cell_type": "code",
   "execution_count": 9,
   "metadata": {},
   "outputs": [],
   "source": [
    "def min_time(routes):\n",
    "    min_time = 30000\n",
    "    for min, max in routes:\n",
    "        if min < min_time:\n",
    "            min_time = min\n",
    "    return min_time\n",
    "\n",
    "def max_time(routes):\n",
    "    max_time = -30000\n",
    "    for max, max in routes:\n",
    "        if max > max_time:\n",
    "            max_time = max\n",
    "    return max_time\n",
    "\n",
    "def solution():\n",
    "    \n",
    "\n",
    "if __name__ == \"__main__\":\n",
    "    pass"
   ]
  },
  {
   "cell_type": "code",
   "execution_count": 10,
   "metadata": {},
   "outputs": [
    {
     "name": "stdout",
     "output_type": "stream",
     "text": [
      "-20\n",
      "15\n"
     ]
    }
   ],
   "source": [
    "routes = [[-20,15], [-14,-5], [-18,-13], [-5,-3]]\n",
    "print(min_time(routes))\n",
    "print(max_time(routes))"
   ]
  },
  {
   "cell_type": "markdown",
   "metadata": {},
   "source": [
    "## 의도된 풀이"
   ]
  },
  {
   "cell_type": "code",
   "execution_count": null,
   "metadata": {},
   "outputs": [],
   "source": []
  },
  {
   "cell_type": "markdown",
   "metadata": {},
   "source": [
    "## 다른 풀이 1"
   ]
  },
  {
   "cell_type": "code",
   "execution_count": null,
   "metadata": {},
   "outputs": [],
   "source": []
  }
 ],
 "metadata": {
  "kernelspec": {
   "display_name": "Python 3",
   "language": "python",
   "name": "python3"
  },
  "language_info": {
   "codemirror_mode": {
    "name": "ipython",
    "version": 3
   },
   "file_extension": ".py",
   "mimetype": "text/x-python",
   "name": "python",
   "nbconvert_exporter": "python",
   "pygments_lexer": "ipython3",
   "version": "3.7.6"
  }
 },
 "nbformat": 4,
 "nbformat_minor": 4
}
