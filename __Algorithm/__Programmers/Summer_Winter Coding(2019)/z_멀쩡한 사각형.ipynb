{
 "cells": [
  {
   "cell_type": "markdown",
   "metadata": {},
   "source": [
    "## 테스트 케이스"
   ]
  },
  {
   "cell_type": "code",
   "execution_count": 2,
   "metadata": {},
   "outputs": [],
   "source": [
    "w = 8\n",
    "h = 12\n",
    "# result = 80"
   ]
  },
  {
   "cell_type": "markdown",
   "metadata": {},
   "source": [
    "## 나의 풀이"
   ]
  },
  {
   "cell_type": "code",
   "execution_count": 5,
   "metadata": {},
   "outputs": [
    {
     "data": {
      "text/plain": [
       "80"
      ]
     },
     "execution_count": 5,
     "metadata": {},
     "output_type": "execute_result"
    }
   ],
   "source": [
    "def find_gcd(w, h):\n",
    "    for i in range(w, 0, -1):\n",
    "        if w % i == 0 and h % i == 0:\n",
    "            return i\n",
    "\n",
    "def solution(w, h):\n",
    "    if w > h:\n",
    "        w, h = h, w\n",
    "    \n",
    "    gcd = find_gcd(w, h)\n",
    "    \n",
    "    unit_w = int(w / gcd)\n",
    "    unit_h = int(h / gcd)\n",
    "    \n",
    "    unit_box = unit_w * unit_h\n",
    "    unit_useless_box = int(unit_w + unit_h - 1)   \n",
    "        # 접점의 개수 -1개가 쓸모 없는 사각형의 개수\n",
    "        # (w + 1) + (h + 1) - 2 한 값이 접점의 개수\n",
    "            # 가로선의 개수 + 세로선의 개수 - 2 (시작점과 끝점에서 두 수직선이 만나므로)\n",
    "    return w * h - (unit_useless_box * gcd)    \n",
    "\n",
    "solution(w, h)"
   ]
  },
  {
   "cell_type": "markdown",
   "metadata": {},
   "source": [
    "## 의도된 풀이"
   ]
  },
  {
   "cell_type": "code",
   "execution_count": null,
   "metadata": {},
   "outputs": [],
   "source": []
  },
  {
   "cell_type": "markdown",
   "metadata": {},
   "source": [
    "## 다른 풀이 1"
   ]
  },
  {
   "cell_type": "code",
   "execution_count": 3,
   "metadata": {},
   "outputs": [
    {
     "data": {
      "text/plain": [
       "80"
      ]
     },
     "execution_count": 3,
     "metadata": {},
     "output_type": "execute_result"
    }
   ],
   "source": [
    "def gcd(a,b): return b if (a==0) else gcd(b%a,a)    \n",
    "def solution(w,h): return w*h-w-h+gcd(w,h)\n",
    "\n",
    "solution(w, h)"
   ]
  },
  {
   "cell_type": "markdown",
   "metadata": {},
   "source": [
    "## 다른 풀이 2"
   ]
  },
  {
   "cell_type": "code",
   "execution_count": null,
   "metadata": {},
   "outputs": [],
   "source": [
    "import fractions\n",
    "import math\n",
    "def solution(W,H):\n",
    "    if W > H : W, H = H, W\n",
    "    w = fractions.Fraction(H, W).denominator\n",
    "    h = fractions.Fraction(H, W).numerator \n",
    "    return W * H - (W // w) * (w * h - sum([math.floor(h * x / w) for x in range(1, w)]) * 2)\n",
    "\n"
   ]
  }
 ],
 "metadata": {
  "kernelspec": {
   "display_name": "Python 3",
   "language": "python",
   "name": "python3"
  },
  "language_info": {
   "codemirror_mode": {
    "name": "ipython",
    "version": 3
   },
   "file_extension": ".py",
   "mimetype": "text/x-python",
   "name": "python",
   "nbconvert_exporter": "python",
   "pygments_lexer": "ipython3",
   "version": "3.7.6"
  }
 },
 "nbformat": 4,
 "nbformat_minor": 4
}
