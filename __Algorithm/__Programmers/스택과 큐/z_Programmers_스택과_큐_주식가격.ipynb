{
 "cells": [
  {
   "cell_type": "markdown",
   "metadata": {},
   "source": [
    "## 테스트 케이스"
   ]
  },
  {
   "cell_type": "code",
   "execution_count": null,
   "metadata": {},
   "outputs": [],
   "source": [
    "prices\t\t\treturn\n",
    "[1, 2, 3, 2, 3]\t[4, 3, 1, 1, 0]"
   ]
  },
  {
   "cell_type": "markdown",
   "metadata": {},
   "source": [
    "## 나의 풀이"
   ]
  },
  {
   "cell_type": "code",
   "execution_count": 4,
   "metadata": {},
   "outputs": [
    {
     "name": "stdout",
     "output_type": "stream",
     "text": [
      "[4, 3, 1, 1, 0]\n"
     ]
    }
   ],
   "source": [
    "def solution(prices):\n",
    "    duration_list = []\n",
    "    for i in range(len(prices)):\n",
    "        duration = 1\n",
    "        for j in range(i + 1, len(prices) - 1):\n",
    "            if prices[i] <= prices[j]:\n",
    "                duration += 1\n",
    "            else:\n",
    "                break\n",
    "        duration_list.append(duration)\n",
    "    duration_list[-1] = 0\n",
    "    return duration_list\n",
    "\n",
    "\n",
    "if __name__ == \"__main__\":\n",
    "    prices = [1, 2, 3, 2, 3]\n",
    "    print(solution(prices))"
   ]
  },
  {
   "cell_type": "markdown",
   "metadata": {},
   "source": [
    "## 의도된 풀이"
   ]
  },
  {
   "cell_type": "code",
   "execution_count": 2,
   "metadata": {},
   "outputs": [
    {
     "name": "stdout",
     "output_type": "stream",
     "text": [
      "[4, 3, 1, 1, 0]\n"
     ]
    }
   ],
   "source": [
    "from collections import deque\n",
    "\n",
    "def solution(prices):\n",
    "    answer = []\n",
    "    prices = deque(prices)\n",
    "    while prices:\n",
    "        c = prices.popleft()\n",
    "\n",
    "        count = 0\n",
    "        for i in prices:\n",
    "            if c > i:\n",
    "                count += 1\n",
    "                break\n",
    "            count += 1\n",
    "\n",
    "        answer.append(count)\n",
    "\n",
    "    return answer\n",
    "\n",
    "if __name__ == \"__main__\":\n",
    "    prices = [1, 2, 3, 2, 3]\n",
    "    print(solution(prices))"
   ]
  },
  {
   "cell_type": "markdown",
   "metadata": {},
   "source": [
    "## 다른 풀이 1"
   ]
  },
  {
   "cell_type": "code",
   "execution_count": 3,
   "metadata": {},
   "outputs": [
    {
     "name": "stdout",
     "output_type": "stream",
     "text": [
      "[4, 3, 1, 1, 0]\n"
     ]
    }
   ],
   "source": [
    "def solution(prices):\n",
    "    duration_list = []\n",
    "    for i in range(len(prices)):\n",
    "        duration = 0\n",
    "        for j in range(i + 1, len(prices)):\n",
    "            if prices[i] <= prices[j]:\n",
    "                duration += 1\n",
    "            else:\n",
    "                duration += 1\n",
    "                break\n",
    "        duration_list.append(duration)\n",
    "    duration_list[-1] = 0\n",
    "    return duration_list\n",
    "\n",
    "\n",
    "if __name__ == \"__main__\":\n",
    "    prices = [1, 2, 3, 2, 3]\n",
    "    print(solution(prices))"
   ]
  },
  {
   "cell_type": "markdown",
   "metadata": {},
   "source": [
    "## 다른 풀이 2"
   ]
  },
  {
   "cell_type": "code",
   "execution_count": 5,
   "metadata": {},
   "outputs": [
    {
     "name": "stdout",
     "output_type": "stream",
     "text": [
      "[4, 3, 1, 1, 0]\n"
     ]
    }
   ],
   "source": [
    "def solution(p):\n",
    "    ans = [0] * len(p)\n",
    "    stack = [0]\n",
    "    for i in range(1, len(p)):\n",
    "        if p[i] < p[stack[-1]]:\n",
    "            for j in stack[::-1]:\n",
    "                if p[i] < p[j]:\n",
    "                    ans[j] = i-j\n",
    "                    stack.remove(j)\n",
    "                else:\n",
    "                    break\n",
    "        stack.append(i)\n",
    "    for i in range(0, len(stack)-1):\n",
    "        ans[stack[i]] = len(p) - stack[i] - 1\n",
    "    return ans\n",
    "\n",
    "if __name__ == \"__main__\":\n",
    "    prices = [1, 2, 3, 2, 3]\n",
    "    print(solution(prices))"
   ]
  },
  {
   "cell_type": "code",
   "execution_count": null,
   "metadata": {},
   "outputs": [],
   "source": []
  }
 ],
 "metadata": {
  "kernelspec": {
   "display_name": "Python 3",
   "language": "python",
   "name": "python3"
  },
  "language_info": {
   "codemirror_mode": {
    "name": "ipython",
    "version": 3
   },
   "file_extension": ".py",
   "mimetype": "text/x-python",
   "name": "python",
   "nbconvert_exporter": "python",
   "pygments_lexer": "ipython3",
   "version": "3.7.6"
  }
 },
 "nbformat": 4,
 "nbformat_minor": 4
}
