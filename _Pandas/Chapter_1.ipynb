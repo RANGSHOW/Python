{
 "cells": [
  {
   "cell_type": "markdown",
   "metadata": {},
   "source": [
    "# ___Time Series with Pandas___"
   ]
  },
  {
   "cell_type": "markdown",
   "metadata": {},
   "source": [
    "## ___DataTime Index___\n",
    " - #### time 또는 date 정보는 별개의 칼럼이기보다 인덱스인 경우가 많습니다.\n",
    " - #### Pandas 에 내장된 기능들로 DateTime Index를 생성하고 활용하는 방법을 다룹니다."
   ]
  },
  {
   "cell_type": "code",
   "execution_count": 5,
   "metadata": {},
   "outputs": [],
   "source": [
    "import numpy as np\n",
    "import pandas as pd\n",
    "import matplotlib.pyplot as plt"
   ]
  },
  {
   "cell_type": "code",
   "execution_count": 6,
   "metadata": {},
   "outputs": [],
   "source": [
    "from datetime import datetime"
   ]
  },
  {
   "cell_type": "code",
   "execution_count": 7,
   "metadata": {},
   "outputs": [],
   "source": [
    "today = datetime(2020, 4, 14)    # 뒤에 시, 분을 hyper parameter로 주지 않으면 0, 0으로 assign된다.\n",
    "# today = datetime(2020, 4, 14, 01, 30)"
   ]
  },
  {
   "cell_type": "code",
   "execution_count": 10,
   "metadata": {},
   "outputs": [],
   "source": [
    "dates = [datetime(2020, 4, 13), datetime(2020, 4, 14)]"
   ]
  },
  {
   "cell_type": "code",
   "execution_count": 12,
   "metadata": {},
   "outputs": [
    {
     "data": {
      "text/plain": [
       "DatetimeIndex(['2020-04-13', '2020-04-14'], dtype='datetime64[ns]', freq=None)"
      ]
     },
     "execution_count": 12,
     "metadata": {},
     "output_type": "execute_result"
    }
   ],
   "source": [
    "pd.DatetimeIndex(dates)    # 가장 기본적인 Datetime Index 생성하는 방법"
   ]
  },
  {
   "cell_type": "code",
   "execution_count": 16,
   "metadata": {},
   "outputs": [
    {
     "data": {
      "text/html": [
       "<div>\n",
       "<style scoped>\n",
       "    .dataframe tbody tr th:only-of-type {\n",
       "        vertical-align: middle;\n",
       "    }\n",
       "\n",
       "    .dataframe tbody tr th {\n",
       "        vertical-align: top;\n",
       "    }\n",
       "\n",
       "    .dataframe thead th {\n",
       "        text-align: right;\n",
       "    }\n",
       "</style>\n",
       "<table border=\"1\" class=\"dataframe\">\n",
       "  <thead>\n",
       "    <tr style=\"text-align: right;\">\n",
       "      <th></th>\n",
       "      <th>A</th>\n",
       "      <th>B</th>\n",
       "    </tr>\n",
       "  </thead>\n",
       "  <tbody>\n",
       "    <tr>\n",
       "      <th>2020-04-13</th>\n",
       "      <td>-1.452508</td>\n",
       "      <td>-0.646228</td>\n",
       "    </tr>\n",
       "    <tr>\n",
       "      <th>2020-04-14</th>\n",
       "      <td>-1.231907</td>\n",
       "      <td>0.655448</td>\n",
       "    </tr>\n",
       "  </tbody>\n",
       "</table>\n",
       "</div>"
      ],
      "text/plain": [
       "                   A         B\n",
       "2020-04-13 -1.452508 -0.646228\n",
       "2020-04-14 -1.231907  0.655448"
      ]
     },
     "execution_count": 16,
     "metadata": {},
     "output_type": "execute_result"
    }
   ],
   "source": [
    "dt_index = pd.DatetimeIndex(dates)    #dt_index == DatetimeIndex(['2020-04-13', '2020-04-14'], dtype='datetime64[ns]', freq=None)\n",
    "data = np.random.randn(2, 2)    # 임의의 2X2 데이터 생성\n",
    "cols = ['A', 'B']    # 임의의 column name 생성\n",
    "\n",
    "pd.DataFrame(data=data, index=dt_index, columns=cols)    # DataFrame 생성의 기본 형태"
   ]
  },
  {
   "cell_type": "code",
   "execution_count": null,
   "metadata": {},
   "outputs": [],
   "source": [
    "#1강 09' 17'' 부터 보시면 됩니다."
   ]
  },
  {
   "cell_type": "code",
   "execution_count": null,
   "metadata": {},
   "outputs": [],
   "source": []
  },
  {
   "cell_type": "markdown",
   "metadata": {},
   "source": [
    "## ___Time Resampling___\n",
    " - #### 시계열 데이터의 인덱스는 시(hour), 분(minutes) 등 작은 DateTime Index로 이루어진 경우도 많습니다.\n",
    " - #### 더 넓은 주기로 데이터를 집계(aggregate)해야 하는 경우 Time Resampling이 필요합니다.\n",
    " - #### groupby를 사용함으로써 Time Resampling을 수행할 수 있지만, 비지니스 도메인에서 분기나 회계년도를 편리하긴 힘듭니다.\n",
    " - #### Pandas는 이런 경우에 활용할 수 있는 frequency sampling 도구를 지원합니다."
   ]
  },
  {
   "cell_type": "markdown",
   "metadata": {},
   "source": [
    "## ___Time Shifting___\n",
    " - #### 시계열 분석 알고리즘을 사용하기 위해 데이터를 임의 시간만큼 앞 또는 뒤로 이돌시켜야 할 때가 있습니다.\n",
    " - #### Pandas는 이런 경우에도 매우 쉬운 방법을 제공합니다."
   ]
  },
  {
   "cell_type": "markdown",
   "metadata": {},
   "source": [
    "## ___Rolling and Expanding___\n",
    " - #### 매일 수집한 데이터들에는 노이즈가 포함되기도 합니다.\n",
    " - #### 이럴 경우 데이터의 일반적인 트렌드를 구하기 위해 rolling mean (또는 moving average)을 사용하기도 합니다.\n",
    " - #### Pandas 에 내장된 rolling 함수를 이용하면 주어진 시한 내 평균 (rolling mean) 등을 구할 수 있습니다.\n",
    " - #### 임의 시간 간격의 window 를 만들고 그 안에서 mean 같은 통계적 aggregation을 실행하면 됩니다."
   ]
  },
  {
   "cell_type": "code",
   "execution_count": null,
   "metadata": {},
   "outputs": [],
   "source": []
  }
 ],
 "metadata": {
  "kernelspec": {
   "display_name": "Python 3",
   "language": "python",
   "name": "python3"
  },
  "language_info": {
   "codemirror_mode": {
    "name": "ipython",
    "version": 3
   },
   "file_extension": ".py",
   "mimetype": "text/x-python",
   "name": "python",
   "nbconvert_exporter": "python",
   "pygments_lexer": "ipython3",
   "version": "3.7.6"
  }
 },
 "nbformat": 4,
 "nbformat_minor": 4
}
