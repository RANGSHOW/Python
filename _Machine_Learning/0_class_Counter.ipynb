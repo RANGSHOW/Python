{
 "cells": [
  {
   "cell_type": "code",
   "execution_count": 1,
   "metadata": {},
   "outputs": [],
   "source": [
    "class Counter(object):\n",
    "    def __init__(self, stop):\n",
    "        self.current = 0\n",
    "        self.stop = stop\n",
    "        \n",
    "    def __iter__(self):\n",
    "        return self\n",
    "    \n",
    "    def __next__(self):\n",
    "        if self.current < self.stop:\n",
    "            result = self.current\n",
    "            self.current += 1\n",
    "            return result\n",
    "        else:\n",
    "            raise StopIteration"
   ]
  },
  {
   "cell_type": "code",
   "execution_count": 8,
   "metadata": {},
   "outputs": [
    {
     "name": "stdout",
     "output_type": "stream",
     "text": [
      "0\n",
      "1\n",
      "2\n"
     ]
    }
   ],
   "source": [
    "my_counter = Counter(3)\n",
    "for _ in range(3):\n",
    "    print(my_counter.__next__())"
   ]
  },
  {
   "cell_type": "code",
   "execution_count": 10,
   "metadata": {},
   "outputs": [],
   "source": [
    "#고급 문자열 포매팅\n",
    "num = 10\n",
    "print(\"{:#^10.2f}\".format(num))\n",
    "print(len('  10.000  '))"
   ]
  },
  {
   "cell_type": "code",
   "execution_count": 1,
   "metadata": {},
   "outputs": [
    {
     "name": "stdin",
     "output_type": "stream",
     "text": [
      " 10 171\n",
      " Pop Disco Pop Disco Pop Pop Classic Rock Pop Ballad Pop Ballad Rock Rock Ballad Classic Pop Rock Rock Ballad Rock Disco Pop Pop Rock Classic Disco Classic Ballad Disco Pop Pop Ballad Rock Classic Disco Pop Pop Pop Rock Rock Pop Ballad Ballad Pop Classic Ballad Disco Disco Ballad Classic Rock Rock Ballad Rock Pop Classic Rock Disco Rock Classic Rock Classic Classic Classic Pop Pop Pop Classic Rock Classic Classic Ballad Disco Rock Pop Rock Ballad Rock Classic Classic Ballad Pop Disco Disco Ballad Disco Disco Disco Rock Classic Pop Rock Rock Classic Ballad Rock Ballad Ballad Classic Classic Disco Ballad Ballad Ballad Classic Disco Disco Pop Pop Rock Disco Rock Disco Rock Classic Pop Pop Ballad Pop Rock Ballad Ballad Disco Classic Rock Pop Classic Classic Pop Pop Disco Pop Rock Ballad Disco Disco Pop Ballad Rock Rock Disco Disco Classic Disco Disco Disco Disco Ballad Disco Ballad Ballad Ballad Classic Ballad Classic Rock Classic Disco Pop Disco Disco Ballad Ballad Disco Disco Rock Rock Rock Ballad Pop\n"
     ]
    },
    {
     "ename": "TypeError",
     "evalue": "can only concatenate str (not \"list\") to str",
     "output_type": "error",
     "traceback": [
      "\u001b[1;31m---------------------------------------------------------------------------\u001b[0m",
      "\u001b[1;31mTypeError\u001b[0m                                 Traceback (most recent call last)",
      "\u001b[1;32m<ipython-input-1-6518789fdf70>\u001b[0m in \u001b[0;36m<module>\u001b[1;34m\u001b[0m\n\u001b[0;32m     11\u001b[0m \u001b[1;31m#     themes.append(input())\u001b[0m\u001b[1;33m\u001b[0m\u001b[1;33m\u001b[0m\u001b[1;33m\u001b[0m\u001b[0m\n\u001b[0;32m     12\u001b[0m     \u001b[0mmax_ballad_idx\u001b[0m \u001b[1;33m=\u001b[0m \u001b[1;36m0\u001b[0m\u001b[1;33m\u001b[0m\u001b[1;33m\u001b[0m\u001b[0m\n\u001b[1;32m---> 13\u001b[1;33m     \u001b[0mmax_ballad_num\u001b[0m \u001b[1;33m=\u001b[0m \u001b[0mhow_much_ballad\u001b[0m\u001b[1;33m(\u001b[0m\u001b[1;36m0\u001b[0m\u001b[1;33m)\u001b[0m\u001b[1;33m\u001b[0m\u001b[1;33m\u001b[0m\u001b[0m\n\u001b[0m\u001b[0;32m     14\u001b[0m     \u001b[1;32mfor\u001b[0m \u001b[0midx\u001b[0m \u001b[1;32min\u001b[0m \u001b[0mrange\u001b[0m\u001b[1;33m(\u001b[0m\u001b[1;36m0\u001b[0m\u001b[1;33m,\u001b[0m \u001b[0mtracks\u001b[0m \u001b[1;33m-\u001b[0m \u001b[0msong_num\u001b[0m \u001b[1;33m+\u001b[0m \u001b[1;36m1\u001b[0m\u001b[1;33m)\u001b[0m\u001b[1;33m:\u001b[0m\u001b[1;33m\u001b[0m\u001b[1;33m\u001b[0m\u001b[0m\n\u001b[0;32m     15\u001b[0m          \u001b[1;32mif\u001b[0m \u001b[0mmax_ballad_num\u001b[0m \u001b[1;33m<\u001b[0m \u001b[0mhow_much_ballad\u001b[0m\u001b[1;33m(\u001b[0m\u001b[0midx\u001b[0m\u001b[1;33m)\u001b[0m\u001b[1;33m:\u001b[0m\u001b[1;33m\u001b[0m\u001b[1;33m\u001b[0m\u001b[0m\n",
      "\u001b[1;32m<ipython-input-1-6518789fdf70>\u001b[0m in \u001b[0;36mhow_much_ballad\u001b[1;34m(idx)\u001b[0m\n\u001b[0;32m      2\u001b[0m     \u001b[0msong_str\u001b[0m \u001b[1;33m=\u001b[0m \u001b[1;34m''\u001b[0m\u001b[1;33m\u001b[0m\u001b[1;33m\u001b[0m\u001b[0m\n\u001b[0;32m      3\u001b[0m     \u001b[1;32mfor\u001b[0m \u001b[0mi\u001b[0m \u001b[1;32min\u001b[0m \u001b[0mrange\u001b[0m\u001b[1;33m(\u001b[0m\u001b[0midx\u001b[0m\u001b[1;33m,\u001b[0m \u001b[0midx\u001b[0m \u001b[1;33m+\u001b[0m \u001b[0msong_num\u001b[0m\u001b[1;33m)\u001b[0m\u001b[1;33m:\u001b[0m\u001b[1;33m\u001b[0m\u001b[1;33m\u001b[0m\u001b[0m\n\u001b[1;32m----> 4\u001b[1;33m         \u001b[0msong_str\u001b[0m \u001b[1;33m+=\u001b[0m \u001b[0mthemes\u001b[0m\u001b[1;33m[\u001b[0m\u001b[0mi\u001b[0m\u001b[1;33m]\u001b[0m\u001b[1;33m\u001b[0m\u001b[1;33m\u001b[0m\u001b[0m\n\u001b[0m\u001b[0;32m      5\u001b[0m     \u001b[1;32mreturn\u001b[0m \u001b[0msong_str\u001b[0m\u001b[1;33m.\u001b[0m\u001b[0mcount\u001b[0m\u001b[1;33m(\u001b[0m\u001b[1;34m'Ballad'\u001b[0m\u001b[1;33m)\u001b[0m\u001b[1;33m\u001b[0m\u001b[1;33m\u001b[0m\u001b[0m\n\u001b[0;32m      6\u001b[0m \u001b[1;33m\u001b[0m\u001b[0m\n",
      "\u001b[1;31mTypeError\u001b[0m: can only concatenate str (not \"list\") to str"
     ]
    }
   ],
   "source": []
  },
  {
   "cell_type": "code",
   "execution_count": 2,
   "metadata": {},
   "outputs": [],
   "source": [
    "my_list = ['a', 'b', 'c']\n",
    "my_str = ''"
   ]
  },
  {
   "cell_type": "code",
   "execution_count": 3,
   "metadata": {},
   "outputs": [],
   "source": [
    "my_str += my_list[0]"
   ]
  },
  {
   "cell_type": "code",
   "execution_count": 4,
   "metadata": {},
   "outputs": [
    {
     "data": {
      "text/plain": [
       "'a'"
      ]
     },
     "execution_count": 4,
     "metadata": {},
     "output_type": "execute_result"
    }
   ],
   "source": [
    "my_str"
   ]
  },
  {
   "cell_type": "code",
   "execution_count": 5,
   "metadata": {},
   "outputs": [],
   "source": [
    "my_str += my_list[2]"
   ]
  },
  {
   "cell_type": "code",
   "execution_count": null,
   "metadata": {},
   "outputs": [],
   "source": [
    "def how_much_ballad(idx):\n",
    "    song_str = ''\n",
    "    for i in range(idx, idx + song_num):\n",
    "        song_str += str(themes[i])\n",
    "    return song_str.count('Ballad')\n",
    "\n",
    "if __name__ == \"__main__\":\n",
    "    song_num, tracks = map(int, input().split())\n",
    "    for _ in range(tracks):\n",
    "        themes.append(input())\n",
    "    max_ballad_idx = 0\n",
    "    max_ballad_num = how_much_ballad(0)\n",
    "    for idx in range(0, tracks - song_num + 1):\n",
    "         if max_ballad_num < how_much_ballad(idx):\n",
    "                max_ballad_idx = idx\n",
    "                max_ballad_num = how_much_ballad(idx)\n",
    "    if max_ballad_num == 0:\n",
    "        print(0)\n",
    "    else:\n",
    "        print(max_ballad_idx + 1)\n",
    "        "
   ]
  },
  {
   "cell_type": "code",
   "execution_count": null,
   "metadata": {},
   "outputs": [],
   "source": []
  }
 ],
 "metadata": {
  "kernelspec": {
   "display_name": "Python 3",
   "language": "python",
   "name": "python3"
  },
  "language_info": {
   "codemirror_mode": {
    "name": "ipython",
    "version": 3
   },
   "file_extension": ".py",
   "mimetype": "text/x-python",
   "name": "python",
   "nbconvert_exporter": "python",
   "pygments_lexer": "ipython3",
   "version": "3.7.6"
  }
 },
 "nbformat": 4,
 "nbformat_minor": 4
}
