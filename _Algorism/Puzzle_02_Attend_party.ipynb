{
 "cells": [
  {
   "cell_type": "code",
   "execution_count": null,
   "metadata": {},
   "outputs": [],
   "source": [
    "###self-made###\n",
    "sched = [(6, 8), (6, 12), (6, 7), (7, 8), (7, 10), (8, 9),\\\n",
    "         (8, 10), (9, 12), (9, 10), (10, 11), (10, 12), (11, 12)]\n",
    "\n",
    "times = []\n",
    "for start, end in sched:\n",
    "    for t in range(start, end):\n",
    "        times.append(t)\n",
    "time_set = set(times)\n",
    "time_dict = {time: times.count(time) for time in time_set}\n",
    "max_freq = max(time_dict.values())\n",
    "for elem in time_set:\n",
    "    if time_dict[elem] == 5:\n",
    "        max_time = elem\n",
    "print('Best time to attend the party is at',\\\n",
    "         max_time, 'o\\'clock', ':', max_freq, 'celebrities will be attending!')"
   ]
  },
  {
   "cell_type": "code",
   "execution_count": 18,
   "metadata": {},
   "outputs": [
    {
     "name": "stdout",
     "output_type": "stream",
     "text": [
      "Best time to attend the party is at 9 o'clock : 5 celebrities will be attending!\n"
     ]
    }
   ],
   "source": [
    "###textbook_method_1###: 연예인_존재_리스트[시간] == 연예인 수\n",
    "sched = [(6, 8), (6, 12), (6, 7), (7, 8), (7, 10), (8, 9),\\\n",
    "         (8, 10), (9, 12), (9, 10), (10, 11), (10, 12), (11, 12)]\n",
    "sch\n",
    "def best_time_to_party(schedule: list) -> None:\n",
    "    start = schedule[0][0]\n",
    "    end = schedule[0][1] \n",
    "    for c in schedule:\n",
    "        start = min(c[0], start)\n",
    "        end = max(c[1], end)\n",
    "    count = celebrity_density(schedule, start, end)\n",
    "    maxcount = 0\n",
    "    for i in range(start, end + 1):\n",
    "        if count[i] > maxcount:\n",
    "            maxcount = count[i]\n",
    "            time = i\n",
    "    print('Best time to attend the party is at',\\\n",
    "     time, 'o\\'clock', ':', maxcount, 'celebrities will be attending!')\n",
    "def celebrity_density(sched, start, end):\n",
    "    count = [0] * (end + 1)    #len(count) == 13\n",
    "    for i in range(start, end + 1):\n",
    "        count[i] = 0\n",
    "        for c in sched:\n",
    "            if c[0] <= i and c[1] > i:    \n",
    "                    #오는 시간(c[0])이 기준시간(i)보다 작거나 같아야하고, 가는 시간(c[1])이 기준시간보다 커야한다\n",
    "                count[i] += 1\n",
    "                    #'i'시간에 있는 손님수(count[i])를 1 증가시킨다\n",
    "    return count\n",
    "\n",
    "best_time_to_party(sched)"
   ]
  },
  {
   "cell_type": "code",
   "execution_count": 1,
   "metadata": {},
   "outputs": [
    {
     "name": "stdout",
     "output_type": "stream",
     "text": [
      "Best time to attend the party is at 0 o'clock : 0 celecbrities will be attending!\n"
     ]
    }
   ],
   "source": [
    "###textbook_method_2###:\n",
    "sched2 = [(6.0, 8.0), (6.5, 12.0), (6.5, 7.0), (7.0, 8.0), (7.5, 10.0), (8.0, 9.0),\\\n",
    "         (8.0, 10.0), (9.0, 12.0), (9.5, 10.0), (10.0, 11.0), (10.0, 12.0), (11.0, 12.0)]\n",
    "\n",
    "def best_time_to_party_smart(schedule):\n",
    "    times = []\n",
    "    for c in schedule:\n",
    "        times.append((c[0], 'start'))\n",
    "        times.append((c[1], 'end'))\n",
    "    sort_list(times)\n",
    "    maxcount, time = choose_time(times)\n",
    "    print('Best time to attend the party is at', \\\n",
    "          time, 'o\\'clock', ':', maxcount, 'celecbrities will be attending!')\n",
    "    \n",
    "def sort_list(t_list: list) -> None:\n",
    "    for ind in range(len(t_list) - 1):\n",
    "        ism = ind\n",
    "        for i in range(ind, len(t_list)):\n",
    "            if t_list[ism][0] < t_list[i][0]:\n",
    "                ism = i\n",
    "        t_list[ind], t_list[ism] = t_list[ism], t_list[ind]\n",
    "        \n",
    "def choose_time(t_list):\n",
    "    rcount = 0\n",
    "    maxcount = time = 0\n",
    "    for t in t_list:\n",
    "        if t[1] == 'start':\n",
    "            rcount = rcount + 1\n",
    "        elif t[1] == 'end':\n",
    "            rcount = rcount - 1\n",
    "        if rcount > maxcount:\n",
    "            maxcount = rcount\n",
    "            time = t[0]\n",
    "    return maxcount, time\n",
    "\n",
    "if __name__ == \"__main__\":\n",
    "    best_time_to_party_smart(sched2)"
   ]
  },
  {
   "cell_type": "code",
   "execution_count": 2,
   "metadata": {},
   "outputs": [
    {
     "name": "stdout",
     "output_type": "stream",
     "text": [
      "Best time to attend the party is at 9.5 o'clock : 5 celecbrities will be attending!\n"
     ]
    }
   ],
   "source": [
    "###self-made_textbook_method_2###\n",
    "sched2 = [(6.0, 8.0), (6.5, 12.0), (6.5, 7.0), (7.0, 8.0), (7.5, 10.0), (8.0, 9.0),\\\n",
    "         (8.0, 10.0), (9.0, 12.0), (9.5, 10.0), (10.0, 11.0), (10.0, 12.0), (11.0, 12.0)]\n",
    "            #len(sched2) == 12\n",
    "def best_time_to_party_smart(schedule):\n",
    "    times = []\n",
    "    for c in schedule:\n",
    "        times.append((c[0], 'start'))\n",
    "        times.append((c[1], 'end'))\n",
    "    sort_list(times)  \n",
    "    maxcount, time = choose_time(times)\n",
    "    print('Best time to attend the party is at', \\\n",
    "      time, 'o\\'clock', ':', maxcount, 'celecbrities will be attending!')\n",
    "    \n",
    "def sort_list(t_list: list) -> None:\n",
    "    for idx in range(len(t_list) - 1):\n",
    "        min_idx = idx\n",
    "        min_time = t_list[idx][0]\n",
    "        for idx2 in range(idx + 1, len(t_list)):\n",
    "            if t_list[idx2][0] < min_time:\n",
    "                min_idx = idx2\n",
    "                min_time = t_list[idx2][0]\n",
    "        t_list[idx], t_list[min_idx] = t_list[min_idx], t_list[idx]\n",
    "        \n",
    "def choose_time(t_list) -> tuple:\n",
    "    time_list = list(sorted(set(t_list[idx][0] for idx in range(len(t_list)))))\n",
    "    time_list.insert(0, 'dummy')\n",
    "    celeb_dict = {time_list[x]: 0 for x in range(len(time_list))}  \n",
    "    current_time = time_list[0]\n",
    "    for idx in range(len(t_list)):    #times: ('time', 'start_or_end')를 idx로 순회\n",
    "        for idx2 in range(1, len(time_list)):    #idx2로 1 ~ \n",
    "            if t_list[idx][0] == time_list[idx2]:\n",
    "                if t_list[idx][1] == 'start':\n",
    "                    for idx3 in range(idx2, len(time_list)):\n",
    "                        celeb_dict[time_list[idx3]] += 1\n",
    "\n",
    "                else:\n",
    "                    for idx3 in range(idx2, len(time_list)):\n",
    "                        celeb_dict[time_list[idx3]] -= 1\n",
    "\n",
    "    del celeb_dict['dummy']\n",
    "    max_celeb = 0\n",
    "    max_time = 0\n",
    "    for time, num_of_celeb in celeb_dict.items():\n",
    "        if num_of_celeb > max_celeb:\n",
    "            max_celeb = num_of_celeb\n",
    "            max_time = time\n",
    "    return max_celeb, max_time\n",
    "\n",
    "if __name__ == \"__main__\":\n",
    "    best_time_to_party_smart(sched2)\n"
   ]
  }
 ],
 "metadata": {
  "kernelspec": {
   "display_name": "Python 3",
   "language": "python",
   "name": "python3"
  },
  "language_info": {
   "codemirror_mode": {
    "name": "ipython",
    "version": 3
   },
   "file_extension": ".py",
   "mimetype": "text/x-python",
   "name": "python",
   "nbconvert_exporter": "python",
   "pygments_lexer": "ipython3",
   "version": "3.7.6"
  }
 },
 "nbformat": 4,
 "nbformat_minor": 4
}
