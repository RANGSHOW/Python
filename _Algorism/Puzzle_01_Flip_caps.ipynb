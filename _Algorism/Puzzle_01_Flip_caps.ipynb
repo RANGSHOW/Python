{
 "cells": [
  {
   "cell_type": "code",
   "execution_count": 8,
   "metadata": {},
   "outputs": [],
   "source": [
    "cap1 = ['F', 'F', 'B', 'B', 'B', 'F', 'B', 'B', 'B', 'F', 'F', 'B', 'F']\n",
    "cap2 = ['F', 'F', 'B', 'B', 'B', 'F', 'B', 'B', 'B', 'F', 'F', 'F', 'F']"
   ]
  },
  {
   "cell_type": "code",
   "execution_count": 9,
   "metadata": {},
   "outputs": [],
   "source": [
    "def pleaseConform(caps):\n",
    "    start = forward = backward = 0\n",
    "    intervals = []\n",
    "    for i in range(1, len(caps)):\n",
    "        if caps[start] != caps[i]:\n",
    "            intervals.append((start, i-1, caps[start]))\n",
    "            if caps[start] == 'F':\n",
    "                forward += 1\n",
    "            else:\n",
    "                backward += 1\n",
    "            start = i\n",
    "    intervals.append((start, len(caps)-1, caps[start]))\n",
    "    if caps[start] == 'F':\n",
    "        forward += 1\n",
    "    else:\n",
    "        \n",
    "        back += 1\n",
    "    if forward < backward:\n",
    "        flip = 'F'\n",
    "    else:\n",
    "        flip = 'B'\n",
    "    for t in intervals:\n",
    "        if t[2] == flip:\n",
    "            print('People in positions', t[0], 'through', t[1], 'flip your caps!')"
   ]
  },
  {
   "cell_type": "code",
   "execution_count": 12,
   "metadata": {},
   "outputs": [
    {
     "name": "stdout",
     "output_type": "stream",
     "text": [
      "People in positions 2 through 4 flip your caps!\n",
      "People in positions 6 through 8 flip your caps!\n",
      "People in positions 11 through 11 flip your caps!\n",
      "\n",
      "\n",
      "\n",
      "People in positions 2 through 4 flip your caps!\n",
      "People in positions 6 through 8 flip your caps!\n"
     ]
    }
   ],
   "source": [
    "pleaseConform(cap1)\n",
    "print('\\n\\n')\n",
    "pleaseConform(cap2)"
   ]
  }
 ],
 "metadata": {
  "kernelspec": {
   "display_name": "Python 3",
   "language": "python",
   "name": "python3"
  },
  "language_info": {
   "codemirror_mode": {
    "name": "ipython",
    "version": 3
   },
   "file_extension": ".py",
   "mimetype": "text/x-python",
   "name": "python",
   "nbconvert_exporter": "python",
   "pygments_lexer": "ipython3",
   "version": "3.7.6"
  }
 },
 "nbformat": 4,
 "nbformat_minor": 4
}
