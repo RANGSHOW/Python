{
 "cells": [
  {
   "cell_type": "markdown",
   "metadata": {},
   "source": [
    "### %time, %%time\n",
    "#### %time은 '라인'의 실행 시간을 출력하고\n",
    "#### %%time은 '셀'의 실행 시간을 출력한다"
   ]
  },
  {
   "cell_type": "markdown",
   "metadata": {},
   "source": [
    "##### 'shift + enter' -> 해당 셀을 실행하고 기존의 다음 셀로 넘어간다\n",
    "##### 'alt + enter' -> 해당셀을 실행하고 아래 새로운 셀을 생성하며 넘어간다\n"
   ]
  }
 ],
 "metadata": {
  "kernelspec": {
   "display_name": "Python 3",
   "language": "python",
   "name": "python3"
  },
  "language_info": {
   "codemirror_mode": {
    "name": "ipython",
    "version": 3
   },
   "file_extension": ".py",
   "mimetype": "text/x-python",
   "name": "python",
   "nbconvert_exporter": "python",
   "pygments_lexer": "ipython3",
   "version": "3.7.6"
  }
 },
 "nbformat": 4,
 "nbformat_minor": 4
}
